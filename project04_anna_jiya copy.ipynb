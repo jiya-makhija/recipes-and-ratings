{
 "cells": [
  {
   "cell_type": "markdown",
   "metadata": {},
   "source": [
    "# Ingredient Complexity & Recipe Ratings: A Predictive Analysis\n",
    "\n",
    "**Name(s)**: Anna Doan, Jiya Makhija\n",
    "\n",
    "**Website Link**: (https://jiya-makhija.github.io/recipes-and-ratings/)"
   ]
  },
  {
   "cell_type": "code",
   "execution_count": 2,
   "metadata": {
    "ExecuteTime": {
     "end_time": "2019-10-31T23:36:28.652554Z",
     "start_time": "2019-10-31T23:36:27.180520Z"
    }
   },
   "outputs": [],
   "source": [
    "# Importing required Libraries\n",
    "import pandas as pd\n",
    "import numpy as np\n",
    "from pathlib import Path\n",
    "\n",
    "import plotly.express as px\n",
    "pd.options.plotting.backend = 'plotly'\n",
    "\n",
    "import plotly.graph_objects as go\n",
    "import matplotlib.pyplot as plt\n",
    "import seaborn as sns\n",
    "from sklearn.model_selection import train_test_split\n",
    "from sklearn.preprocessing import StandardScaler, OneHotEncoder\n",
    "from sklearn.pipeline import Pipeline\n",
    "from sklearn.compose import ColumnTransformer\n",
    "from sklearn.ensemble import RandomForestRegressor\n",
    "from sklearn.linear_model import LinearRegression\n",
    "from sklearn.metrics import mean_squared_error\n",
    "from sklearn.model_selection import GridSearchCV\n",
    "from sklearn.feature_extraction.text import TfidfVectorizer\n",
    "#from dsc80_utils import * "
   ]
  },
  {
   "cell_type": "markdown",
   "metadata": {},
   "source": [
    "## Step 1: Introduction"
   ]
  },
  {
   "cell_type": "markdown",
   "metadata": {},
   "source": [
    "##### With millions of recipes available online, identifying what makes a recipe successful can help both home cooks and platforms enhance their content. Understanding the factors that contribute to higher-rated recipes provides insights into user preferences, guiding both individuals in their cooking choices and recipe platforms in improving engagement. Specifically, we aim to answer the question: What factors contribute to a highly-rated recipe?\n",
    "##### This project explores two datasets to examine the characteristics associated with highly-rated recipes:\n",
    "\n",
    "- ##### **`RAW_recipes.csv`**: Contains **83,782 unique recipes**, each with attributes such as preparation time, ingredients, and nutritional information.\n",
    "- ##### **`interactions.csv`**: Includes **731,927 user interactions**, capturing ratings and reviews.\n",
    "##### Several key variables from these datasets are crucial for our analysis:\n",
    "- ##### **Ingredients**: The `ingredients` column lists the components used in each recipe, while `n_ingredients` quantifies the total number of ingredients.\n",
    "- ##### **Preparation Time**: The `minutes` column specifies the time required to prepare a dish, providing insight into the role of convenience in recipe popularity.\n",
    "- ##### **User Ratings**: The `rating` column captures user evaluations of a recipe, serving as our primary measure of recipe success.\n",
    "##### A key aspect of our analysis involves testing whether the number of ingredients in a recipe influences its rating. Specifically, we examine whether recipes with 9 or fewer ingredients receive different average ratings than those with more than 9 ingredients. Our hypothesis framework is as follows:\n",
    "\n",
    "- ##### **Null Hypothesis**: The average rating of recipes with 9 or fewer ingredients is the same as that of recipes with more than 9 ingredients.\n",
    "\n",
    "- ##### **Alternative Hypothesis** : The average rating of recipes with 9 or fewer ingredients is different from that of recipes with more than 9 ingredients.\n",
    "\n",
    "##### By analyzing these factors, this project aims to identify trends in recipe ratings, offering insights into how the number of ingredients, preparation time, and other characteristics influence user preferences. Such findings could benefit both culinary content creators seeking to optimize recipe appeal and individuals searching for well-rated recipes that align with their needs and constraints."
   ]
  },
  {
   "cell_type": "markdown",
   "metadata": {},
   "source": [
    "## Step 2: Data Cleaning and Exploratory Data Analysis"
   ]
  },
  {
   "cell_type": "code",
   "execution_count": 3,
   "metadata": {
    "ExecuteTime": {
     "end_time": "2019-10-31T23:36:28.657068Z",
     "start_time": "2019-10-31T23:36:28.654650Z"
    }
   },
   "outputs": [],
   "source": [
    "# Loading datasets\n",
    "recipes = pd.read_csv(\"/Applications/ucsd/dsc80-2025-wi/projects/project04/RAW_recipes.csv\")\n",
    "interactions = pd.read_csv(\"/Applications/ucsd/dsc80-2025-wi/projects/project04/interactions.csv\")"
   ]
  },
  {
   "cell_type": "code",
   "execution_count": 4,
   "metadata": {},
   "outputs": [
    {
     "data": {
      "text/html": [
       "<div>\n",
       "<style scoped>\n",
       "    .dataframe tbody tr th:only-of-type {\n",
       "        vertical-align: middle;\n",
       "    }\n",
       "\n",
       "    .dataframe tbody tr th {\n",
       "        vertical-align: top;\n",
       "    }\n",
       "\n",
       "    .dataframe thead th {\n",
       "        text-align: right;\n",
       "    }\n",
       "</style>\n",
       "<table border=\"1\" class=\"dataframe\">\n",
       "  <thead>\n",
       "    <tr style=\"text-align: right;\">\n",
       "      <th></th>\n",
       "      <th>name</th>\n",
       "      <th>id</th>\n",
       "      <th>minutes</th>\n",
       "      <th>contributor_id</th>\n",
       "      <th>submitted</th>\n",
       "      <th>tags</th>\n",
       "      <th>n_steps</th>\n",
       "      <th>steps</th>\n",
       "      <th>description</th>\n",
       "      <th>ingredients</th>\n",
       "      <th>n_ingredients</th>\n",
       "      <th>calories</th>\n",
       "      <th>total_fat</th>\n",
       "      <th>sugar</th>\n",
       "      <th>sodium</th>\n",
       "      <th>protein</th>\n",
       "      <th>saturated_fat</th>\n",
       "      <th>carbohydrates</th>\n",
       "    </tr>\n",
       "  </thead>\n",
       "  <tbody>\n",
       "    <tr>\n",
       "      <th>0</th>\n",
       "      <td>1 brownies in the world    best ever</td>\n",
       "      <td>333281</td>\n",
       "      <td>40</td>\n",
       "      <td>985201</td>\n",
       "      <td>2008-10-27</td>\n",
       "      <td>['60-minutes-or-less', 'time-to-make', 'course...</td>\n",
       "      <td>10</td>\n",
       "      <td>['heat the oven to 350f and arrange the rack i...</td>\n",
       "      <td>these are the most; chocolatey, moist, rich, d...</td>\n",
       "      <td>['bittersweet chocolate', 'unsalted butter', '...</td>\n",
       "      <td>9</td>\n",
       "      <td>138.4</td>\n",
       "      <td>10.0</td>\n",
       "      <td>50.0</td>\n",
       "      <td>3.0</td>\n",
       "      <td>3.0</td>\n",
       "      <td>19.0</td>\n",
       "      <td>6.0</td>\n",
       "    </tr>\n",
       "    <tr>\n",
       "      <th>1</th>\n",
       "      <td>1 in canada chocolate chip cookies</td>\n",
       "      <td>453467</td>\n",
       "      <td>45</td>\n",
       "      <td>1848091</td>\n",
       "      <td>2011-04-11</td>\n",
       "      <td>['60-minutes-or-less', 'time-to-make', 'cuisin...</td>\n",
       "      <td>12</td>\n",
       "      <td>['pre-heat oven the 350 degrees f', 'in a mixi...</td>\n",
       "      <td>this is the recipe that we use at my school ca...</td>\n",
       "      <td>['white sugar', 'brown sugar', 'salt', 'margar...</td>\n",
       "      <td>11</td>\n",
       "      <td>595.1</td>\n",
       "      <td>46.0</td>\n",
       "      <td>211.0</td>\n",
       "      <td>22.0</td>\n",
       "      <td>13.0</td>\n",
       "      <td>51.0</td>\n",
       "      <td>26.0</td>\n",
       "    </tr>\n",
       "    <tr>\n",
       "      <th>2</th>\n",
       "      <td>412 broccoli casserole</td>\n",
       "      <td>306168</td>\n",
       "      <td>40</td>\n",
       "      <td>50969</td>\n",
       "      <td>2008-05-30</td>\n",
       "      <td>['60-minutes-or-less', 'time-to-make', 'course...</td>\n",
       "      <td>6</td>\n",
       "      <td>['preheat oven to 350 degrees', 'spray a 2 qua...</td>\n",
       "      <td>since there are already 411 recipes for brocco...</td>\n",
       "      <td>['frozen broccoli cuts', 'cream of chicken sou...</td>\n",
       "      <td>9</td>\n",
       "      <td>194.8</td>\n",
       "      <td>20.0</td>\n",
       "      <td>6.0</td>\n",
       "      <td>32.0</td>\n",
       "      <td>22.0</td>\n",
       "      <td>36.0</td>\n",
       "      <td>3.0</td>\n",
       "    </tr>\n",
       "    <tr>\n",
       "      <th>3</th>\n",
       "      <td>millionaire pound cake</td>\n",
       "      <td>286009</td>\n",
       "      <td>120</td>\n",
       "      <td>461724</td>\n",
       "      <td>2008-02-12</td>\n",
       "      <td>['time-to-make', 'course', 'cuisine', 'prepara...</td>\n",
       "      <td>7</td>\n",
       "      <td>['freheat the oven to 300 degrees', 'grease a ...</td>\n",
       "      <td>why a millionaire pound cake?  because it's su...</td>\n",
       "      <td>['butter', 'sugar', 'eggs', 'all-purpose flour...</td>\n",
       "      <td>7</td>\n",
       "      <td>878.3</td>\n",
       "      <td>63.0</td>\n",
       "      <td>326.0</td>\n",
       "      <td>13.0</td>\n",
       "      <td>20.0</td>\n",
       "      <td>123.0</td>\n",
       "      <td>39.0</td>\n",
       "    </tr>\n",
       "    <tr>\n",
       "      <th>4</th>\n",
       "      <td>2000 meatloaf</td>\n",
       "      <td>475785</td>\n",
       "      <td>90</td>\n",
       "      <td>2202916</td>\n",
       "      <td>2012-03-06</td>\n",
       "      <td>['time-to-make', 'course', 'main-ingredient', ...</td>\n",
       "      <td>17</td>\n",
       "      <td>['pan fry bacon , and set aside on a paper tow...</td>\n",
       "      <td>ready, set, cook! special edition contest entr...</td>\n",
       "      <td>['meatloaf mixture', 'unsmoked bacon', 'goat c...</td>\n",
       "      <td>13</td>\n",
       "      <td>267.0</td>\n",
       "      <td>30.0</td>\n",
       "      <td>12.0</td>\n",
       "      <td>12.0</td>\n",
       "      <td>29.0</td>\n",
       "      <td>48.0</td>\n",
       "      <td>2.0</td>\n",
       "    </tr>\n",
       "  </tbody>\n",
       "</table>\n",
       "</div>"
      ],
      "text/plain": [
       "                                   name      id  minutes  contributor_id  \\\n",
       "0  1 brownies in the world    best ever  333281       40          985201   \n",
       "1    1 in canada chocolate chip cookies  453467       45         1848091   \n",
       "2                412 broccoli casserole  306168       40           50969   \n",
       "3                millionaire pound cake  286009      120          461724   \n",
       "4                         2000 meatloaf  475785       90         2202916   \n",
       "\n",
       "    submitted                                               tags  n_steps  \\\n",
       "0  2008-10-27  ['60-minutes-or-less', 'time-to-make', 'course...       10   \n",
       "1  2011-04-11  ['60-minutes-or-less', 'time-to-make', 'cuisin...       12   \n",
       "2  2008-05-30  ['60-minutes-or-less', 'time-to-make', 'course...        6   \n",
       "3  2008-02-12  ['time-to-make', 'course', 'cuisine', 'prepara...        7   \n",
       "4  2012-03-06  ['time-to-make', 'course', 'main-ingredient', ...       17   \n",
       "\n",
       "                                               steps  \\\n",
       "0  ['heat the oven to 350f and arrange the rack i...   \n",
       "1  ['pre-heat oven the 350 degrees f', 'in a mixi...   \n",
       "2  ['preheat oven to 350 degrees', 'spray a 2 qua...   \n",
       "3  ['freheat the oven to 300 degrees', 'grease a ...   \n",
       "4  ['pan fry bacon , and set aside on a paper tow...   \n",
       "\n",
       "                                         description  \\\n",
       "0  these are the most; chocolatey, moist, rich, d...   \n",
       "1  this is the recipe that we use at my school ca...   \n",
       "2  since there are already 411 recipes for brocco...   \n",
       "3  why a millionaire pound cake?  because it's su...   \n",
       "4  ready, set, cook! special edition contest entr...   \n",
       "\n",
       "                                         ingredients  n_ingredients  calories  \\\n",
       "0  ['bittersweet chocolate', 'unsalted butter', '...              9     138.4   \n",
       "1  ['white sugar', 'brown sugar', 'salt', 'margar...             11     595.1   \n",
       "2  ['frozen broccoli cuts', 'cream of chicken sou...              9     194.8   \n",
       "3  ['butter', 'sugar', 'eggs', 'all-purpose flour...              7     878.3   \n",
       "4  ['meatloaf mixture', 'unsmoked bacon', 'goat c...             13     267.0   \n",
       "\n",
       "   total_fat  sugar  sodium  protein  saturated_fat  carbohydrates  \n",
       "0       10.0   50.0     3.0      3.0           19.0            6.0  \n",
       "1       46.0  211.0    22.0     13.0           51.0           26.0  \n",
       "2       20.0    6.0    32.0     22.0           36.0            3.0  \n",
       "3       63.0  326.0    13.0     20.0          123.0           39.0  \n",
       "4       30.0   12.0    12.0     29.0           48.0            2.0  "
      ]
     },
     "execution_count": 4,
     "metadata": {},
     "output_type": "execute_result"
    }
   ],
   "source": [
    "# Cleaning Data\n",
    "# Breaking down the 'nutrition' column into different nutritional components\n",
    "recipes[[\"calories\", \"total_fat\", \"sugar\", \"sodium\", \"protein\", \"saturated_fat\", \"carbohydrates\"]] = recipes[\"nutrition\"].str.extract(r\"\\[(.*)\\]\").iloc[:, 0].str.split(\",\", expand=True)\n",
    "recipes[[\"calories\", \"total_fat\", \"sugar\", \"sodium\", \"protein\", \"saturated_fat\", \"carbohydrates\"]] = recipes[[\"calories\", \"total_fat\", \"sugar\", \"sodium\", \"protein\", \"saturated_fat\", \"carbohydrates\"]].astype(float)\n",
    "recipes.drop(columns=[\"nutrition\"], inplace=True)\n",
    "\n",
    "recipes.head()"
   ]
  },
  {
   "cell_type": "code",
   "execution_count": 5,
   "metadata": {},
   "outputs": [
    {
     "data": {
      "text/html": [
       "<div>\n",
       "<style scoped>\n",
       "    .dataframe tbody tr th:only-of-type {\n",
       "        vertical-align: middle;\n",
       "    }\n",
       "\n",
       "    .dataframe tbody tr th {\n",
       "        vertical-align: top;\n",
       "    }\n",
       "\n",
       "    .dataframe thead th {\n",
       "        text-align: right;\n",
       "    }\n",
       "</style>\n",
       "<table border=\"1\" class=\"dataframe\">\n",
       "  <thead>\n",
       "    <tr style=\"text-align: right;\">\n",
       "      <th></th>\n",
       "      <th>user_id</th>\n",
       "      <th>recipe_id</th>\n",
       "      <th>date</th>\n",
       "      <th>rating</th>\n",
       "      <th>review</th>\n",
       "    </tr>\n",
       "  </thead>\n",
       "  <tbody>\n",
       "    <tr>\n",
       "      <th>0</th>\n",
       "      <td>1293707</td>\n",
       "      <td>40893</td>\n",
       "      <td>2011-12-21</td>\n",
       "      <td>5</td>\n",
       "      <td>So simple, so delicious! Great for chilly fall...</td>\n",
       "    </tr>\n",
       "    <tr>\n",
       "      <th>1</th>\n",
       "      <td>126440</td>\n",
       "      <td>85009</td>\n",
       "      <td>2010-02-27</td>\n",
       "      <td>5</td>\n",
       "      <td>I made the Mexican topping and took it to bunk...</td>\n",
       "    </tr>\n",
       "    <tr>\n",
       "      <th>2</th>\n",
       "      <td>57222</td>\n",
       "      <td>85009</td>\n",
       "      <td>2011-10-01</td>\n",
       "      <td>5</td>\n",
       "      <td>Made the cheddar bacon topping, adding a sprin...</td>\n",
       "    </tr>\n",
       "    <tr>\n",
       "      <th>3</th>\n",
       "      <td>124416</td>\n",
       "      <td>120345</td>\n",
       "      <td>2011-08-06</td>\n",
       "      <td>0</td>\n",
       "      <td>Just an observation, so I will not rate.  I fo...</td>\n",
       "    </tr>\n",
       "    <tr>\n",
       "      <th>4</th>\n",
       "      <td>2000192946</td>\n",
       "      <td>120345</td>\n",
       "      <td>2015-05-10</td>\n",
       "      <td>2</td>\n",
       "      <td>This recipe was OVERLY too sweet.  I would sta...</td>\n",
       "    </tr>\n",
       "  </tbody>\n",
       "</table>\n",
       "</div>"
      ],
      "text/plain": [
       "      user_id  recipe_id        date  rating  \\\n",
       "0     1293707      40893  2011-12-21       5   \n",
       "1      126440      85009  2010-02-27       5   \n",
       "2       57222      85009  2011-10-01       5   \n",
       "3      124416     120345  2011-08-06       0   \n",
       "4  2000192946     120345  2015-05-10       2   \n",
       "\n",
       "                                              review  \n",
       "0  So simple, so delicious! Great for chilly fall...  \n",
       "1  I made the Mexican topping and took it to bunk...  \n",
       "2  Made the cheddar bacon topping, adding a sprin...  \n",
       "3  Just an observation, so I will not rate.  I fo...  \n",
       "4  This recipe was OVERLY too sweet.  I would sta...  "
      ]
     },
     "execution_count": 5,
     "metadata": {},
     "output_type": "execute_result"
    }
   ],
   "source": [
    "interactions.head()"
   ]
  },
  {
   "cell_type": "code",
   "execution_count": 6,
   "metadata": {},
   "outputs": [],
   "source": [
    "# Merging these 2 datasets\n",
    "merged_df = recipes.merge(interactions, left_on=\"id\", right_on=\"recipe_id\", how=\"left\")"
   ]
  },
  {
   "cell_type": "code",
   "execution_count": 7,
   "metadata": {},
   "outputs": [
    {
     "data": {
      "text/html": [
       "<div>\n",
       "<style scoped>\n",
       "    .dataframe tbody tr th:only-of-type {\n",
       "        vertical-align: middle;\n",
       "    }\n",
       "\n",
       "    .dataframe tbody tr th {\n",
       "        vertical-align: top;\n",
       "    }\n",
       "\n",
       "    .dataframe thead th {\n",
       "        text-align: right;\n",
       "    }\n",
       "</style>\n",
       "<table border=\"1\" class=\"dataframe\">\n",
       "  <thead>\n",
       "    <tr style=\"text-align: right;\">\n",
       "      <th></th>\n",
       "      <th>name</th>\n",
       "      <th>id</th>\n",
       "      <th>minutes</th>\n",
       "      <th>contributor_id</th>\n",
       "      <th>submitted</th>\n",
       "      <th>tags</th>\n",
       "      <th>n_steps</th>\n",
       "      <th>steps</th>\n",
       "      <th>description</th>\n",
       "      <th>ingredients</th>\n",
       "      <th>...</th>\n",
       "      <th>sugar</th>\n",
       "      <th>sodium</th>\n",
       "      <th>protein</th>\n",
       "      <th>saturated_fat</th>\n",
       "      <th>carbohydrates</th>\n",
       "      <th>user_id</th>\n",
       "      <th>recipe_id</th>\n",
       "      <th>date</th>\n",
       "      <th>rating</th>\n",
       "      <th>review</th>\n",
       "    </tr>\n",
       "  </thead>\n",
       "  <tbody>\n",
       "    <tr>\n",
       "      <th>0</th>\n",
       "      <td>1 brownies in the world    best ever</td>\n",
       "      <td>333281</td>\n",
       "      <td>40</td>\n",
       "      <td>985201</td>\n",
       "      <td>2008-10-27</td>\n",
       "      <td>['60-minutes-or-less', 'time-to-make', 'course...</td>\n",
       "      <td>10</td>\n",
       "      <td>['heat the oven to 350f and arrange the rack i...</td>\n",
       "      <td>these are the most; chocolatey, moist, rich, d...</td>\n",
       "      <td>['bittersweet chocolate', 'unsalted butter', '...</td>\n",
       "      <td>...</td>\n",
       "      <td>50.0</td>\n",
       "      <td>3.0</td>\n",
       "      <td>3.0</td>\n",
       "      <td>19.0</td>\n",
       "      <td>6.0</td>\n",
       "      <td>3.865850e+05</td>\n",
       "      <td>333281.0</td>\n",
       "      <td>2008-11-19</td>\n",
       "      <td>4.0</td>\n",
       "      <td>These were pretty good, but took forever to ba...</td>\n",
       "    </tr>\n",
       "    <tr>\n",
       "      <th>1</th>\n",
       "      <td>1 in canada chocolate chip cookies</td>\n",
       "      <td>453467</td>\n",
       "      <td>45</td>\n",
       "      <td>1848091</td>\n",
       "      <td>2011-04-11</td>\n",
       "      <td>['60-minutes-or-less', 'time-to-make', 'cuisin...</td>\n",
       "      <td>12</td>\n",
       "      <td>['pre-heat oven the 350 degrees f', 'in a mixi...</td>\n",
       "      <td>this is the recipe that we use at my school ca...</td>\n",
       "      <td>['white sugar', 'brown sugar', 'salt', 'margar...</td>\n",
       "      <td>...</td>\n",
       "      <td>211.0</td>\n",
       "      <td>22.0</td>\n",
       "      <td>13.0</td>\n",
       "      <td>51.0</td>\n",
       "      <td>26.0</td>\n",
       "      <td>4.246800e+05</td>\n",
       "      <td>453467.0</td>\n",
       "      <td>2012-01-26</td>\n",
       "      <td>5.0</td>\n",
       "      <td>Originally I was gonna cut the recipe in half ...</td>\n",
       "    </tr>\n",
       "    <tr>\n",
       "      <th>2</th>\n",
       "      <td>412 broccoli casserole</td>\n",
       "      <td>306168</td>\n",
       "      <td>40</td>\n",
       "      <td>50969</td>\n",
       "      <td>2008-05-30</td>\n",
       "      <td>['60-minutes-or-less', 'time-to-make', 'course...</td>\n",
       "      <td>6</td>\n",
       "      <td>['preheat oven to 350 degrees', 'spray a 2 qua...</td>\n",
       "      <td>since there are already 411 recipes for brocco...</td>\n",
       "      <td>['frozen broccoli cuts', 'cream of chicken sou...</td>\n",
       "      <td>...</td>\n",
       "      <td>6.0</td>\n",
       "      <td>32.0</td>\n",
       "      <td>22.0</td>\n",
       "      <td>36.0</td>\n",
       "      <td>3.0</td>\n",
       "      <td>2.978200e+04</td>\n",
       "      <td>306168.0</td>\n",
       "      <td>2008-12-31</td>\n",
       "      <td>5.0</td>\n",
       "      <td>This was one of the best broccoli casseroles t...</td>\n",
       "    </tr>\n",
       "    <tr>\n",
       "      <th>3</th>\n",
       "      <td>412 broccoli casserole</td>\n",
       "      <td>306168</td>\n",
       "      <td>40</td>\n",
       "      <td>50969</td>\n",
       "      <td>2008-05-30</td>\n",
       "      <td>['60-minutes-or-less', 'time-to-make', 'course...</td>\n",
       "      <td>6</td>\n",
       "      <td>['preheat oven to 350 degrees', 'spray a 2 qua...</td>\n",
       "      <td>since there are already 411 recipes for brocco...</td>\n",
       "      <td>['frozen broccoli cuts', 'cream of chicken sou...</td>\n",
       "      <td>...</td>\n",
       "      <td>6.0</td>\n",
       "      <td>32.0</td>\n",
       "      <td>22.0</td>\n",
       "      <td>36.0</td>\n",
       "      <td>3.0</td>\n",
       "      <td>1.196280e+06</td>\n",
       "      <td>306168.0</td>\n",
       "      <td>2009-04-13</td>\n",
       "      <td>5.0</td>\n",
       "      <td>I made this for my son's first birthday party ...</td>\n",
       "    </tr>\n",
       "    <tr>\n",
       "      <th>4</th>\n",
       "      <td>412 broccoli casserole</td>\n",
       "      <td>306168</td>\n",
       "      <td>40</td>\n",
       "      <td>50969</td>\n",
       "      <td>2008-05-30</td>\n",
       "      <td>['60-minutes-or-less', 'time-to-make', 'course...</td>\n",
       "      <td>6</td>\n",
       "      <td>['preheat oven to 350 degrees', 'spray a 2 qua...</td>\n",
       "      <td>since there are already 411 recipes for brocco...</td>\n",
       "      <td>['frozen broccoli cuts', 'cream of chicken sou...</td>\n",
       "      <td>...</td>\n",
       "      <td>6.0</td>\n",
       "      <td>32.0</td>\n",
       "      <td>22.0</td>\n",
       "      <td>36.0</td>\n",
       "      <td>3.0</td>\n",
       "      <td>7.688280e+05</td>\n",
       "      <td>306168.0</td>\n",
       "      <td>2013-08-02</td>\n",
       "      <td>5.0</td>\n",
       "      <td>Loved this.  Be sure to completely thaw the br...</td>\n",
       "    </tr>\n",
       "    <tr>\n",
       "      <th>...</th>\n",
       "      <td>...</td>\n",
       "      <td>...</td>\n",
       "      <td>...</td>\n",
       "      <td>...</td>\n",
       "      <td>...</td>\n",
       "      <td>...</td>\n",
       "      <td>...</td>\n",
       "      <td>...</td>\n",
       "      <td>...</td>\n",
       "      <td>...</td>\n",
       "      <td>...</td>\n",
       "      <td>...</td>\n",
       "      <td>...</td>\n",
       "      <td>...</td>\n",
       "      <td>...</td>\n",
       "      <td>...</td>\n",
       "      <td>...</td>\n",
       "      <td>...</td>\n",
       "      <td>...</td>\n",
       "      <td>...</td>\n",
       "      <td>...</td>\n",
       "    </tr>\n",
       "    <tr>\n",
       "      <th>234424</th>\n",
       "      <td>zydeco ya ya deviled eggs</td>\n",
       "      <td>308080</td>\n",
       "      <td>40</td>\n",
       "      <td>37779</td>\n",
       "      <td>2008-06-07</td>\n",
       "      <td>['60-minutes-or-less', 'time-to-make', 'course...</td>\n",
       "      <td>7</td>\n",
       "      <td>['in a bowl , combine the mashed yolks and may...</td>\n",
       "      <td>deviled eggs, cajun-style</td>\n",
       "      <td>['hard-cooked eggs', 'mayonnaise', 'dijon must...</td>\n",
       "      <td>...</td>\n",
       "      <td>2.0</td>\n",
       "      <td>3.0</td>\n",
       "      <td>6.0</td>\n",
       "      <td>5.0</td>\n",
       "      <td>0.0</td>\n",
       "      <td>8.445540e+05</td>\n",
       "      <td>308080.0</td>\n",
       "      <td>2009-10-14</td>\n",
       "      <td>5.0</td>\n",
       "      <td>These were very good. I meant to add some jala...</td>\n",
       "    </tr>\n",
       "    <tr>\n",
       "      <th>234425</th>\n",
       "      <td>cookies by design   cookies on a stick</td>\n",
       "      <td>298512</td>\n",
       "      <td>29</td>\n",
       "      <td>506822</td>\n",
       "      <td>2008-04-15</td>\n",
       "      <td>['30-minutes-or-less', 'time-to-make', 'course...</td>\n",
       "      <td>9</td>\n",
       "      <td>['place melted butter in a large mixing bowl a...</td>\n",
       "      <td>i've heard of the 'cookies by design' company,...</td>\n",
       "      <td>['butter', 'eagle brand condensed milk', 'ligh...</td>\n",
       "      <td>...</td>\n",
       "      <td>57.0</td>\n",
       "      <td>11.0</td>\n",
       "      <td>7.0</td>\n",
       "      <td>21.0</td>\n",
       "      <td>9.0</td>\n",
       "      <td>8.042340e+05</td>\n",
       "      <td>298512.0</td>\n",
       "      <td>2008-05-02</td>\n",
       "      <td>1.0</td>\n",
       "      <td>I would rate this a zero if I could. I followe...</td>\n",
       "    </tr>\n",
       "    <tr>\n",
       "      <th>234426</th>\n",
       "      <td>cookies by design   sugar shortbread cookies</td>\n",
       "      <td>298509</td>\n",
       "      <td>20</td>\n",
       "      <td>506822</td>\n",
       "      <td>2008-04-15</td>\n",
       "      <td>['30-minutes-or-less', 'time-to-make', 'course...</td>\n",
       "      <td>5</td>\n",
       "      <td>['whip sugar and shortening in a large bowl , ...</td>\n",
       "      <td>i've heard of the 'cookies by design' company,...</td>\n",
       "      <td>['granulated sugar', 'shortening', 'eggs', 'fl...</td>\n",
       "      <td>...</td>\n",
       "      <td>33.0</td>\n",
       "      <td>4.0</td>\n",
       "      <td>4.0</td>\n",
       "      <td>11.0</td>\n",
       "      <td>6.0</td>\n",
       "      <td>8.666510e+05</td>\n",
       "      <td>298509.0</td>\n",
       "      <td>2008-06-19</td>\n",
       "      <td>1.0</td>\n",
       "      <td>This recipe tastes nothing like the Cookies by...</td>\n",
       "    </tr>\n",
       "    <tr>\n",
       "      <th>234427</th>\n",
       "      <td>cookies by design   sugar shortbread cookies</td>\n",
       "      <td>298509</td>\n",
       "      <td>20</td>\n",
       "      <td>506822</td>\n",
       "      <td>2008-04-15</td>\n",
       "      <td>['30-minutes-or-less', 'time-to-make', 'course...</td>\n",
       "      <td>5</td>\n",
       "      <td>['whip sugar and shortening in a large bowl , ...</td>\n",
       "      <td>i've heard of the 'cookies by design' company,...</td>\n",
       "      <td>['granulated sugar', 'shortening', 'eggs', 'fl...</td>\n",
       "      <td>...</td>\n",
       "      <td>33.0</td>\n",
       "      <td>4.0</td>\n",
       "      <td>4.0</td>\n",
       "      <td>11.0</td>\n",
       "      <td>6.0</td>\n",
       "      <td>1.546277e+06</td>\n",
       "      <td>298509.0</td>\n",
       "      <td>2010-02-08</td>\n",
       "      <td>5.0</td>\n",
       "      <td>yummy cookies, i love this recipe me and my sm...</td>\n",
       "    </tr>\n",
       "    <tr>\n",
       "      <th>234428</th>\n",
       "      <td>cookies by design   sugar shortbread cookies</td>\n",
       "      <td>298509</td>\n",
       "      <td>20</td>\n",
       "      <td>506822</td>\n",
       "      <td>2008-04-15</td>\n",
       "      <td>['30-minutes-or-less', 'time-to-make', 'course...</td>\n",
       "      <td>5</td>\n",
       "      <td>['whip sugar and shortening in a large bowl , ...</td>\n",
       "      <td>i've heard of the 'cookies by design' company,...</td>\n",
       "      <td>['granulated sugar', 'shortening', 'eggs', 'fl...</td>\n",
       "      <td>...</td>\n",
       "      <td>33.0</td>\n",
       "      <td>4.0</td>\n",
       "      <td>4.0</td>\n",
       "      <td>11.0</td>\n",
       "      <td>6.0</td>\n",
       "      <td>1.803288e+09</td>\n",
       "      <td>298509.0</td>\n",
       "      <td>2014-11-01</td>\n",
       "      <td>0.0</td>\n",
       "      <td>I work at a Cookies By Design and can say this...</td>\n",
       "    </tr>\n",
       "  </tbody>\n",
       "</table>\n",
       "<p>234429 rows × 23 columns</p>\n",
       "</div>"
      ],
      "text/plain": [
       "                                                name      id  minutes  \\\n",
       "0               1 brownies in the world    best ever  333281       40   \n",
       "1                 1 in canada chocolate chip cookies  453467       45   \n",
       "2                             412 broccoli casserole  306168       40   \n",
       "3                             412 broccoli casserole  306168       40   \n",
       "4                             412 broccoli casserole  306168       40   \n",
       "...                                              ...     ...      ...   \n",
       "234424                     zydeco ya ya deviled eggs  308080       40   \n",
       "234425        cookies by design   cookies on a stick  298512       29   \n",
       "234426  cookies by design   sugar shortbread cookies  298509       20   \n",
       "234427  cookies by design   sugar shortbread cookies  298509       20   \n",
       "234428  cookies by design   sugar shortbread cookies  298509       20   \n",
       "\n",
       "        contributor_id   submitted  \\\n",
       "0               985201  2008-10-27   \n",
       "1              1848091  2011-04-11   \n",
       "2                50969  2008-05-30   \n",
       "3                50969  2008-05-30   \n",
       "4                50969  2008-05-30   \n",
       "...                ...         ...   \n",
       "234424           37779  2008-06-07   \n",
       "234425          506822  2008-04-15   \n",
       "234426          506822  2008-04-15   \n",
       "234427          506822  2008-04-15   \n",
       "234428          506822  2008-04-15   \n",
       "\n",
       "                                                     tags  n_steps  \\\n",
       "0       ['60-minutes-or-less', 'time-to-make', 'course...       10   \n",
       "1       ['60-minutes-or-less', 'time-to-make', 'cuisin...       12   \n",
       "2       ['60-minutes-or-less', 'time-to-make', 'course...        6   \n",
       "3       ['60-minutes-or-less', 'time-to-make', 'course...        6   \n",
       "4       ['60-minutes-or-less', 'time-to-make', 'course...        6   \n",
       "...                                                   ...      ...   \n",
       "234424  ['60-minutes-or-less', 'time-to-make', 'course...        7   \n",
       "234425  ['30-minutes-or-less', 'time-to-make', 'course...        9   \n",
       "234426  ['30-minutes-or-less', 'time-to-make', 'course...        5   \n",
       "234427  ['30-minutes-or-less', 'time-to-make', 'course...        5   \n",
       "234428  ['30-minutes-or-less', 'time-to-make', 'course...        5   \n",
       "\n",
       "                                                    steps  \\\n",
       "0       ['heat the oven to 350f and arrange the rack i...   \n",
       "1       ['pre-heat oven the 350 degrees f', 'in a mixi...   \n",
       "2       ['preheat oven to 350 degrees', 'spray a 2 qua...   \n",
       "3       ['preheat oven to 350 degrees', 'spray a 2 qua...   \n",
       "4       ['preheat oven to 350 degrees', 'spray a 2 qua...   \n",
       "...                                                   ...   \n",
       "234424  ['in a bowl , combine the mashed yolks and may...   \n",
       "234425  ['place melted butter in a large mixing bowl a...   \n",
       "234426  ['whip sugar and shortening in a large bowl , ...   \n",
       "234427  ['whip sugar and shortening in a large bowl , ...   \n",
       "234428  ['whip sugar and shortening in a large bowl , ...   \n",
       "\n",
       "                                              description  \\\n",
       "0       these are the most; chocolatey, moist, rich, d...   \n",
       "1       this is the recipe that we use at my school ca...   \n",
       "2       since there are already 411 recipes for brocco...   \n",
       "3       since there are already 411 recipes for brocco...   \n",
       "4       since there are already 411 recipes for brocco...   \n",
       "...                                                   ...   \n",
       "234424                          deviled eggs, cajun-style   \n",
       "234425  i've heard of the 'cookies by design' company,...   \n",
       "234426  i've heard of the 'cookies by design' company,...   \n",
       "234427  i've heard of the 'cookies by design' company,...   \n",
       "234428  i've heard of the 'cookies by design' company,...   \n",
       "\n",
       "                                              ingredients  ...  sugar  sodium  \\\n",
       "0       ['bittersweet chocolate', 'unsalted butter', '...  ...   50.0     3.0   \n",
       "1       ['white sugar', 'brown sugar', 'salt', 'margar...  ...  211.0    22.0   \n",
       "2       ['frozen broccoli cuts', 'cream of chicken sou...  ...    6.0    32.0   \n",
       "3       ['frozen broccoli cuts', 'cream of chicken sou...  ...    6.0    32.0   \n",
       "4       ['frozen broccoli cuts', 'cream of chicken sou...  ...    6.0    32.0   \n",
       "...                                                   ...  ...    ...     ...   \n",
       "234424  ['hard-cooked eggs', 'mayonnaise', 'dijon must...  ...    2.0     3.0   \n",
       "234425  ['butter', 'eagle brand condensed milk', 'ligh...  ...   57.0    11.0   \n",
       "234426  ['granulated sugar', 'shortening', 'eggs', 'fl...  ...   33.0     4.0   \n",
       "234427  ['granulated sugar', 'shortening', 'eggs', 'fl...  ...   33.0     4.0   \n",
       "234428  ['granulated sugar', 'shortening', 'eggs', 'fl...  ...   33.0     4.0   \n",
       "\n",
       "        protein  saturated_fat  carbohydrates       user_id  recipe_id  \\\n",
       "0           3.0           19.0            6.0  3.865850e+05   333281.0   \n",
       "1          13.0           51.0           26.0  4.246800e+05   453467.0   \n",
       "2          22.0           36.0            3.0  2.978200e+04   306168.0   \n",
       "3          22.0           36.0            3.0  1.196280e+06   306168.0   \n",
       "4          22.0           36.0            3.0  7.688280e+05   306168.0   \n",
       "...         ...            ...            ...           ...        ...   \n",
       "234424      6.0            5.0            0.0  8.445540e+05   308080.0   \n",
       "234425      7.0           21.0            9.0  8.042340e+05   298512.0   \n",
       "234426      4.0           11.0            6.0  8.666510e+05   298509.0   \n",
       "234427      4.0           11.0            6.0  1.546277e+06   298509.0   \n",
       "234428      4.0           11.0            6.0  1.803288e+09   298509.0   \n",
       "\n",
       "              date  rating                                             review  \n",
       "0       2008-11-19     4.0  These were pretty good, but took forever to ba...  \n",
       "1       2012-01-26     5.0  Originally I was gonna cut the recipe in half ...  \n",
       "2       2008-12-31     5.0  This was one of the best broccoli casseroles t...  \n",
       "3       2009-04-13     5.0  I made this for my son's first birthday party ...  \n",
       "4       2013-08-02     5.0  Loved this.  Be sure to completely thaw the br...  \n",
       "...            ...     ...                                                ...  \n",
       "234424  2009-10-14     5.0  These were very good. I meant to add some jala...  \n",
       "234425  2008-05-02     1.0  I would rate this a zero if I could. I followe...  \n",
       "234426  2008-06-19     1.0  This recipe tastes nothing like the Cookies by...  \n",
       "234427  2010-02-08     5.0  yummy cookies, i love this recipe me and my sm...  \n",
       "234428  2014-11-01     0.0  I work at a Cookies By Design and can say this...  \n",
       "\n",
       "[234429 rows x 23 columns]"
      ]
     },
     "execution_count": 7,
     "metadata": {},
     "output_type": "execute_result"
    }
   ],
   "source": [
    "merged_df"
   ]
  },
  {
   "cell_type": "code",
   "execution_count": 8,
   "metadata": {},
   "outputs": [],
   "source": [
    "merged_df['submitted'] = pd.to_datetime(merged_df['submitted'])\n",
    "merged_df['date'] = pd.to_datetime(merged_df['date'])"
   ]
  },
  {
   "cell_type": "code",
   "execution_count": 9,
   "metadata": {},
   "outputs": [],
   "source": [
    "merged_df[\"rating\"] = merged_df[\"rating\"].replace(0, np.nan)"
   ]
  },
  {
   "cell_type": "code",
   "execution_count": 10,
   "metadata": {},
   "outputs": [
    {
     "data": {
      "text/html": [
       "<div>\n",
       "<style scoped>\n",
       "    .dataframe tbody tr th:only-of-type {\n",
       "        vertical-align: middle;\n",
       "    }\n",
       "\n",
       "    .dataframe tbody tr th {\n",
       "        vertical-align: top;\n",
       "    }\n",
       "\n",
       "    .dataframe thead th {\n",
       "        text-align: right;\n",
       "    }\n",
       "</style>\n",
       "<table border=\"1\" class=\"dataframe\">\n",
       "  <thead>\n",
       "    <tr style=\"text-align: right;\">\n",
       "      <th></th>\n",
       "      <th>name</th>\n",
       "      <th>id</th>\n",
       "      <th>minutes</th>\n",
       "      <th>contributor_id</th>\n",
       "      <th>submitted</th>\n",
       "      <th>tags</th>\n",
       "      <th>n_steps</th>\n",
       "      <th>steps</th>\n",
       "      <th>description</th>\n",
       "      <th>ingredients</th>\n",
       "      <th>...</th>\n",
       "      <th>sugar</th>\n",
       "      <th>sodium</th>\n",
       "      <th>protein</th>\n",
       "      <th>saturated_fat</th>\n",
       "      <th>carbohydrates</th>\n",
       "      <th>user_id</th>\n",
       "      <th>recipe_id</th>\n",
       "      <th>date</th>\n",
       "      <th>rating</th>\n",
       "      <th>review</th>\n",
       "    </tr>\n",
       "  </thead>\n",
       "  <tbody>\n",
       "    <tr>\n",
       "      <th>0</th>\n",
       "      <td>1 brownies in the world    best ever</td>\n",
       "      <td>333281</td>\n",
       "      <td>40</td>\n",
       "      <td>985201</td>\n",
       "      <td>2008-10-27</td>\n",
       "      <td>['60-minutes-or-less', 'time-to-make', 'course...</td>\n",
       "      <td>10</td>\n",
       "      <td>['heat the oven to 350f and arrange the rack i...</td>\n",
       "      <td>these are the most; chocolatey, moist, rich, d...</td>\n",
       "      <td>['bittersweet chocolate', 'unsalted butter', '...</td>\n",
       "      <td>...</td>\n",
       "      <td>50.0</td>\n",
       "      <td>3.0</td>\n",
       "      <td>3.0</td>\n",
       "      <td>19.0</td>\n",
       "      <td>6.0</td>\n",
       "      <td>3.865850e+05</td>\n",
       "      <td>333281.0</td>\n",
       "      <td>2008-11-19</td>\n",
       "      <td>4.0</td>\n",
       "      <td>These were pretty good, but took forever to ba...</td>\n",
       "    </tr>\n",
       "    <tr>\n",
       "      <th>1</th>\n",
       "      <td>1 in canada chocolate chip cookies</td>\n",
       "      <td>453467</td>\n",
       "      <td>45</td>\n",
       "      <td>1848091</td>\n",
       "      <td>2011-04-11</td>\n",
       "      <td>['60-minutes-or-less', 'time-to-make', 'cuisin...</td>\n",
       "      <td>12</td>\n",
       "      <td>['pre-heat oven the 350 degrees f', 'in a mixi...</td>\n",
       "      <td>this is the recipe that we use at my school ca...</td>\n",
       "      <td>['white sugar', 'brown sugar', 'salt', 'margar...</td>\n",
       "      <td>...</td>\n",
       "      <td>211.0</td>\n",
       "      <td>22.0</td>\n",
       "      <td>13.0</td>\n",
       "      <td>51.0</td>\n",
       "      <td>26.0</td>\n",
       "      <td>4.246800e+05</td>\n",
       "      <td>453467.0</td>\n",
       "      <td>2012-01-26</td>\n",
       "      <td>5.0</td>\n",
       "      <td>Originally I was gonna cut the recipe in half ...</td>\n",
       "    </tr>\n",
       "    <tr>\n",
       "      <th>2</th>\n",
       "      <td>412 broccoli casserole</td>\n",
       "      <td>306168</td>\n",
       "      <td>40</td>\n",
       "      <td>50969</td>\n",
       "      <td>2008-05-30</td>\n",
       "      <td>['60-minutes-or-less', 'time-to-make', 'course...</td>\n",
       "      <td>6</td>\n",
       "      <td>['preheat oven to 350 degrees', 'spray a 2 qua...</td>\n",
       "      <td>since there are already 411 recipes for brocco...</td>\n",
       "      <td>['frozen broccoli cuts', 'cream of chicken sou...</td>\n",
       "      <td>...</td>\n",
       "      <td>6.0</td>\n",
       "      <td>32.0</td>\n",
       "      <td>22.0</td>\n",
       "      <td>36.0</td>\n",
       "      <td>3.0</td>\n",
       "      <td>2.978200e+04</td>\n",
       "      <td>306168.0</td>\n",
       "      <td>2008-12-31</td>\n",
       "      <td>5.0</td>\n",
       "      <td>This was one of the best broccoli casseroles t...</td>\n",
       "    </tr>\n",
       "    <tr>\n",
       "      <th>3</th>\n",
       "      <td>412 broccoli casserole</td>\n",
       "      <td>306168</td>\n",
       "      <td>40</td>\n",
       "      <td>50969</td>\n",
       "      <td>2008-05-30</td>\n",
       "      <td>['60-minutes-or-less', 'time-to-make', 'course...</td>\n",
       "      <td>6</td>\n",
       "      <td>['preheat oven to 350 degrees', 'spray a 2 qua...</td>\n",
       "      <td>since there are already 411 recipes for brocco...</td>\n",
       "      <td>['frozen broccoli cuts', 'cream of chicken sou...</td>\n",
       "      <td>...</td>\n",
       "      <td>6.0</td>\n",
       "      <td>32.0</td>\n",
       "      <td>22.0</td>\n",
       "      <td>36.0</td>\n",
       "      <td>3.0</td>\n",
       "      <td>1.196280e+06</td>\n",
       "      <td>306168.0</td>\n",
       "      <td>2009-04-13</td>\n",
       "      <td>5.0</td>\n",
       "      <td>I made this for my son's first birthday party ...</td>\n",
       "    </tr>\n",
       "    <tr>\n",
       "      <th>4</th>\n",
       "      <td>412 broccoli casserole</td>\n",
       "      <td>306168</td>\n",
       "      <td>40</td>\n",
       "      <td>50969</td>\n",
       "      <td>2008-05-30</td>\n",
       "      <td>['60-minutes-or-less', 'time-to-make', 'course...</td>\n",
       "      <td>6</td>\n",
       "      <td>['preheat oven to 350 degrees', 'spray a 2 qua...</td>\n",
       "      <td>since there are already 411 recipes for brocco...</td>\n",
       "      <td>['frozen broccoli cuts', 'cream of chicken sou...</td>\n",
       "      <td>...</td>\n",
       "      <td>6.0</td>\n",
       "      <td>32.0</td>\n",
       "      <td>22.0</td>\n",
       "      <td>36.0</td>\n",
       "      <td>3.0</td>\n",
       "      <td>7.688280e+05</td>\n",
       "      <td>306168.0</td>\n",
       "      <td>2013-08-02</td>\n",
       "      <td>5.0</td>\n",
       "      <td>Loved this.  Be sure to completely thaw the br...</td>\n",
       "    </tr>\n",
       "    <tr>\n",
       "      <th>...</th>\n",
       "      <td>...</td>\n",
       "      <td>...</td>\n",
       "      <td>...</td>\n",
       "      <td>...</td>\n",
       "      <td>...</td>\n",
       "      <td>...</td>\n",
       "      <td>...</td>\n",
       "      <td>...</td>\n",
       "      <td>...</td>\n",
       "      <td>...</td>\n",
       "      <td>...</td>\n",
       "      <td>...</td>\n",
       "      <td>...</td>\n",
       "      <td>...</td>\n",
       "      <td>...</td>\n",
       "      <td>...</td>\n",
       "      <td>...</td>\n",
       "      <td>...</td>\n",
       "      <td>...</td>\n",
       "      <td>...</td>\n",
       "      <td>...</td>\n",
       "    </tr>\n",
       "    <tr>\n",
       "      <th>234424</th>\n",
       "      <td>zydeco ya ya deviled eggs</td>\n",
       "      <td>308080</td>\n",
       "      <td>40</td>\n",
       "      <td>37779</td>\n",
       "      <td>2008-06-07</td>\n",
       "      <td>['60-minutes-or-less', 'time-to-make', 'course...</td>\n",
       "      <td>7</td>\n",
       "      <td>['in a bowl , combine the mashed yolks and may...</td>\n",
       "      <td>deviled eggs, cajun-style</td>\n",
       "      <td>['hard-cooked eggs', 'mayonnaise', 'dijon must...</td>\n",
       "      <td>...</td>\n",
       "      <td>2.0</td>\n",
       "      <td>3.0</td>\n",
       "      <td>6.0</td>\n",
       "      <td>5.0</td>\n",
       "      <td>0.0</td>\n",
       "      <td>8.445540e+05</td>\n",
       "      <td>308080.0</td>\n",
       "      <td>2009-10-14</td>\n",
       "      <td>5.0</td>\n",
       "      <td>These were very good. I meant to add some jala...</td>\n",
       "    </tr>\n",
       "    <tr>\n",
       "      <th>234425</th>\n",
       "      <td>cookies by design   cookies on a stick</td>\n",
       "      <td>298512</td>\n",
       "      <td>29</td>\n",
       "      <td>506822</td>\n",
       "      <td>2008-04-15</td>\n",
       "      <td>['30-minutes-or-less', 'time-to-make', 'course...</td>\n",
       "      <td>9</td>\n",
       "      <td>['place melted butter in a large mixing bowl a...</td>\n",
       "      <td>i've heard of the 'cookies by design' company,...</td>\n",
       "      <td>['butter', 'eagle brand condensed milk', 'ligh...</td>\n",
       "      <td>...</td>\n",
       "      <td>57.0</td>\n",
       "      <td>11.0</td>\n",
       "      <td>7.0</td>\n",
       "      <td>21.0</td>\n",
       "      <td>9.0</td>\n",
       "      <td>8.042340e+05</td>\n",
       "      <td>298512.0</td>\n",
       "      <td>2008-05-02</td>\n",
       "      <td>1.0</td>\n",
       "      <td>I would rate this a zero if I could. I followe...</td>\n",
       "    </tr>\n",
       "    <tr>\n",
       "      <th>234426</th>\n",
       "      <td>cookies by design   sugar shortbread cookies</td>\n",
       "      <td>298509</td>\n",
       "      <td>20</td>\n",
       "      <td>506822</td>\n",
       "      <td>2008-04-15</td>\n",
       "      <td>['30-minutes-or-less', 'time-to-make', 'course...</td>\n",
       "      <td>5</td>\n",
       "      <td>['whip sugar and shortening in a large bowl , ...</td>\n",
       "      <td>i've heard of the 'cookies by design' company,...</td>\n",
       "      <td>['granulated sugar', 'shortening', 'eggs', 'fl...</td>\n",
       "      <td>...</td>\n",
       "      <td>33.0</td>\n",
       "      <td>4.0</td>\n",
       "      <td>4.0</td>\n",
       "      <td>11.0</td>\n",
       "      <td>6.0</td>\n",
       "      <td>8.666510e+05</td>\n",
       "      <td>298509.0</td>\n",
       "      <td>2008-06-19</td>\n",
       "      <td>1.0</td>\n",
       "      <td>This recipe tastes nothing like the Cookies by...</td>\n",
       "    </tr>\n",
       "    <tr>\n",
       "      <th>234427</th>\n",
       "      <td>cookies by design   sugar shortbread cookies</td>\n",
       "      <td>298509</td>\n",
       "      <td>20</td>\n",
       "      <td>506822</td>\n",
       "      <td>2008-04-15</td>\n",
       "      <td>['30-minutes-or-less', 'time-to-make', 'course...</td>\n",
       "      <td>5</td>\n",
       "      <td>['whip sugar and shortening in a large bowl , ...</td>\n",
       "      <td>i've heard of the 'cookies by design' company,...</td>\n",
       "      <td>['granulated sugar', 'shortening', 'eggs', 'fl...</td>\n",
       "      <td>...</td>\n",
       "      <td>33.0</td>\n",
       "      <td>4.0</td>\n",
       "      <td>4.0</td>\n",
       "      <td>11.0</td>\n",
       "      <td>6.0</td>\n",
       "      <td>1.546277e+06</td>\n",
       "      <td>298509.0</td>\n",
       "      <td>2010-02-08</td>\n",
       "      <td>5.0</td>\n",
       "      <td>yummy cookies, i love this recipe me and my sm...</td>\n",
       "    </tr>\n",
       "    <tr>\n",
       "      <th>234428</th>\n",
       "      <td>cookies by design   sugar shortbread cookies</td>\n",
       "      <td>298509</td>\n",
       "      <td>20</td>\n",
       "      <td>506822</td>\n",
       "      <td>2008-04-15</td>\n",
       "      <td>['30-minutes-or-less', 'time-to-make', 'course...</td>\n",
       "      <td>5</td>\n",
       "      <td>['whip sugar and shortening in a large bowl , ...</td>\n",
       "      <td>i've heard of the 'cookies by design' company,...</td>\n",
       "      <td>['granulated sugar', 'shortening', 'eggs', 'fl...</td>\n",
       "      <td>...</td>\n",
       "      <td>33.0</td>\n",
       "      <td>4.0</td>\n",
       "      <td>4.0</td>\n",
       "      <td>11.0</td>\n",
       "      <td>6.0</td>\n",
       "      <td>1.803288e+09</td>\n",
       "      <td>298509.0</td>\n",
       "      <td>2014-11-01</td>\n",
       "      <td>NaN</td>\n",
       "      <td>I work at a Cookies By Design and can say this...</td>\n",
       "    </tr>\n",
       "  </tbody>\n",
       "</table>\n",
       "<p>234429 rows × 23 columns</p>\n",
       "</div>"
      ],
      "text/plain": [
       "                                                name      id  minutes  \\\n",
       "0               1 brownies in the world    best ever  333281       40   \n",
       "1                 1 in canada chocolate chip cookies  453467       45   \n",
       "2                             412 broccoli casserole  306168       40   \n",
       "3                             412 broccoli casserole  306168       40   \n",
       "4                             412 broccoli casserole  306168       40   \n",
       "...                                              ...     ...      ...   \n",
       "234424                     zydeco ya ya deviled eggs  308080       40   \n",
       "234425        cookies by design   cookies on a stick  298512       29   \n",
       "234426  cookies by design   sugar shortbread cookies  298509       20   \n",
       "234427  cookies by design   sugar shortbread cookies  298509       20   \n",
       "234428  cookies by design   sugar shortbread cookies  298509       20   \n",
       "\n",
       "        contributor_id  submitted  \\\n",
       "0               985201 2008-10-27   \n",
       "1              1848091 2011-04-11   \n",
       "2                50969 2008-05-30   \n",
       "3                50969 2008-05-30   \n",
       "4                50969 2008-05-30   \n",
       "...                ...        ...   \n",
       "234424           37779 2008-06-07   \n",
       "234425          506822 2008-04-15   \n",
       "234426          506822 2008-04-15   \n",
       "234427          506822 2008-04-15   \n",
       "234428          506822 2008-04-15   \n",
       "\n",
       "                                                     tags  n_steps  \\\n",
       "0       ['60-minutes-or-less', 'time-to-make', 'course...       10   \n",
       "1       ['60-minutes-or-less', 'time-to-make', 'cuisin...       12   \n",
       "2       ['60-minutes-or-less', 'time-to-make', 'course...        6   \n",
       "3       ['60-minutes-or-less', 'time-to-make', 'course...        6   \n",
       "4       ['60-minutes-or-less', 'time-to-make', 'course...        6   \n",
       "...                                                   ...      ...   \n",
       "234424  ['60-minutes-or-less', 'time-to-make', 'course...        7   \n",
       "234425  ['30-minutes-or-less', 'time-to-make', 'course...        9   \n",
       "234426  ['30-minutes-or-less', 'time-to-make', 'course...        5   \n",
       "234427  ['30-minutes-or-less', 'time-to-make', 'course...        5   \n",
       "234428  ['30-minutes-or-less', 'time-to-make', 'course...        5   \n",
       "\n",
       "                                                    steps  \\\n",
       "0       ['heat the oven to 350f and arrange the rack i...   \n",
       "1       ['pre-heat oven the 350 degrees f', 'in a mixi...   \n",
       "2       ['preheat oven to 350 degrees', 'spray a 2 qua...   \n",
       "3       ['preheat oven to 350 degrees', 'spray a 2 qua...   \n",
       "4       ['preheat oven to 350 degrees', 'spray a 2 qua...   \n",
       "...                                                   ...   \n",
       "234424  ['in a bowl , combine the mashed yolks and may...   \n",
       "234425  ['place melted butter in a large mixing bowl a...   \n",
       "234426  ['whip sugar and shortening in a large bowl , ...   \n",
       "234427  ['whip sugar and shortening in a large bowl , ...   \n",
       "234428  ['whip sugar and shortening in a large bowl , ...   \n",
       "\n",
       "                                              description  \\\n",
       "0       these are the most; chocolatey, moist, rich, d...   \n",
       "1       this is the recipe that we use at my school ca...   \n",
       "2       since there are already 411 recipes for brocco...   \n",
       "3       since there are already 411 recipes for brocco...   \n",
       "4       since there are already 411 recipes for brocco...   \n",
       "...                                                   ...   \n",
       "234424                          deviled eggs, cajun-style   \n",
       "234425  i've heard of the 'cookies by design' company,...   \n",
       "234426  i've heard of the 'cookies by design' company,...   \n",
       "234427  i've heard of the 'cookies by design' company,...   \n",
       "234428  i've heard of the 'cookies by design' company,...   \n",
       "\n",
       "                                              ingredients  ...  sugar  sodium  \\\n",
       "0       ['bittersweet chocolate', 'unsalted butter', '...  ...   50.0     3.0   \n",
       "1       ['white sugar', 'brown sugar', 'salt', 'margar...  ...  211.0    22.0   \n",
       "2       ['frozen broccoli cuts', 'cream of chicken sou...  ...    6.0    32.0   \n",
       "3       ['frozen broccoli cuts', 'cream of chicken sou...  ...    6.0    32.0   \n",
       "4       ['frozen broccoli cuts', 'cream of chicken sou...  ...    6.0    32.0   \n",
       "...                                                   ...  ...    ...     ...   \n",
       "234424  ['hard-cooked eggs', 'mayonnaise', 'dijon must...  ...    2.0     3.0   \n",
       "234425  ['butter', 'eagle brand condensed milk', 'ligh...  ...   57.0    11.0   \n",
       "234426  ['granulated sugar', 'shortening', 'eggs', 'fl...  ...   33.0     4.0   \n",
       "234427  ['granulated sugar', 'shortening', 'eggs', 'fl...  ...   33.0     4.0   \n",
       "234428  ['granulated sugar', 'shortening', 'eggs', 'fl...  ...   33.0     4.0   \n",
       "\n",
       "        protein  saturated_fat  carbohydrates       user_id  recipe_id  \\\n",
       "0           3.0           19.0            6.0  3.865850e+05   333281.0   \n",
       "1          13.0           51.0           26.0  4.246800e+05   453467.0   \n",
       "2          22.0           36.0            3.0  2.978200e+04   306168.0   \n",
       "3          22.0           36.0            3.0  1.196280e+06   306168.0   \n",
       "4          22.0           36.0            3.0  7.688280e+05   306168.0   \n",
       "...         ...            ...            ...           ...        ...   \n",
       "234424      6.0            5.0            0.0  8.445540e+05   308080.0   \n",
       "234425      7.0           21.0            9.0  8.042340e+05   298512.0   \n",
       "234426      4.0           11.0            6.0  8.666510e+05   298509.0   \n",
       "234427      4.0           11.0            6.0  1.546277e+06   298509.0   \n",
       "234428      4.0           11.0            6.0  1.803288e+09   298509.0   \n",
       "\n",
       "             date  rating                                             review  \n",
       "0      2008-11-19     4.0  These were pretty good, but took forever to ba...  \n",
       "1      2012-01-26     5.0  Originally I was gonna cut the recipe in half ...  \n",
       "2      2008-12-31     5.0  This was one of the best broccoli casseroles t...  \n",
       "3      2009-04-13     5.0  I made this for my son's first birthday party ...  \n",
       "4      2013-08-02     5.0  Loved this.  Be sure to completely thaw the br...  \n",
       "...           ...     ...                                                ...  \n",
       "234424 2009-10-14     5.0  These were very good. I meant to add some jala...  \n",
       "234425 2008-05-02     1.0  I would rate this a zero if I could. I followe...  \n",
       "234426 2008-06-19     1.0  This recipe tastes nothing like the Cookies by...  \n",
       "234427 2010-02-08     5.0  yummy cookies, i love this recipe me and my sm...  \n",
       "234428 2014-11-01     NaN  I work at a Cookies By Design and can say this...  \n",
       "\n",
       "[234429 rows x 23 columns]"
      ]
     },
     "execution_count": 10,
     "metadata": {},
     "output_type": "execute_result"
    }
   ],
   "source": [
    "merged_df"
   ]
  },
  {
   "cell_type": "code",
   "execution_count": 11,
   "metadata": {},
   "outputs": [],
   "source": [
    "average_rating = merged_df.groupby(\"id\")[\"rating\"].mean()\n",
    "merged_df = merged_df.merge(average_rating, on=\"id\", how=\"left\")\n",
    "merged_df.rename(columns={\"rating_x\": \"rating\"}, inplace=True)\n",
    "merged_df.rename(columns={\"rating_y\": \"average_rating\"}, inplace=True)"
   ]
  },
  {
   "cell_type": "code",
   "execution_count": 12,
   "metadata": {},
   "outputs": [
    {
     "data": {
      "text/plain": [
       "id\n",
       "275022    3.0\n",
       "275024    3.0\n",
       "275026    3.0\n",
       "275030    5.0\n",
       "275032    5.0\n",
       "         ... \n",
       "537459    5.0\n",
       "537485    5.0\n",
       "537543    NaN\n",
       "537671    NaN\n",
       "537716    5.0\n",
       "Name: rating, Length: 83782, dtype: float64"
      ]
     },
     "execution_count": 12,
     "metadata": {},
     "output_type": "execute_result"
    }
   ],
   "source": [
    "average_rating"
   ]
  },
  {
   "cell_type": "code",
   "execution_count": 13,
   "metadata": {},
   "outputs": [],
   "source": [
    "merged_df[\"ingredient_complexity\"] = merged_df[\"n_ingredients\"].apply(lambda x: \"Simple\" if x <= 9 else \"Complex\")"
   ]
  },
  {
   "cell_type": "code",
   "execution_count": 14,
   "metadata": {},
   "outputs": [
    {
     "name": "stdout",
     "output_type": "stream",
     "text": [
      "<class 'pandas.core.frame.DataFrame'>\n",
      "RangeIndex: 234429 entries, 0 to 234428\n",
      "Data columns (total 25 columns):\n",
      " #   Column                 Non-Null Count   Dtype         \n",
      "---  ------                 --------------   -----         \n",
      " 0   name                   234428 non-null  object        \n",
      " 1   id                     234429 non-null  int64         \n",
      " 2   minutes                234429 non-null  int64         \n",
      " 3   contributor_id         234429 non-null  int64         \n",
      " 4   submitted              234429 non-null  datetime64[ns]\n",
      " 5   tags                   234429 non-null  object        \n",
      " 6   n_steps                234429 non-null  int64         \n",
      " 7   steps                  234429 non-null  object        \n",
      " 8   description            234315 non-null  object        \n",
      " 9   ingredients            234429 non-null  object        \n",
      " 10  n_ingredients          234429 non-null  int64         \n",
      " 11  calories               234429 non-null  float64       \n",
      " 12  total_fat              234429 non-null  float64       \n",
      " 13  sugar                  234429 non-null  float64       \n",
      " 14  sodium                 234429 non-null  float64       \n",
      " 15  protein                234429 non-null  float64       \n",
      " 16  saturated_fat          234429 non-null  float64       \n",
      " 17  carbohydrates          234429 non-null  float64       \n",
      " 18  user_id                234428 non-null  float64       \n",
      " 19  recipe_id              234428 non-null  float64       \n",
      " 20  date                   234428 non-null  datetime64[ns]\n",
      " 21  rating                 219393 non-null  float64       \n",
      " 22  review                 234371 non-null  object        \n",
      " 23  average_rating         231652 non-null  float64       \n",
      " 24  ingredient_complexity  234429 non-null  object        \n",
      "dtypes: datetime64[ns](2), float64(11), int64(5), object(7)\n",
      "memory usage: 44.7+ MB\n"
     ]
    }
   ],
   "source": [
    "# Understanding our data\n",
    "merged_df.info()"
   ]
  },
  {
   "cell_type": "markdown",
   "metadata": {},
   "source": [
    "#### Univariate Analysis"
   ]
  },
  {
   "cell_type": "code",
   "execution_count": 15,
   "metadata": {},
   "outputs": [
    {
     "data": {
      "image/png": "[encoded data removed]",
      "text/plain": [
       "<Figure size 800x400 with 1 Axes>"
      ]
     },
     "metadata": {},
     "output_type": "display_data"
    }
   ],
   "source": [
    "plt.figure(figsize=(8, 4))\n",
    "sns.histplot(merged_df[\"n_steps\"], bins=20, kde=True)\n",
    "plt.title(\"Distribution of Number of Steps in Recipes\")\n",
    "plt.xlabel(\"Number of Steps\")\n",
    "plt.ylabel(\"Count\")\n",
    "plt.show()"
   ]
  },
  {
   "cell_type": "code",
   "execution_count": 16,
   "metadata": {},
   "outputs": [
    {
     "data": {
      "image/png": "[encoded data removed]",
      "text/plain": [
       "<Figure size 1200x1000 with 4 Axes>"
      ]
     },
     "metadata": {},
     "output_type": "display_data"
    }
   ],
   "source": [
    "fig, axes = plt.subplots(2, 2, figsize=(12, 10))\n",
    "\n",
    "# Distribution of cooking time (minutes)\n",
    "sns.histplot(recipes[\"minutes\"], bins=50, kde=True, ax=axes[0, 0])\n",
    "axes[0, 0].set_title(\"Distribution of Cooking Time (Minutes)\")\n",
    "axes[0, 0].set_xlabel(\"Minutes\")\n",
    "\n",
    "# Distribution of number of steps\n",
    "sns.histplot(recipes[\"n_steps\"], bins=30, kde=True, ax=axes[0, 1])\n",
    "axes[0, 1].set_title(\"Distribution of Number of Steps\")\n",
    "axes[0, 1].set_xlabel(\"Number of Steps\")\n",
    "\n",
    "# Distribution of number of ingredients\n",
    "sns.histplot(recipes[\"n_ingredients\"], bins=20, kde=True, ax=axes[1, 0])\n",
    "axes[1, 0].set_title(\"Distribution of Number of Ingredients\")\n",
    "\n",
    "# Distribution of ratings\n",
    "sns.histplot(interactions[\"rating\"], bins=5, discrete=True, kde=False, ax=axes[1, 1])\n",
    "axes[1, 1].set_title(\"Distribution of Ratings\")\n",
    "axes[1, 1].set_xlabel(\"Rating\")\n",
    "\n",
    "plt.tight_layout()\n",
    "plt.show()"
   ]
  },
  {
   "cell_type": "markdown",
   "metadata": {},
   "source": [
    "#### Bivariate Analysis"
   ]
  },
  {
   "cell_type": "code",
   "execution_count": 17,
   "metadata": {},
   "outputs": [
    {
     "data": {
      "image/png": "[encoded data removed]",
      "text/plain": [
       "<Figure size 1400x600 with 2 Axes>"
      ]
     },
     "metadata": {},
     "output_type": "display_data"
    }
   ],
   "source": [
    "fig, axes = plt.subplots(1, 2, figsize=(14, 6))\n",
    "\n",
    "# Scatter plot: Cooking time vs. Number of ingredients\n",
    "sns.scatterplot(x=recipes[\"minutes\"], y=recipes[\"n_ingredients\"], alpha=0.3, ax=axes[0])\n",
    "axes[0].set_title(\"Cooking Time vs. Number of Ingredients\")\n",
    "axes[0].set_xlabel(\"Minutes\")\n",
    "axes[0].set_ylabel(\"Number of Ingredients\")\n",
    "\n",
    "# Box plot: Number of steps vs. Rating\n",
    "sns.boxplot(x=merged_df[\"rating\"], y=merged_df[\"n_steps\"], ax=axes[1])\n",
    "axes[1].set_title(\"Number of Steps vs. Rating\")\n",
    "axes[1].set_xlabel(\"Rating\")\n",
    "axes[1].set_ylabel(\"Number of Steps\")\n",
    "\n",
    "\n",
    "plt.tight_layout()\n",
    "plt.show()"
   ]
  },
  {
   "cell_type": "code",
   "execution_count": 18,
   "metadata": {},
   "outputs": [],
   "source": [
    "custom_font = \"Times New Roman\"\n",
    "title_font_size = 18\n",
    "axis_font_size = 14\n",
    "legend_font_size = 12\n",
    "\n",
    "fig1 = go.Figure()\n",
    "fig1.add_trace(go.Histogram(x=recipes[\"minutes\"], nbinsx=50, marker_color=\"dodgerblue\"))\n",
    "fig1.update_layout(title=\"Distribution of Cooking Time (Minutes)\",\n",
    "                   xaxis_title=\"Minutes\",\n",
    "                   yaxis_title=\"Count\",\n",
    "                   font=dict(family=custom_font, size=axis_font_size),\n",
    "                   title_font_size=title_font_size,\n",
    "                   template=\"plotly_white\",\n",
    "                   annotations=[\n",
    "                       dict(x=max(recipes[\"minutes\"]), y=5, text=\"Longer cooking times are less frequent\",\n",
    "                            showarrow=True, arrowhead=2)\n",
    "                   ])\n",
    "\n",
    "fig2 = go.Figure()\n",
    "fig2.add_trace(go.Histogram(x=recipes[\"n_steps\"], nbinsx=30, marker_color=\"seagreen\"))\n",
    "fig2.update_layout(title=\"Distribution of Number of Steps\",\n",
    "                   xaxis_title=\"Number of Steps\",\n",
    "                   yaxis_title=\"Count\",\n",
    "                   font=dict(family=custom_font, size=axis_font_size),\n",
    "                   title_font_size=title_font_size,\n",
    "                   template=\"plotly_white\")\n",
    "\n",
    "fig3 = go.Figure()\n",
    "fig3.add_trace(go.Histogram(x=recipes[\"n_ingredients\"], nbinsx=20, marker_color=\"purple\"))\n",
    "fig3.update_layout(title=\"Distribution of Number of Ingredients\",\n",
    "                   xaxis_title=\"Number of Ingredients\",\n",
    "                   yaxis_title=\"Count\",\n",
    "                   font=dict(family=custom_font, size=axis_font_size),\n",
    "                   title_font_size=title_font_size,\n",
    "                   template=\"plotly_white\")\n",
    "\n",
    "fig4 = go.Figure()\n",
    "fig4.add_trace(go.Histogram(x=interactions[\"rating\"], nbinsx=5, marker_color=\"crimson\"))\n",
    "fig4.update_layout(title=\"Distribution of Ratings\",\n",
    "                   xaxis_title=\"Rating\",\n",
    "                   yaxis_title=\"Count\",\n",
    "                   font=dict(family=custom_font, size=axis_font_size),\n",
    "                   title_font_size=title_font_size,\n",
    "                   template=\"plotly_white\")\n",
    "\n",
    "fig5 = px.scatter(recipes, x=\"minutes\", y=\"n_ingredients\", color=\"n_ingredients\",\n",
    "                  color_continuous_scale=\"Viridis\", title=\"Cooking Time vs. Number of Ingredients\")\n",
    "fig5.update_layout(xaxis_title=\"Minutes\", yaxis_title=\"Number of Ingredients\",\n",
    "                   font=dict(family=custom_font, size=axis_font_size),\n",
    "                   title_font_size=title_font_size, template=\"plotly_white\")\n",
    "\n",
    "fig6 = px.box(merged_df, x=\"rating\", y=\"n_steps\", color=\"rating\",\n",
    "              color_discrete_sequence=px.colors.qualitative.Bold, title=\"Number of Steps vs. Rating\")\n",
    "fig6.update_layout(xaxis_title=\"Rating\", yaxis_title=\"Number of Steps\",\n",
    "                   font=dict(family=custom_font, size=axis_font_size),\n",
    "                   title_font_size=title_font_size, template=\"plotly_white\")\n",
    "\n",
    "\n",
    "fig1.write_html(\"assets/distribution_cooking_time.html\", include_plotlyjs='cdn')\n",
    "fig2.write_html(\"assets/distribution_n_steps.html\", include_plotlyjs='cdn')\n",
    "fig3.write_html(\"assets/distribution_n_ingredients.html\", include_plotlyjs='cdn')\n",
    "fig4.write_html(\"assets/distribution_ratings.html\", include_plotlyjs='cdn')\n",
    "fig5.write_html(\"assets/cooking_time_vs_ingredients.html\", include_plotlyjs='cdn')\n",
    "fig6.write_html(\"assets/steps_vs_rating.html\", include_plotlyjs='cdn')\n",
    "\n",
    "html_files = {\n",
    "    \"distribution_cooking_time\": \"assets/distribution_cooking_time.html\",\n",
    "    \"distribution_n_steps\": \"assets/distribution_n_steps.html\",\n",
    "    \"distribution_n_ingredients\": \"assets/distribution_n_ingredients.html\",\n",
    "    \"distribution_ratings\": \"assets/distribution_ratings.html\",\n",
    "    \"cooking_time_vs_ingredients\": \"assets/cooking_time_vs_ingredients.html\",\n",
    "    \"steps_vs_rating\": \"assets/steps_vs_rating.html\",\n",
    "}"
   ]
  },
  {
   "cell_type": "markdown",
   "metadata": {},
   "source": [
    "#### Interesting Aggregates"
   ]
  },
  {
   "cell_type": "code",
   "execution_count": 19,
   "metadata": {},
   "outputs": [
    {
     "data": {
      "text/html": [
       "<div>\n",
       "<style scoped>\n",
       "    .dataframe tbody tr th:only-of-type {\n",
       "        vertical-align: middle;\n",
       "    }\n",
       "\n",
       "    .dataframe tbody tr th {\n",
       "        vertical-align: top;\n",
       "    }\n",
       "\n",
       "    .dataframe thead th {\n",
       "        text-align: right;\n",
       "    }\n",
       "</style>\n",
       "<table border=\"1\" class=\"dataframe\">\n",
       "  <thead>\n",
       "    <tr style=\"text-align: right;\">\n",
       "      <th></th>\n",
       "      <th>Ingredient Complexity</th>\n",
       "      <th>Number of Recipes</th>\n",
       "      <th>Average Rating</th>\n",
       "    </tr>\n",
       "  </thead>\n",
       "  <tbody>\n",
       "    <tr>\n",
       "      <th>0</th>\n",
       "      <td>Complex</td>\n",
       "      <td>94829</td>\n",
       "      <td>4.675235</td>\n",
       "    </tr>\n",
       "    <tr>\n",
       "      <th>1</th>\n",
       "      <td>Simple</td>\n",
       "      <td>136823</td>\n",
       "      <td>4.677428</td>\n",
       "    </tr>\n",
       "  </tbody>\n",
       "</table>\n",
       "</div>"
      ],
      "text/plain": [
       "  Ingredient Complexity  Number of Recipes  Average Rating\n",
       "0               Complex              94829        4.675235\n",
       "1                Simple             136823        4.677428"
      ]
     },
     "execution_count": 19,
     "metadata": {},
     "output_type": "execute_result"
    }
   ],
   "source": [
    "# Grouping by ingredient complexity and calculating average rating\n",
    "pivot_table = merged_df.groupby(\"ingredient_complexity\")[\"average_rating\"].agg([\"count\", \"mean\"]).reset_index()\n",
    "pivot_table.columns = [\"Ingredient Complexity\", \"Number of Recipes\", \"Average Rating\"]\n",
    "\n",
    "# for website\n",
    "pivot_table_title = \"\"\"\n",
    "<html>\n",
    "<head>\n",
    "    <style>\n",
    "        body {{ font-family: Arial, sans-serif; text-align: center; }}\n",
    "        h2 {{ margin-bottom: 10px; }}\n",
    "        table {{ margin-left: auto; margin-right: auto; border-collapse: collapse; width: 80%; }}\n",
    "        th, td {{ border: 1px solid black; padding: 2px; text-align: center; }}\n",
    "        th {{ background-color: #f2f2f2; }}\n",
    "    </style>\n",
    "</head>\n",
    "<body>\n",
    "    <h2>Average Rating by Ingredient Complexity</h2>\n",
    "    {table}\n",
    "</body>\n",
    "</html>\n",
    "\"\"\"\n",
    "\n",
    "\n",
    "pivot_table_html = pivot_table_title.format(table=pivot_table.to_html(index=False, escape=False))\n",
    "\n",
    "with open(\"assets/ingredient_complexity_pivot.html\", \"w\") as f:\n",
    "    f.write(pivot_table_html)\n",
    "\n",
    "pivot_table"
   ]
  },
  {
   "cell_type": "code",
   "execution_count": 20,
   "metadata": {},
   "outputs": [
    {
     "data": {
      "text/html": [
       "<div>\n",
       "<style scoped>\n",
       "    .dataframe tbody tr th:only-of-type {\n",
       "        vertical-align: middle;\n",
       "    }\n",
       "\n",
       "    .dataframe tbody tr th {\n",
       "        vertical-align: top;\n",
       "    }\n",
       "\n",
       "    .dataframe thead th {\n",
       "        text-align: right;\n",
       "    }\n",
       "</style>\n",
       "<table border=\"1\" class=\"dataframe\">\n",
       "  <thead>\n",
       "    <tr style=\"text-align: right;\">\n",
       "      <th></th>\n",
       "      <th>Rating</th>\n",
       "      <th>Number of Recipes</th>\n",
       "      <th>Average Cooking Time (Minutes)</th>\n",
       "    </tr>\n",
       "  </thead>\n",
       "  <tbody>\n",
       "    <tr>\n",
       "      <th>0</th>\n",
       "      <td>1.0</td>\n",
       "      <td>2870</td>\n",
       "      <td>99.672474</td>\n",
       "    </tr>\n",
       "    <tr>\n",
       "      <th>1</th>\n",
       "      <td>2.0</td>\n",
       "      <td>2368</td>\n",
       "      <td>98.021537</td>\n",
       "    </tr>\n",
       "    <tr>\n",
       "      <th>2</th>\n",
       "      <td>3.0</td>\n",
       "      <td>7172</td>\n",
       "      <td>87.497630</td>\n",
       "    </tr>\n",
       "    <tr>\n",
       "      <th>3</th>\n",
       "      <td>4.0</td>\n",
       "      <td>37307</td>\n",
       "      <td>91.585038</td>\n",
       "    </tr>\n",
       "    <tr>\n",
       "      <th>4</th>\n",
       "      <td>5.0</td>\n",
       "      <td>169676</td>\n",
       "      <td>106.923878</td>\n",
       "    </tr>\n",
       "  </tbody>\n",
       "</table>\n",
       "</div>"
      ],
      "text/plain": [
       "   Rating  Number of Recipes  Average Cooking Time (Minutes)\n",
       "0     1.0               2870                       99.672474\n",
       "1     2.0               2368                       98.021537\n",
       "2     3.0               7172                       87.497630\n",
       "3     4.0              37307                       91.585038\n",
       "4     5.0             169676                      106.923878"
      ]
     },
     "execution_count": 20,
     "metadata": {},
     "output_type": "execute_result"
    }
   ],
   "source": [
    "# Average Cooking Time by Rating Category\n",
    "pivot_table2 = merged_df.groupby(\"rating\")[\"minutes\"].agg([\"count\", \"mean\"]).reset_index()\n",
    "pivot_table2.columns = [\"Rating\", \"Number of Recipes\", \"Average Cooking Time (Minutes)\"]\n",
    "\n",
    "# for website\n",
    "pivot_table2_title = \"\"\"\n",
    "<html>\n",
    "<head>\n",
    "    <style>\n",
    "        body {{ font-family: Arial, sans-serif; text-align: center; }}\n",
    "        h2 {{ margin-bottom: 10px; }}\n",
    "        table {{ margin-left: auto; margin-right: auto; border-collapse: collapse; width: 80%; }}\n",
    "        th, td {{ border: 1px solid black; padding: 2px; text-align: center; }}\n",
    "        th {{ background-color: #f2f2f2; }}\n",
    "    </style>\n",
    "</head>\n",
    "<body>\n",
    "    <h2>Average Cooking Time by Rating Category</h2>\n",
    "    {table}\n",
    "</body>\n",
    "</html>\n",
    "\"\"\"\n",
    "\n",
    "\n",
    "pivot_table2_html = pivot_table2_title.format(table=pivot_table2.to_html(index=False, escape=False))\n",
    "\n",
    "with open(\"assets/time_rating_pivot.html\", \"w\") as f:\n",
    "    f.write(pivot_table2_html)\n",
    "\n",
    "pivot_table2"
   ]
  },
  {
   "cell_type": "markdown",
   "metadata": {},
   "source": [
    "## Step 3: Assessment of Missingness"
   ]
  },
  {
   "cell_type": "code",
   "execution_count": 21,
   "metadata": {},
   "outputs": [],
   "source": [
    "merged_df['is_missing_rating'] = merged_df['rating'].isnull().astype(int)"
   ]
  },
  {
   "cell_type": "code",
   "execution_count": 22,
   "metadata": {},
   "outputs": [
    {
     "data": {
      "text/plain": [
       "Index(['name', 'id', 'minutes', 'contributor_id', 'submitted', 'tags',\n",
       "       'n_steps', 'steps', 'description', 'ingredients', 'n_ingredients',\n",
       "       'calories', 'total_fat', 'sugar', 'sodium', 'protein', 'saturated_fat',\n",
       "       'carbohydrates', 'user_id', 'recipe_id', 'date', 'rating', 'review',\n",
       "       'average_rating', 'ingredient_complexity', 'is_missing_rating'],\n",
       "      dtype='object')"
      ]
     },
     "execution_count": 22,
     "metadata": {},
     "output_type": "execute_result"
    }
   ],
   "source": [
    "merged_df.columns"
   ]
  },
  {
   "cell_type": "code",
   "execution_count": 23,
   "metadata": {},
   "outputs": [],
   "source": [
    "missing_values = merged_df.isnull().sum()"
   ]
  },
  {
   "cell_type": "code",
   "execution_count": 24,
   "metadata": {},
   "outputs": [
    {
     "data": {
      "text/plain": [
       "rating            15036\n",
       "average_rating     2777\n",
       "description         114\n",
       "review               58\n",
       "name                  1\n",
       "user_id               1\n",
       "recipe_id             1\n",
       "date                  1\n",
       "dtype: int64"
      ]
     },
     "execution_count": 24,
     "metadata": {},
     "output_type": "execute_result"
    }
   ],
   "source": [
    "missing_data = missing_values[missing_values > 0].sort_values(ascending=False)\n",
    "missing_data"
   ]
  },
  {
   "cell_type": "code",
   "execution_count": 25,
   "metadata": {},
   "outputs": [],
   "source": [
    "all_columns = merged_df.columns"
   ]
  },
  {
   "cell_type": "code",
   "execution_count": 26,
   "metadata": {},
   "outputs": [
    {
     "data": {
      "text/plain": [
       "Index(['name', 'id', 'minutes', 'contributor_id', 'submitted', 'tags',\n",
       "       'n_steps', 'steps', 'description', 'ingredients', 'n_ingredients',\n",
       "       'calories', 'total_fat', 'sugar', 'sodium', 'protein', 'saturated_fat',\n",
       "       'carbohydrates', 'user_id', 'recipe_id', 'date', 'rating', 'review',\n",
       "       'average_rating', 'ingredient_complexity', 'is_missing_rating'],\n",
       "      dtype='object')"
      ]
     },
     "execution_count": 26,
     "metadata": {},
     "output_type": "execute_result"
    }
   ],
   "source": [
    "all_columns"
   ]
  },
  {
   "cell_type": "code",
   "execution_count": 36,
   "metadata": {},
   "outputs": [
    {
     "data": {
      "application/vnd.plotly.v1+json": {
       "config": {
        "plotlyServerURL": "https://plot.ly"
       },
       "data": [
        {
         "alignmentgroup": "True",
         "bingroup": "x",
         "histnorm": "probability",
         "hovertemplate": "variable=0<br>Difference in rating Means=%{x}<br>probability=%{y}<extra></extra>",
         "legendgroup": "0",
         "marker": {
          "color": "#636efa",
          "pattern": {
           "shape": ""
          }
         },
         "name": "0",
         "nbinsx": 30,
         "offsetgroup": "0",
         "orientation": "v",
         "showlegend": true,
         "type": "histogram",
         "x": [
          0.008816781935898632,
          -0.010060263060100993,
          -0.05952565534958332,
          -0.02247037721078371,
          0.001952437551640429,
          -0.03502399162754255,
          -0.11917718345205497,
          0.07718026413847223,
          -0.07081131771189764,
          -0.0524401232099061,
          -0.04263164149061094,
          -0.040247446395693665,
          -0.038375830554099544,
          -0.0002551925078595474,
          0.022066814183039796,
          0.07254895062983024,
          -0.009968490543399433,
          -0.05026183581488297,
          -0.0779615767921813,
          -0.07242541021621474,
          0.18560587591295885,
          0.05349221115610536,
          0.011727781608297683,
          0.014584900928015898,
          0.07745119177646131,
          0.018255304433898445,
          -0.006972927686039299,
          0.05600939442589681,
          0.005850362471791826,
          0.0565252539992942,
          0.07016653822125107,
          0.011047906959582576,
          -0.03768361049614466,
          0.06544791692389662,
          0.03443547168237959,
          -0.03502399162754255,
          -0.01641296504752976,
          -0.10584475302308238,
          -0.047814353052100245,
          0.05283086541512638,
          0.08653061878564117,
          0.06782990949130507,
          -0.0876748748277203,
          -0.019325866050460938,
          -0.03442944008012905,
          -0.043524909488071195,
          -0.019325866050460938,
          0.13207526724618557,
          -0.016323282333206457,
          -0.007143031856301718,
          0.08207732036669313,
          -0.003678007265070171,
          0.09245306633065553,
          -0.01641296504752976,
          -0.038375830554099544,
          0.011047906959582576,
          -0.09658093348838293,
          -0.032263116475658826,
          -0.04263164149061094,
          -0.02893730805610062,
          0.13270102060826083,
          0.04492623950943653,
          -0.05725287555010006,
          0.00532108139331644,
          0.072462856177963,
          0.03583621226374767,
          -0.043524909488071195,
          0.005850362471791826,
          -0.08375257870102626,
          -0.11917718345205497,
          -0.07205708664849642,
          0.002826924567754574,
          0.0871644898120012,
          -0.0779615767921813,
          0.0331125399974157,
          0.034436570949082146,
          -0.01650798618705096,
          -0.013206738355177272,
          0.002377426961128748,
          0.11648691580971526,
          -0.0009681216047754404,
          -0.07037659542311037,
          -0.07383943680422345,
          -0.040247446395693665,
          -0.06451268908574193,
          -0.054892744278098426,
          0.12753608951501683,
          -0.0253339706721869,
          -0.040998016280182625,
          0.06782990949130507,
          0.1101834987892909,
          0.06773789374092143,
          0.022066814183039796,
          0.04742978459135205,
          0.011727781608297683,
          0.210145939520598,
          -0.05725287555010006,
          0.03443547168237959,
          -0.003678007265070171,
          0.028884701598760998,
          -0.1421995780320966,
          -0.08357797161035752,
          0.12393203737431246,
          0.07507013914092653,
          0.0331125399974157,
          0.011047906959582576,
          0.03713234942989807,
          0.04564469398304194,
          -0.0006217405621011807,
          0.00821075061806642,
          0.039778845549800934,
          -0.045272799470455816,
          0.04237635953211605,
          -0.016238501264243865,
          -0.06669139804809898,
          0.023848720462715356,
          0.07016653822125107,
          0.051640179066816394,
          -0.01014699382761819,
          0.00532108139331644,
          0.04912920019696898,
          0.001952437551640429,
          0.06302058089296825,
          -0.03768361049614466,
          -0.03768361049614466,
          0.10722309627501492,
          0.0769289551132113,
          -0.05131985594938371,
          -0.04179148621252082,
          0.10659108588308186,
          0.07016781813621531,
          -0.10444548804009823,
          0.1282719669816439,
          -0.006972927686039299,
          -0.06728815443621006,
          0.05092664860596674,
          0.10659108588308186,
          0.011727781608297683,
          0.039778845549800934,
          0.10396966315372769,
          0.004820400338500619,
          0.04237635953211605,
          0.13151757440989442,
          0.014584900928015898,
          0.011727781608297683,
          -0.032263116475658826,
          0.08432496191989713,
          -0.01320619633272635,
          0.08869545720561511,
          0.02014337636752561,
          0.0331125399974157,
          -0.1253841341595523,
          -0.07439909938751388,
          -0.1846296659822304,
          0.03833431518340902,
          -0.05708937016312543,
          0.05349221115610536,
          0.046570871927896995,
          -0.08357797161035752,
          0.02107813625546484,
          -0.019498785558100806,
          -0.0002551925078595474,
          0.13750615187474757,
          -0.016323282333206457,
          -0.016323282333206457,
          0.03583621226374767,
          0.002826924567754574,
          0.008816781935898632,
          0.011047906959582576,
          0.11264052941389568,
          -0.06307505556904669,
          -0.06307505556904669,
          -0.032263116475658826,
          -0.0006217405621011807,
          0.02769382693189737,
          -0.016323282333206457,
          0.0679153857663719,
          -0.1703320819698062,
          -0.006972927686039299,
          0.034436570949082146,
          0.023848720462715356,
          0.15507270618354418,
          0.03443547168237959,
          -0.016323282333206457,
          -0.031734196745484056,
          0.059742751838830266,
          0.12928900926283315,
          -0.15700894939309507,
          0.02107813625546484,
          0.03713234942989807,
          0.1011340598404189,
          -0.09432886247672734,
          -0.11917718345205497,
          -0.2878436844729819,
          -0.003397714613432079,
          0.0565252539992942,
          0.001952437551640429,
          0.06544791692389662,
          0.014584900928015898,
          -0.048821682685559864,
          0.01738962284090917,
          -0.08731711395368258,
          0.04336970273628005,
          -0.009968490543399433,
          0.03443547168237959,
          -0.003678007265070171,
          -0.05604135494183016,
          -0.016323282333206457,
          0.05410511173227839,
          -0.08357797161035752,
          -0.07612992054609968,
          0.07943163767091566,
          -0.047814353052100245,
          0.03713234942989807,
          0.018255304433898445,
          0.023114214728479077,
          0.03574736728659289,
          -0.08731711395368258,
          0.002377426961128748,
          -0.019498785558100806,
          -0.09062727407169024,
          0.09795927674031546,
          0.00532108139331644,
          -0.003678007265070171,
          -0.02247037721078371,
          -0.06084822568624748,
          0.04087467772585551,
          0.008816781935898632,
          -0.15566796107650216,
          0.06782990949130507,
          0.002826924567754574,
          0.13501455487911507,
          0.051640179066816394,
          0.028884701598760998,
          -0.0009681216047754404,
          -0.048821682685559864,
          0.04237635953211605,
          -0.043524909488071195,
          -0.09112611951055083,
          -0.05262037889601423,
          0.12393203737431246,
          -0.03910838465001998,
          0.002377426961128748,
          -0.013206377001933056,
          -0.02893730805610062,
          -0.06171584830395549,
          -0.07242541021621474,
          0.07016653822125107,
          -0.02567363698037539,
          -0.11628866475161015,
          -0.06307505556904669,
          -0.03768361049614466,
          0.01537873220865471,
          0.002377426961128748,
          -0.040998016280182625,
          -0.06669139804809898,
          0.07264196587289096,
          0.03574736728659289,
          0.00532108139331644,
          0.02656849506375103,
          -0.013206377001933056,
          0.05230283452347795,
          0.00821075061806642,
          0.04237635953211605,
          0.16927166440189367,
          -0.0009681216047754404,
          -0.10982682880488692,
          -0.06451268908574193,
          -0.15613192305487367,
          0.02014337636752561,
          -0.07990678711984067,
          -0.13447960356749444,
          -0.029395086614480093,
          -0.04686248271898741,
          -0.029395086614480093,
          0.04130670379832413,
          0.07943163767091566,
          -0.0253339706721869,
          0.030428490902632888,
          -0.013206738355177272,
          -0.10299246831631059,
          0.09894530127561474,
          0.0554531757023371,
          0.07016781813621531,
          -0.14147224754688015,
          -0.003678007265070171,
          -0.06878947488428366,
          0.1220790519118955,
          0.02923884577546687,
          -0.02567363698037539,
          -0.11235600117040434,
          -0.09112611951055083,
          -0.03282315977131578,
          -0.0006217405621011807,
          0.02107813625546484,
          -0.040998016280182625,
          -0.006793020239887149,
          0.04292531518624365,
          0.001952437551640429,
          -0.01641296504752976,
          0.05600939442589681,
          0.002377426961128748,
          -0.18471703226546143,
          -0.019325866050460938,
          0.04742978459135205,
          0.05092664860596674,
          0.01537873220865471,
          0.02014337636752561,
          0.06782990949130507,
          -0.046224636873698266,
          -0.07242541021621474,
          -0.08731711395368258,
          -0.03768361049614466,
          -0.02273474673879594,
          0.012446869375398073,
          0.018255304433898445,
          0.04396384141924248,
          -0.0285047382733028,
          -0.009968490543399433,
          -0.006793020239887149,
          0.04396384141924248,
          -0.09112611951055083,
          0.1101834987892909,
          0.07507013914092653,
          -0.02893730805610062,
          -0.019498785558100806,
          0.03713234942989807,
          -0.04686248271898741,
          0.051640179066816394,
          -0.07439909938751388,
          0.06302058089296825,
          0.07978648302889457,
          -0.05604135494183016,
          -0.11388401053809805,
          0.09795927674031546,
          -0.003397714613432079,
          0.02107813625546484,
          0.09795927674031546,
          0.09795927674031546,
          0.05349221115610536,
          0.01621924882515824,
          0.011047906959582576,
          0.09160569010355601,
          -0.010060263060100993,
          -0.019325866050460938,
          -0.047814353052100245,
          -0.1421995780320966,
          -0.08531529312988795,
          -0.09500696554209931,
          -0.04263164149061094,
          0.04492623950943653,
          -0.06171584830395549,
          -0.09337252350866798,
          0.08869545720561511,
          -0.006972927686039299,
          -0.038375830554099544,
          0.07943163767091566,
          -0.016323282333206457,
          0.06054659341360846,
          0.07978648302889457,
          -0.019498785558100806,
          0.10320200691589587,
          0.030428490902632888,
          -0.04686248271898741,
          0.10320200691589587,
          0.022066814183039796,
          0.04912920019696898,
          0.02923884577546687,
          -0.013206557676083364,
          -0.04686248271898741,
          -0.010060263060100993,
          0.02284753903217762,
          -0.15109219235452187,
          -0.003678007265070171,
          -0.0253339706721869,
          0.04130670379832413,
          -0.013206377001933056,
          -0.0006217405621011807,
          0.0769289551132113,
          0.039778845549800934,
          -0.07805329441898223,
          -0.003942738141383906,
          -0.06451268908574193,
          0.06782990949130507,
          -0.13447960356749444,
          0.012446869375398073,
          0.034436570949082146,
          0.16133345596298465,
          -0.11628866475161015,
          -0.007143031856301718,
          0.06544791692389662,
          -0.02222030770201666,
          0.06302058089296825,
          0.008816781935898632,
          0.028884701598760998,
          -0.06669139804809898,
          0.023848720462715356,
          -0.13276105553409767,
          0.07718026413847223,
          0.004820400338500619,
          -0.007143031856301718,
          -0.09809772593572497,
          -0.003397714613432079,
          0.10017893868021321,
          -0.02273474673879594,
          -0.031734196745484056,
          -0.044374346274711485,
          0.07016781813621531,
          0.12753608951501683,
          0.02284753903217762,
          0.14263274666864856,
          0.08653061878564117,
          0.05410511173227839,
          -0.13787789274639017,
          0.07488643942189643,
          -0.08900225652778282,
          -0.11510857255778273,
          -0.031734196745484056,
          0.0554531757023371,
          -0.0009681216047754404,
          0.05410511173227839,
          0.02656849506375103,
          0.14589383396070144,
          0.06328398395512025,
          0.039778845549800934,
          -0.009968490543399433,
          0.02107813625546484,
          -0.047814353052100245,
          -0.03768361049614466,
          0.04912920019696898,
          0.07016653822125107,
          0.09160569010355601,
          0.0990263726441789,
          0.030428490902632888,
          0.06544791692389662,
          0.002826924567754574,
          0.06302058089296825,
          -0.06878947488428366,
          -0.08731711395368258,
          0.07488643942189643,
          0.04130670379832413,
          0.03574736728659289,
          0.046570871927896995,
          -0.07805329441898223,
          -0.054892744278098426,
          -0.02809535156130405,
          0.08381166222312153,
          0.05092664860596674,
          0.12971916905100667,
          -0.0253339706721869,
          0.1145816827271453,
          0.00821075061806642,
          0.13573097998970152,
          -0.006793020239887149,
          -0.003942738141383906,
          0.00532108139331644,
          0.04742978459135205,
          0.011727781608297683,
          0.17476635630254478,
          0.03583621226374767,
          0.04742978459135205,
          0.06562072340723635,
          0.11835721729217497,
          -0.12223235793159493,
          -0.006972927686039299,
          0.0769289551132113,
          0.014584900928015898,
          0.07016781813621531,
          0.1011340598404189,
          -0.08177576486338278,
          -0.019681788578940207,
          0.023848720462715356,
          0.09082060062364761,
          0.00532108139331644,
          0.05847955484413703,
          0.05410511173227839,
          -0.03768361049614466,
          -0.05262037889601423,
          -0.142900031161882,
          -0.11111458827888399,
          -0.019498785558100806,
          0.002826924567754574,
          -0.03910838465001998,
          0.12753608951501683,
          0.06562072340723635,
          0.12018805889836859,
          -0.013206557676083364,
          -0.02567363698037539,
          -0.044374346274711485,
          -0.2295324026793093,
          0.051640179066816394,
          0.02107813625546484,
          0.051640179066816394,
          0.07943163767091566,
          -0.03768361049614466,
          0.07016653822125107,
          -0.13939670921092162,
          0.023848720462715356,
          0.02107813625546484,
          -0.05372470092187864,
          -0.05952565534958332,
          0.038597999634300884,
          0.040151578025746204,
          -0.01014699382761819,
          -0.029395086614480093,
          0.02014337636752561,
          0.08869545720561511,
          0.08432496191989713,
          0.01537873220865471,
          0.11648691580971526,
          0.06782990949130507,
          0.06544791692389662,
          0.04492623950943653,
          0.09588097343280921,
          0.04130670379832413,
          -0.13939670921092162,
          -0.04686248271898741,
          0.05847955484413703,
          0.02107813625546484,
          0.008816781935898632,
          0.05092664860596674,
          0.03833431518340902,
          0.07016781813621531,
          0.022066814183039796,
          -0.019498785558100806,
          -0.10982682880488692,
          -0.13363621162718164,
          -0.05026183581488297,
          0.06562072340723635,
          0.001952437551640429,
          0.03713234942989807,
          -0.019498785558100806,
          0.11648691580971526,
          0.022066814183039796,
          -0.006793020239887149,
          0.011727781608297683,
          -0.05952565534958332,
          0.09376348441789606,
          -0.06603573733146284,
          0.1706838106101527,
          -0.12332253303609786,
          -0.06669139804809898,
          -0.010060263060100993,
          0.08207732036669313,
          0.028884701598760998,
          -0.04179148621252082,
          0.01537873220865471,
          -0.007143031856301718,
          0.10917834506933222,
          0.04292531518624365,
          0.09376348441789606,
          0.03443547168237959,
          -0.0012959561997094582,
          0.03713234942989807,
          0.014584900928015898,
          0.0565252539992942,
          -0.016323282333206457,
          0.058024595705380655,
          -0.08177576486338278,
          -0.03442944008012905,
          0.08207732036669313,
          -0.08943333489683525,
          0.002826924567754574,
          0.11835721729217497,
          0.09588097343280921,
          -0.08556844304409861,
          0.08432496191989713,
          0.07978648302889457,
          0.00641076710586308,
          -0.07081131771189764,
          -0.08375257870102626,
          -0.08186556836779069,
          0.023848720462715356,
          0.15020173922560254,
          -0.0285047382733028,
          -0.0253339706721869,
          0.07264196587289096,
          0.07016653822125107,
          0.03443547168237959,
          -0.10299246831631059,
          0.005850362471791826,
          0.023848720462715356,
          -0.032263116475658826,
          -0.07990496515997236,
          0.14095609690789512,
          -0.06878947488428366,
          -0.1275468138442859,
          0.1339210294566957,
          -0.11261241312395232,
          0.05600939442589681,
          -0.12223235793159493,
          0.08164172840080575,
          0.039778845549800934,
          -0.05026183581488297,
          0.002377426961128748,
          0.03713234942989807,
          0.07254895062983024,
          -0.0285047382733028,
          -0.013206377001933056,
          -0.016238501264243865,
          0.038597999634300884,
          0.002826924567754574,
          -0.019498785558100806,
          0.13924753878786866,
          0.08869545720561511,
          0.12019353985489012,
          0.09687778784754109,
          -0.07081131771189764,
          -0.06224860492920126,
          0.06782990949130507,
          -0.031734196745484056,
          0.05847955484413703,
          0.02923884577546687,
          -0.006972927686039299,
          -0.047814353052100245,
          0.01537873220865471,
          -0.11628866475161015,
          0.00641076710586308,
          0.06562072340723635,
          -0.0009681216047754404,
          0.01738962284090917,
          -0.029395086614480093,
          0.0894064278365363,
          -0.08900225652778282,
          -0.15657860204072627,
          -0.17536669383878056,
          0.10864631745182063,
          0.06773789374092143,
          0.018255304433898445,
          0.03713234942989807,
          -0.02567363698037539,
          0.07943163767091566,
          0.005850362471791826,
          -0.06878947488428366,
          -0.05604135494183016,
          0.09468710257951596,
          0.01738962284090917,
          -0.2304399271758344,
          0.11630438391862175,
          0.05092664860596674,
          -0.031734196745484056,
          0.05600939442589681,
          -0.02273474673879594,
          -0.03502399162754255,
          0.012446869375398073,
          0.02769382693189737,
          -0.019325866050460938,
          -0.031734196745484056,
          0.024907101945517596,
          0.04087467772585551,
          -0.031233877048855163,
          0.005850362471791826,
          0.03713234942989807,
          0.07718026413847223,
          -0.05262037889601423,
          -0.10193571605604124,
          0.08381166222312153,
          0.09082060062364761,
          -0.14660355331801078,
          0.0498882470726949,
          -0.12223235793159493,
          0.04564469398304194,
          -0.05489474692289775,
          0.08164172840080575,
          -0.08375257870102626,
          0.039778845549800934,
          -0.14071645868355986,
          0.0331125399974157,
          0.05847955484413703,
          0.08381166222312153,
          0.0679153857663719,
          0.06328398395512025,
          0.06302058089296825,
          0.01537873220865471,
          -0.026032909855171482,
          -0.06522022716467202,
          0.046570871927896995,
          -0.013206557676083364,
          0.07745119177646131,
          -0.013206557676083364,
          0.02656849506375103,
          0.011727781608297683,
          0.058901816419532516,
          -0.029395086614480093,
          -0.0253339706721869,
          0.0331125399974157,
          -0.13363621162718164,
          0.001952437551640429,
          0.09999947284649036,
          -0.07990496515997236,
          0.07978648302889457,
          -0.03768361049614466,
          0.02769382693189737,
          0.03833431518340902,
          0.07718026413847223,
          -0.07081131771189764,
          0.018255304433898445,
          0.030428490902632888,
          -0.019498785558100806,
          -0.07242541021621474,
          0.03713234942989807,
          -0.12852753809922302,
          0.019171403563220224,
          -0.07805329441898223,
          -0.032263116475658826,
          -0.05262037889601423,
          0.04396384141924248,
          0.06302058089296825,
          -0.0006217405621011807,
          0.005850362471791826,
          0.12019353985489012,
          -0.016323282333206457,
          -0.13038313986408223,
          0.023848720462715356,
          -0.06171584830395549,
          0.00532108139331644,
          0.03574736728659289,
          -0.1478300771702532,
          -0.06451268908574193,
          0.06123596631067674,
          0.09376348441789606,
          0.04492623950943653,
          0.001952437551640429,
          -0.04686248271898741,
          0.01621924882515824,
          0.028884701598760998,
          -0.01014699382761819,
          0.0894064278365363,
          -0.0009681216047754404,
          0.0554531757023371,
          0.051640179066816394,
          0.0331125399974157,
          0.04912920019696898,
          0.07016781813621531,
          0.02602773054445251,
          -0.013206738355177272,
          -0.10193571605604124,
          -0.006793020239887149,
          -0.01014699382761819,
          0.008816781935898632,
          0.07488643942189643,
          -0.0006217405621011807,
          0.03574736728659289,
          0.0331125399974157,
          0.02284753903217762,
          0.11298323250056619,
          0.014584900928015898,
          0.011727781608297683,
          0.09376348441789606,
          -0.049261015742533054,
          -0.06307505556904669,
          0.04912920019696898,
          -0.047814353052100245,
          0.07016653822125107,
          -0.006972927686039299,
          0.10320200691589587,
          -0.03282315977131578,
          0.012446869375398073,
          -0.013206557676083364,
          -0.019325866050460938,
          0.07254895062983024,
          0.0498882470726949,
          0.09160569010355601,
          -0.031734196745484056,
          -0.013206557676083364,
          -0.02273474673879594,
          0.004820400338500619,
          0.046570871927896995,
          -0.013206377001933056,
          -0.031734196745484056,
          -0.038375830554099544,
          0.01537873220865471,
          0.002377426961128748,
          0.001952437551640429,
          0.02284753903217762,
          -0.09500696554209931,
          0.005850362471791826,
          0.10659108588308186,
          -0.03502399162754255,
          -0.09658093348838293,
          0.011047906959582576,
          0.04396384141924248,
          -0.1275468138442859,
          -0.15315919658207644,
          0.005850362471791826,
          0.09017437857113464,
          0.023848720462715356,
          -0.003942738141383906,
          -0.07612992054609968,
          0.08784968622447042,
          -0.07242541021621474,
          -0.013206557676083364,
          0.023848720462715356,
          -0.09500696554209931,
          -0.007143031856301718,
          -0.040998016280182625,
          0.1145816827271453,
          0.03574736728659289,
          -0.06084822568624748,
          0.14427837441381453,
          0.08869545720561511,
          -0.06451268908574193,
          0.04237635953211605,
          -0.0009681216047754404,
          -0.040247446395693665,
          0.002377426961128748,
          -0.09658093348838293,
          0.04742978459135205,
          -0.11388401053809805,
          -0.010060263060100993,
          0.06054659341360846,
          0.08653061878564117,
          -0.026032909855171482,
          0.11264052941389568,
          -0.07612992054609968,
          0.05410511173227839,
          -0.17995695060720607,
          -0.007143031856301718,
          -0.01641296504752976,
          -0.013206557676083364,
          -0.054892744278098426,
          -0.02567363698037539,
          0.13924753878786866,
          0.03713234942989807,
          -0.019325866050460938,
          0.060160698243902466,
          -0.1945211532186626,
          0.1220790519118955,
          -0.048821682685559864,
          -0.05725287555010006,
          -0.007143031856301718,
          0.10523132807997637,
          0.05410511173227839,
          -0.10565793824699288,
          0.072462856177963,
          -0.07242541021621474,
          -0.09738817286326107,
          0.051640179066816394,
          0.02769382693189737,
          -0.04179148621252082,
          -0.003942738141383906,
          -0.01650798618705096,
          0.058024595705380655,
          0.014017089085571754,
          -0.07612992054609968,
          -0.06824827875664052,
          -0.047814353052100245,
          0.07943163767091566,
          0.01621924882515824,
          0.039778845549800934,
          0.005850362471791826,
          0.00532108139331644,
          -0.031734196745484056,
          0.01621924882515824,
          0.11483475703386414,
          0.04492623950943653,
          0.03168675899068241,
          -0.09500696554209931,
          -0.016323282333206457,
          -0.003678007265070171,
          -0.047814353052100245,
          0.011727781608297683,
          0.014584900928015898,
          0.038597999634300884,
          -0.016323282333206457,
          -0.013206557676083364,
          -0.05026183581488297,
          -0.045272799470455816,
          -0.016323282333206457,
          -0.040998016280182625,
          0.046570871927896995,
          0.060903998601514964,
          -0.07439909938751388,
          -0.0006217405621011807,
          -0.0006217405621011807,
          -0.003942738141383906,
          -0.03282315977131578,
          0.008816781935898632,
          -0.016323282333206457,
          0.05092664860596674,
          0.13573097998970152,
          0.05847955484413703,
          0.00532108139331644,
          -0.003678007265070171,
          0.0859425244600498,
          -0.01641296504752976,
          -0.09896170463369813,
          0.039778845549800934,
          0.008816781935898632,
          0.05600939442589681,
          0.01537873220865471,
          0.08653061878564117,
          0.028884701598760998,
          -0.09956040585888815,
          -0.003397714613432079,
          -0.08357797161035752,
          -0.14660355331801078,
          0.02602773054445251,
          0.039778845549800934,
          -0.038375830554099544,
          0.06562072340723635,
          -0.09112611951055083,
          0.022066814183039796,
          -0.013206377001933056,
          0.07016653822125107,
          -0.1421995780320966,
          0.09160569010355601,
          -0.02893730805610062,
          -0.007143031856301718,
          0.038597999634300884,
          0.0331125399974157,
          0.05847955484413703,
          0.05349221115610536,
          -0.003942738141383906,
          0.12971916905100667,
          0.023848720462715356,
          -0.08943333489683525,
          -0.08357797161035752,
          0.04237635953211605,
          0.0331125399974157,
          0.07718026413847223,
          0.02014337636752561,
          -0.040247446395693665,
          0.08653061878564117,
          -0.08556844304409861,
          -0.02273474673879594,
          -0.09500696554209931,
          -0.016323282333206457,
          -0.02247037721078371,
          -0.08186556836779069,
          0.10523132807997637,
          -0.044374346274711485,
          -0.05131985594938371,
          -0.05952565534958332,
          -0.0524401232099061,
          0.030428490902632888,
          0.09999947284649036,
          0.001952437551640429,
          -0.06084822568624748,
          -0.0285047382733028,
          -0.03442944008012905,
          0.0331125399974157,
          0.07254895062983024,
          0.05847955484413703,
          0.009458105527680338,
          0.07943163767091566,
          -0.016238501264243865,
          0.02656849506375103,
          -0.05725287555010006,
          -0.1253841341595523,
          0.05600939442589681,
          0.05349221115610536,
          -0.05604135494183016,
          -0.06669139804809898,
          0.06544791692389662,
          -0.09112611951055083,
          -0.03502399162754255,
          0.09495609380688919,
          0.06782990949130507,
          -0.08177576486338278,
          0.10523132807997637,
          0.05349221115610536,
          -0.029395086614480093,
          -0.06522022716467202,
          -0.11917718345205497,
          -0.054892744278098426,
          -0.013206377001933056,
          0.05349221115610536,
          -0.02247037721078371,
          -0.013206738355177272,
          -0.013206557676083364,
          -0.0779615767921813,
          -0.02273474673879594,
          0.011727781608297683,
          0.011727781608297683,
          -0.010060263060100993,
          0.07718026413847223,
          0.051640179066816394,
          -0.05853498072110064,
          -0.0253339706721869,
          -0.006793020239887149,
          -0.07242541021621474,
          -0.03502399162754255,
          -0.07805329441898223,
          -0.003942738141383906,
          -0.10193571605604124,
          -0.006972927686039299,
          -0.06084822568624748,
          -0.06522022716467202,
          -0.10299246831631059,
          -0.05131985594938371,
          0.06544791692389662,
          0.09290713163106368,
          0.05847955484413703,
          -0.003942738141383906,
          0.08653061878564117,
          0.00532108139331644,
          -0.14357507297543748,
          0.02107813625546484,
          0.002377426961128748
         ],
         "xaxis": "x",
         "yaxis": "y"
        }
       ],
       "layout": {
        "annotations": [
         {
          "showarrow": false,
          "text": "Observed Difference",
          "x": -0.17518866252859944,
          "xanchor": "left",
          "xref": "x",
          "y": 1,
          "yanchor": "top",
          "yref": "y domain"
         }
        ],
        "barmode": "relative",
        "legend": {
         "title": {
          "text": "variable"
         },
         "tracegroupgap": 0
        },
        "shapes": [
         {
          "line": {
           "color": "red"
          },
          "type": "line",
          "x0": -0.17518866252859944,
          "x1": -0.17518866252859944,
          "xref": "x",
          "y0": 0,
          "y1": 1,
          "yref": "y domain"
         }
        ],
        "template": {
         "data": {
          "bar": [
           {
            "error_x": {
             "color": "#2a3f5f"
            },
            "error_y": {
             "color": "#2a3f5f"
            },
            "marker": {
             "line": {
              "color": "#E5ECF6",
              "width": 0.5
             },
             "pattern": {
              "fillmode": "overlay",
              "size": 10,
              "solidity": 0.2
             }
            },
            "type": "bar"
           }
          ],
          "barpolar": [
           {
            "marker": {
             "line": {
              "color": "#E5ECF6",
              "width": 0.5
             },
             "pattern": {
              "fillmode": "overlay",
              "size": 10,
              "solidity": 0.2
             }
            },
            "type": "barpolar"
           }
          ],
          "carpet": [
           {
            "aaxis": {
             "endlinecolor": "#2a3f5f",
             "gridcolor": "white",
             "linecolor": "white",
             "minorgridcolor": "white",
             "startlinecolor": "#2a3f5f"
            },
            "baxis": {
             "endlinecolor": "#2a3f5f",
             "gridcolor": "white",
             "linecolor": "white",
             "minorgridcolor": "white",
             "startlinecolor": "#2a3f5f"
            },
            "type": "carpet"
           }
          ],
          "choropleth": [
           {
            "colorbar": {
             "outlinewidth": 0,
             "ticks": ""
            },
            "type": "choropleth"
           }
          ],
          "contour": [
           {
            "colorbar": {
             "outlinewidth": 0,
             "ticks": ""
            },
            "colorscale": [
             [
              0,
              "#0d0887"
             ],
             [
              0.1111111111111111,
              "#46039f"
             ],
             [
              0.2222222222222222,
              "#7201a8"
             ],
             [
              0.3333333333333333,
              "#9c179e"
             ],
             [
              0.4444444444444444,
              "#bd3786"
             ],
             [
              0.5555555555555556,
              "#d8576b"
             ],
             [
              0.6666666666666666,
              "#ed7953"
             ],
             [
              0.7777777777777778,
              "#fb9f3a"
             ],
             [
              0.8888888888888888,
              "#fdca26"
             ],
             [
              1,
              "#f0f921"
             ]
            ],
            "type": "contour"
           }
          ],
          "contourcarpet": [
           {
            "colorbar": {
             "outlinewidth": 0,
             "ticks": ""
            },
            "type": "contourcarpet"
           }
          ],
          "heatmap": [
           {
            "colorbar": {
             "outlinewidth": 0,
             "ticks": ""
            },
            "colorscale": [
             [
              0,
              "#0d0887"
             ],
             [
              0.1111111111111111,
              "#46039f"
             ],
             [
              0.2222222222222222,
              "#7201a8"
             ],
             [
              0.3333333333333333,
              "#9c179e"
             ],
             [
              0.4444444444444444,
              "#bd3786"
             ],
             [
              0.5555555555555556,
              "#d8576b"
             ],
             [
              0.6666666666666666,
              "#ed7953"
             ],
             [
              0.7777777777777778,
              "#fb9f3a"
             ],
             [
              0.8888888888888888,
              "#fdca26"
             ],
             [
              1,
              "#f0f921"
             ]
            ],
            "type": "heatmap"
           }
          ],
          "heatmapgl": [
           {
            "colorbar": {
             "outlinewidth": 0,
             "ticks": ""
            },
            "colorscale": [
             [
              0,
              "#0d0887"
             ],
             [
              0.1111111111111111,
              "#46039f"
             ],
             [
              0.2222222222222222,
              "#7201a8"
             ],
             [
              0.3333333333333333,
              "#9c179e"
             ],
             [
              0.4444444444444444,
              "#bd3786"
             ],
             [
              0.5555555555555556,
              "#d8576b"
             ],
             [
              0.6666666666666666,
              "#ed7953"
             ],
             [
              0.7777777777777778,
              "#fb9f3a"
             ],
             [
              0.8888888888888888,
              "#fdca26"
             ],
             [
              1,
              "#f0f921"
             ]
            ],
            "type": "heatmapgl"
           }
          ],
          "histogram": [
           {
            "marker": {
             "pattern": {
              "fillmode": "overlay",
              "size": 10,
              "solidity": 0.2
             }
            },
            "type": "histogram"
           }
          ],
          "histogram2d": [
           {
            "colorbar": {
             "outlinewidth": 0,
             "ticks": ""
            },
            "colorscale": [
             [
              0,
              "#0d0887"
             ],
             [
              0.1111111111111111,
              "#46039f"
             ],
             [
              0.2222222222222222,
              "#7201a8"
             ],
             [
              0.3333333333333333,
              "#9c179e"
             ],
             [
              0.4444444444444444,
              "#bd3786"
             ],
             [
              0.5555555555555556,
              "#d8576b"
             ],
             [
              0.6666666666666666,
              "#ed7953"
             ],
             [
              0.7777777777777778,
              "#fb9f3a"
             ],
             [
              0.8888888888888888,
              "#fdca26"
             ],
             [
              1,
              "#f0f921"
             ]
            ],
            "type": "histogram2d"
           }
          ],
          "histogram2dcontour": [
           {
            "colorbar": {
             "outlinewidth": 0,
             "ticks": ""
            },
            "colorscale": [
             [
              0,
              "#0d0887"
             ],
             [
              0.1111111111111111,
              "#46039f"
             ],
             [
              0.2222222222222222,
              "#7201a8"
             ],
             [
              0.3333333333333333,
              "#9c179e"
             ],
             [
              0.4444444444444444,
              "#bd3786"
             ],
             [
              0.5555555555555556,
              "#d8576b"
             ],
             [
              0.6666666666666666,
              "#ed7953"
             ],
             [
              0.7777777777777778,
              "#fb9f3a"
             ],
             [
              0.8888888888888888,
              "#fdca26"
             ],
             [
              1,
              "#f0f921"
             ]
            ],
            "type": "histogram2dcontour"
           }
          ],
          "mesh3d": [
           {
            "colorbar": {
             "outlinewidth": 0,
             "ticks": ""
            },
            "type": "mesh3d"
           }
          ],
          "parcoords": [
           {
            "line": {
             "colorbar": {
              "outlinewidth": 0,
              "ticks": ""
             }
            },
            "type": "parcoords"
           }
          ],
          "pie": [
           {
            "automargin": true,
            "type": "pie"
           }
          ],
          "scatter": [
           {
            "fillpattern": {
             "fillmode": "overlay",
             "size": 10,
             "solidity": 0.2
            },
            "type": "scatter"
           }
          ],
          "scatter3d": [
           {
            "line": {
             "colorbar": {
              "outlinewidth": 0,
              "ticks": ""
             }
            },
            "marker": {
             "colorbar": {
              "outlinewidth": 0,
              "ticks": ""
             }
            },
            "type": "scatter3d"
           }
          ],
          "scattercarpet": [
           {
            "marker": {
             "colorbar": {
              "outlinewidth": 0,
              "ticks": ""
             }
            },
            "type": "scattercarpet"
           }
          ],
          "scattergeo": [
           {
            "marker": {
             "colorbar": {
              "outlinewidth": 0,
              "ticks": ""
             }
            },
            "type": "scattergeo"
           }
          ],
          "scattergl": [
           {
            "marker": {
             "colorbar": {
              "outlinewidth": 0,
              "ticks": ""
             }
            },
            "type": "scattergl"
           }
          ],
          "scattermapbox": [
           {
            "marker": {
             "colorbar": {
              "outlinewidth": 0,
              "ticks": ""
             }
            },
            "type": "scattermapbox"
           }
          ],
          "scatterpolar": [
           {
            "marker": {
             "colorbar": {
              "outlinewidth": 0,
              "ticks": ""
             }
            },
            "type": "scatterpolar"
           }
          ],
          "scatterpolargl": [
           {
            "marker": {
             "colorbar": {
              "outlinewidth": 0,
              "ticks": ""
             }
            },
            "type": "scatterpolargl"
           }
          ],
          "scatterternary": [
           {
            "marker": {
             "colorbar": {
              "outlinewidth": 0,
              "ticks": ""
             }
            },
            "type": "scatterternary"
           }
          ],
          "surface": [
           {
            "colorbar": {
             "outlinewidth": 0,
             "ticks": ""
            },
            "colorscale": [
             [
              0,
              "#0d0887"
             ],
             [
              0.1111111111111111,
              "#46039f"
             ],
             [
              0.2222222222222222,
              "#7201a8"
             ],
             [
              0.3333333333333333,
              "#9c179e"
             ],
             [
              0.4444444444444444,
              "#bd3786"
             ],
             [
              0.5555555555555556,
              "#d8576b"
             ],
             [
              0.6666666666666666,
              "#ed7953"
             ],
             [
              0.7777777777777778,
              "#fb9f3a"
             ],
             [
              0.8888888888888888,
              "#fdca26"
             ],
             [
              1,
              "#f0f921"
             ]
            ],
            "type": "surface"
           }
          ],
          "table": [
           {
            "cells": {
             "fill": {
              "color": "#EBF0F8"
             },
             "line": {
              "color": "white"
             }
            },
            "header": {
             "fill": {
              "color": "#C8D4E3"
             },
             "line": {
              "color": "white"
             }
            },
            "type": "table"
           }
          ]
         },
         "layout": {
          "annotationdefaults": {
           "arrowcolor": "#2a3f5f",
           "arrowhead": 0,
           "arrowwidth": 1
          },
          "autotypenumbers": "strict",
          "coloraxis": {
           "colorbar": {
            "outlinewidth": 0,
            "ticks": ""
           }
          },
          "colorscale": {
           "diverging": [
            [
             0,
             "#8e0152"
            ],
            [
             0.1,
             "#c51b7d"
            ],
            [
             0.2,
             "#de77ae"
            ],
            [
             0.3,
             "#f1b6da"
            ],
            [
             0.4,
             "#fde0ef"
            ],
            [
             0.5,
             "#f7f7f7"
            ],
            [
             0.6,
             "#e6f5d0"
            ],
            [
             0.7,
             "#b8e186"
            ],
            [
             0.8,
             "#7fbc41"
            ],
            [
             0.9,
             "#4d9221"
            ],
            [
             1,
             "#276419"
            ]
           ],
           "sequential": [
            [
             0,
             "#0d0887"
            ],
            [
             0.1111111111111111,
             "#46039f"
            ],
            [
             0.2222222222222222,
             "#7201a8"
            ],
            [
             0.3333333333333333,
             "#9c179e"
            ],
            [
             0.4444444444444444,
             "#bd3786"
            ],
            [
             0.5555555555555556,
             "#d8576b"
            ],
            [
             0.6666666666666666,
             "#ed7953"
            ],
            [
             0.7777777777777778,
             "#fb9f3a"
            ],
            [
             0.8888888888888888,
             "#fdca26"
            ],
            [
             1,
             "#f0f921"
            ]
           ],
           "sequentialminus": [
            [
             0,
             "#0d0887"
            ],
            [
             0.1111111111111111,
             "#46039f"
            ],
            [
             0.2222222222222222,
             "#7201a8"
            ],
            [
             0.3333333333333333,
             "#9c179e"
            ],
            [
             0.4444444444444444,
             "#bd3786"
            ],
            [
             0.5555555555555556,
             "#d8576b"
            ],
            [
             0.6666666666666666,
             "#ed7953"
            ],
            [
             0.7777777777777778,
             "#fb9f3a"
            ],
            [
             0.8888888888888888,
             "#fdca26"
            ],
            [
             1,
             "#f0f921"
            ]
           ]
          },
          "colorway": [
           "#636efa",
           "#EF553B",
           "#00cc96",
           "#ab63fa",
           "#FFA15A",
           "#19d3f3",
           "#FF6692",
           "#B6E880",
           "#FF97FF",
           "#FECB52"
          ],
          "font": {
           "color": "#2a3f5f"
          },
          "geo": {
           "bgcolor": "white",
           "lakecolor": "white",
           "landcolor": "#E5ECF6",
           "showlakes": true,
           "showland": true,
           "subunitcolor": "white"
          },
          "hoverlabel": {
           "align": "left"
          },
          "hovermode": "closest",
          "mapbox": {
           "style": "light"
          },
          "paper_bgcolor": "white",
          "plot_bgcolor": "#E5ECF6",
          "polar": {
           "angularaxis": {
            "gridcolor": "white",
            "linecolor": "white",
            "ticks": ""
           },
           "bgcolor": "#E5ECF6",
           "radialaxis": {
            "gridcolor": "white",
            "linecolor": "white",
            "ticks": ""
           }
          },
          "scene": {
           "xaxis": {
            "backgroundcolor": "#E5ECF6",
            "gridcolor": "white",
            "gridwidth": 2,
            "linecolor": "white",
            "showbackground": true,
            "ticks": "",
            "zerolinecolor": "white"
           },
           "yaxis": {
            "backgroundcolor": "#E5ECF6",
            "gridcolor": "white",
            "gridwidth": 2,
            "linecolor": "white",
            "showbackground": true,
            "ticks": "",
            "zerolinecolor": "white"
           },
           "zaxis": {
            "backgroundcolor": "#E5ECF6",
            "gridcolor": "white",
            "gridwidth": 2,
            "linecolor": "white",
            "showbackground": true,
            "ticks": "",
            "zerolinecolor": "white"
           }
          },
          "shapedefaults": {
           "line": {
            "color": "#2a3f5f"
           }
          },
          "ternary": {
           "aaxis": {
            "gridcolor": "white",
            "linecolor": "white",
            "ticks": ""
           },
           "baxis": {
            "gridcolor": "white",
            "linecolor": "white",
            "ticks": ""
           },
           "bgcolor": "#E5ECF6",
           "caxis": {
            "gridcolor": "white",
            "linecolor": "white",
            "ticks": ""
           }
          },
          "title": {
           "x": 0.05
          },
          "xaxis": {
           "automargin": true,
           "gridcolor": "white",
           "linecolor": "white",
           "ticks": "",
           "title": {
            "standoff": 15
           },
           "zerolinecolor": "white",
           "zerolinewidth": 2
          },
          "yaxis": {
           "automargin": true,
           "gridcolor": "white",
           "linecolor": "white",
           "ticks": "",
           "title": {
            "standoff": 15
           },
           "zerolinecolor": "white",
           "zerolinewidth": 2
          }
         }
        },
        "title": {
         "text": "Permutation Test for Missing Description on rating"
        },
        "xaxis": {
         "anchor": "y",
         "domain": [
          0,
          1
         ],
         "title": {
          "text": "Difference in rating Means"
         }
        },
        "yaxis": {
         "anchor": "x",
         "domain": [
          0,
          1
         ],
         "title": {
          "text": "probability"
         }
        }
       }
      }
     },
     "metadata": {},
     "output_type": "display_data"
    },
    {
     "data": {
      "application/vnd.plotly.v1+json": {
       "config": {
        "plotlyServerURL": "https://plot.ly"
       },
       "data": [
        {
         "alignmentgroup": "True",
         "bingroup": "x",
         "histnorm": "probability",
         "hovertemplate": "variable=0<br>Difference in n_steps Means=%{x}<br>probability=%{y}<extra></extra>",
         "legendgroup": "0",
         "marker": {
          "color": "#636efa",
          "pattern": {
           "shape": ""
          }
         },
         "name": "0",
         "nbinsx": 30,
         "offsetgroup": "0",
         "orientation": "v",
         "showlegend": true,
         "type": "histogram",
         "x": [
          0.0435898818167626,
          -0.03539589643720831,
          -0.5707439490474471,
          -0.42154859012328316,
          -0.7901488886418093,
          -1.088539606490139,
          -0.17581505777759787,
          -1.0534348161550398,
          0.1225756600707335,
          -0.9920014330686193,
          -0.5531915538798984,
          -0.518086763544801,
          -0.34256281186931226,
          0.9738668256968523,
          0.4560711682541605,
          -0.43032478770705573,
          0.15768045040582912,
          0.05236607940053695,
          0.1927852407409283,
          0.6403713175134236,
          -0.9130156548146502,
          0.13135185765450785,
          0.2717710189948974,
          -0.3074580215342131,
          -0.4654295780421549,
          -0.14948646502627483,
          0.4209663779190631,
          -0.5268629611285753,
          -0.2372484408640183,
          0.20156143832470086,
          -0.3337866142855379,
          0.9124334426104301,
          -0.8077012838093562,
          0.11379946248695738,
          -0.2723532311991175,
          -0.18459125536137222,
          -0.32501041670176356,
          0.7281332933511688,
          1.403900507301799,
          -1.1060920016576876,
          0.1752328455733796,
          -0.2723532311991175,
          0.23666622865980003,
          0.8246714667726884,
          0.15768045040582912,
          -0.21091984811269526,
          0.5964903295945518,
          0.2717710189948974,
          -0.28990562636666617,
          -0.18459125536137222,
          0.9563144305293019,
          0.7281332933511688,
          0.7895666764375893,
          -1.141196791992785,
          0.7983428740213636,
          0.35953299483264267,
          -0.10560547710740309,
          0.18400904315715394,
          -0.0880530819398544,
          -0.5093105659610266,
          0.21033763590847698,
          -0.7462679007229358,
          -0.12315787227495179,
          0.37708539000019137,
          -0.2372484408640183,
          0.10502326490318303,
          -0.6146249369663188,
          -0.7901488886418093,
          0.22789003107602568,
          0.2893234141624461,
          -0.07927688435608005,
          0.09624706731940869,
          -0.9042394572308758,
          -0.19336745294514657,
          -0.7901488886418093,
          0.6842523054322971,
          -0.37766760220440965,
          -0.05294829160475523,
          -0.7462679007229358,
          -1.1763015823278824,
          -0.5970725417987719,
          0.09624706731940869,
          0.008485091481665208,
          -0.20214365052892092,
          0.368309192416417,
          -0.017843501269657835,
          0.21033763590847698,
          -0.7287155055553871,
          -0.47420577562592925,
          -0.03539589643720831,
          -0.9393442475659732,
          -0.9832252354848467,
          -0.9832252354848467,
          -0.7199393079716128,
          0.9563144305293019,
          -0.3162342191179892,
          -0.7725964934742588,
          0.35953299483264267,
          -0.6234011345500932,
          -1.0446586185712672,
          -1.4308113122573403,
          1.3512433217991529,
          0.9036572450266558,
          -0.2811294287828918,
          -1.2377349654143028,
          -0.37766760220440965,
          -0.7638202958904845,
          0.7193570957673927,
          -0.17581505777759787,
          -0.17581505777759787,
          -0.3688914046206353,
          -0.45665338045838055,
          -0.2635770336153431,
          -0.0002911061021091399,
          -0.9920014330686193,
          1.0528526039508215,
          -0.2723532311991175,
          1.1142859870372437,
          -0.12315787227495179,
          -0.518086763544801,
          0.008485091481665208,
          -0.4391009852908301,
          0.8510000595240097,
          0.6403713175134236,
          -0.19336745294514657,
          -0.649729727301418,
          0.03481368423298825,
          -0.15826266261004918,
          -0.0880530819398544,
          -0.5268629611285753,
          0.5526093416756801,
          -0.544415356296124,
          -0.12315787227495179,
          -0.044172094020982655,
          -1.3167207436682737,
          -0.8340298765606811,
          -0.28990562636666617,
          0.14890425282205477,
          0.05236607940053695,
          -0.21091984811269526,
          0.8685524546915584,
          -0.5268629611285753,
          0.8861048498591089,
          0.29809961174622046,
          -0.2986818239504405,
          -0.42154859012328316,
          -0.3688914046206353,
          -0.518086763544801,
          -1.580006671181506,
          1.1142859870372437,
          1.245928950793859,
          0.0435898818167626,
          0.21033763590847698,
          0.22789003107602568,
          0.3419805996650922,
          -0.5619677514636727,
          0.5613855392594544,
          0.4560711682541605,
          0.01726128906543778,
          -0.16703886019382352,
          0.368309192416417,
          0.6842523054322971,
          -0.5970725417987719,
          0.33320440208131785,
          -0.0880530819398544,
          0.675476107848521,
          0.5526093416756801,
          0.33320440208131785,
          0.21033763590847698,
          0.499952156173034,
          0.1225756600707335,
          -0.14071026744250048,
          -0.9305680499821989,
          -0.10560547710740309,
          -0.386443799788184,
          0.20156143832470086,
          0.6315951199296492,
          -0.8077012838093562,
          -0.2811294287828918,
          -0.5619677514636727,
          -0.5619677514636727,
          -0.21091984811269526,
          -1.711649634938123,
          -0.12315787227495179,
          -0.7287155055553871,
          1.1669431725398898,
          0.10502326490318303,
          0.6491475150971979,
          0.20156143832470086,
          0.01726128906543778,
          0.8861048498591089,
          0.9124334426104301,
          -0.12315787227495179,
          1.1581669749561154,
          -0.03539589643720831,
          0.11379946248695738,
          -0.4039961949557327,
          0.6052665271783262,
          -0.5882963442149958,
          0.7983428740213636,
          -0.44787718287460443,
          0.21911383349225133,
          -0.43032478770705573,
          0.8685524546915584,
          0.7895666764375893,
          0.2893234141624461,
          0.4560711682541605,
          0.07869467215185999,
          -0.37766760220440965,
          -0.37766760220440965,
          -0.5707439490474471,
          0.1927852407409283,
          -0.544415356296124,
          0.23666622865980003,
          1.0353002087832728,
          0.5789379344270014,
          -0.14948646502627483,
          0.6842523054322971,
          -1.062211013738814,
          -0.34256281186931226,
          0.37708539000019137,
          -0.2811294287828918,
          0.6403713175134236,
          0.11379946248695738,
          0.6228189223458749,
          -0.03539589643720831,
          0.5789379344270014,
          -0.5882963442149958,
          0.13135185765450785,
          0.9299858377779806,
          -0.28990562636666617,
          -0.6234011345500932,
          1.2810337411289563,
          -0.061724489188529574,
          0.03481368423298825,
          0.24544242624357437,
          0.41219018033528876,
          -0.5093105659610266,
          0.23666622865980003,
          -0.9568966427335219,
          -1.2026301750792054,
          -1.4220351146735677,
          -0.07927688435608005,
          0.7193570957673927,
          -0.2635770336153431,
          0.10502326490318303,
          0.1752328455733796,
          -0.39521999737195834,
          0.701804700599844,
          0.20156143832470086,
          -0.34256281186931226,
          -0.6760583200527392,
          0.5701617368432288,
          -0.10560547710740309,
          0.5701617368432288,
          0.3244282044975453,
          -0.13193406985872613,
          -0.7023869128040641,
          0.2542186238273487,
          -0.0880530819398544,
          0.4472949706703879,
          0.061142276984311295,
          -0.5970725417987719,
          0.3244282044975453,
          0.41219018033528876,
          -0.3074580215342131,
          -0.4829819732097036,
          -0.16703886019382352,
          1.0353002087832728,
          -0.32501041670176356,
          0.7720142812700388,
          -0.026619698853432183,
          -0.37766760220440965,
          -0.3513390094530866,
          -0.7638202958904845,
          -0.026619698853432183,
          0.48239976100548354,
          0.6666999102647466,
          -0.8252536789769049,
          -0.10560547710740309,
          -0.6234011345500932,
          -0.5531915538798984,
          -0.5268629611285753,
          -0.2372484408640183,
          -0.39521999737195834,
          -0.49175817079347617,
          -0.6848345176365136,
          -0.18459125536137222,
          -0.2723532311991175,
          0.5526093416756801,
          0.7632380836862662,
          -0.7725964934742588,
          0.6315951199296492,
          -0.37766760220440965,
          0.5877141320107775,
          0.701804700599844,
          0.061142276984311295,
          -0.10560547710740309,
          0.2717710189948974,
          0.7456856885187175,
          -1.6940972397705742,
          -1.404482719506019,
          0.5175045513405809,
          -0.9042394572308758,
          -0.0880530819398544,
          0.13135185765450785,
          -0.4829819732097036,
          0.6930285030160714,
          -0.009067303685883488,
          -1.1324205944090107,
          0.8158952691889123,
          -0.39521999737195834,
          -0.42154859012328316,
          -0.2635770336153431,
          -0.37766760220440965,
          -0.4391009852908301,
          0.3244282044975453,
          0.061142276984311295,
          0.20156143832470086,
          0.06991847456808742,
          -0.5531915538798984,
          0.6052665271783262,
          -0.03539589643720831,
          -1.114868199241462,
          -0.6760583200527392,
          0.5175045513405809,
          -0.4039961949557327,
          0.5087283537568084,
          -0.16703886019382352,
          -0.24602463844779265,
          -0.22847224328024573,
          -0.649729727301418,
          -0.07050068677230392,
          -0.8340298765606811,
          -0.2635770336153431,
          0.29809961174622046,
          -1.351825534003373,
          -1.114868199241462,
          -1.580006671181506,
          0.9475382329455293,
          -0.4039961949557327,
          0.0435898818167626,
          0.42974257550283745,
          0.1752328455733796,
          0.4385187730866118,
          -0.09682927952362874,
          -0.4391009852908301,
          0.46484736583793484,
          -0.5531915538798984,
          0.11379946248695738,
          -0.32501041670176356,
          0.23666622865980003,
          -1.4834684977599881,
          1.0616288015345976,
          -0.7199393079716128,
          0.23666622865980003,
          0.33320440208131785,
          -0.6234011345500932,
          -0.5707439490474471,
          -0.28990562636666617,
          0.5613855392594544,
          -0.19336745294514657,
          -0.34256281186931226,
          -0.8340298765606811,
          -0.37766760220440965,
          1.3600195193829272,
          0.3068758093299966,
          -0.10560547710740309,
          -0.6760583200527392,
          0.05236607940053695,
          -0.20214365052892092,
          0.1752328455733796,
          -0.0880530819398544,
          0.4034139827515144,
          0.3946377851677383,
          0.008485091481665208,
          -0.19336745294514657,
          -0.5970725417987719,
          0.05236607940053695,
          0.7193570957673927,
          -0.32501041670176356,
          0.05236607940053695,
          -0.6760583200527392,
          0.1752328455733796,
          0.8246714667726884,
          -0.3688914046206353,
          -0.5531915538798984,
          -0.3688914046206353,
          1.8865913744093934,
          0.5964903295945518,
          0.8246714667726884,
          -0.21091984811269526,
          -0.009067303685883488,
          0.7369094909349432,
          0.05236607940053695,
          0.4560711682541605,
          -0.14071026744250048,
          -0.43032478770705573,
          0.22789003107602568,
          0.21033763590847698,
          -0.061724489188529574,
          -0.8779108644795528,
          0.37708539000019137,
          -0.044172094020982655,
          -0.34256281186931226,
          -0.13193406985872613,
          0.7369094909349432,
          0.29809961174622046,
          -0.43032478770705573,
          -0.12315787227495179,
          1.3600195193829272,
          -0.386443799788184,
          0.4472949706703879,
          0.28054721657867177,
          -0.16703886019382352,
          -1.1763015823278824,
          0.05236607940053695,
          -0.4654295780421549,
          -0.7725964934742588,
          0.31565200691377093,
          0.4034139827515144,
          0.14012805523828042,
          -0.4127723925395088,
          0.07869467215185999,
          -1.1499729895765594,
          -0.386443799788184,
          -0.37766760220440965,
          -0.49175817079347617,
          0.14890425282205477,
          -0.9305680499821989,
          1.140614579788565,
          0.9299858377779806,
          0.8158952691889123,
          -0.6321773321338675,
          0.026037486649213903,
          -0.6760583200527392,
          -0.2986818239504405,
          0.3858615875839657,
          -0.6672821224689667,
          0.5438331440919058,
          0.7807904788538149,
          0.6315951199296492,
          -0.10560547710740309,
          0.01726128906543778,
          -0.009067303685883488,
          0.1225756600707335,
          0.4560711682541605,
          0.499952156173034,
          -0.6848345176365136,
          -0.18459125536137222,
          -0.9481204451497476,
          -0.026619698853432183,
          0.9738668256968523,
          0.29809961174622046,
          -0.5093105659610266,
          -0.12315787227495179,
          0.1225756600707335,
          -0.36011520703686273,
          0.8158952691889123,
          0.0435898818167626,
          0.8422238619402354,
          -0.47420577562592925,
          0.23666622865980003,
          -0.17581505777759787,
          0.4560711682541605,
          -1.1236443968252363,
          -0.03539589643720831,
          0.08747086973563434,
          0.675476107848521,
          0.675476107848521,
          -0.3688914046206353,
          -0.061724489188529574,
          0.9299858377779806,
          -0.05294829160475523,
          -0.39521999737195834,
          1.0089716160319497,
          -1.0183300258199424,
          -0.16703886019382352,
          0.13135185765450785,
          0.026037486649213903,
          0.3244282044975453,
          -0.16703886019382352,
          1.9568009550795882,
          1.1142859870372437,
          0.22789003107602568,
          0.8422238619402354,
          -0.7901488886418093,
          -0.49175817079347617,
          0.1752328455733796,
          0.3946377851677383,
          -0.10560547710740309,
          -0.49175817079347617,
          -0.017843501269657835,
          -0.8515822717282298,
          0.24544242624357437,
          -0.28990562636666617,
          1.1844955677074385,
          -0.7989250862255837,
          0.24544242624357437,
          0.37708539000019137,
          0.01726128906543778,
          1.0089716160319497,
          -0.07927688435608005,
          -0.15826266261004918,
          -0.5093105659610266,
          0.5175045513405809,
          0.01726128906543778,
          0.5087283537568084,
          -0.3162342191179892,
          0.24544242624357437,
          0.5175045513405809,
          0.37708539000019137,
          0.859776257107784,
          -0.7550440983067102,
          -0.37766760220440965,
          0.22789003107602568,
          -0.8515822717282298,
          -0.20214365052892092,
          -0.061724489188529574,
          0.3244282044975453,
          -0.649729727301418,
          -0.2635770336153431,
          0.938762035361755,
          0.23666622865980003,
          -0.21091984811269526,
          -1.0797634089063646,
          -0.4391009852908301,
          -0.9481204451497476,
          0.9124334426104301,
          0.09624706731940869,
          -0.10560547710740309,
          -1.0358824209874928,
          -0.6760583200527392,
          0.3068758093299966,
          -0.28990562636666617,
          -0.4039961949557327,
          0.026037486649213903,
          0.15768045040582912,
          -0.061724489188529574,
          -0.4829819732097036,
          0.8685524546915584,
          0.22789003107602568,
          0.4472949706703879,
          0.368309192416417,
          0.3419805996650922,
          -0.4391009852908301,
          0.7807904788538149,
          0.5262807489243553,
          -0.45665338045838055,
          -0.0002911061021091399,
          0.01726128906543778,
          -0.6936107152202897,
          0.8948810474428814,
          1.0791811967021445,
          -0.7287155055553871,
          -0.2372484408640183,
          -0.15826266261004918,
          0.4034139827515144,
          -0.10560547710740309,
          -0.3074580215342131,
          -0.4829819732097036,
          -0.2986818239504405,
          1.1932717652912128,
          0.13135185765450785,
          0.499952156173034,
          -0.061724489188529574,
          -0.05294829160475523,
          0.10502326490318303,
          0.01726128906543778,
          -0.45665338045838055,
          -0.19336745294514657,
          0.7369094909349432,
          0.21911383349225133,
          0.6491475150971979,
          -0.518086763544801,
          0.6491475150971979,
          1.6057530517286107,
          0.16645664798960524,
          -0.07050068677230392,
          -0.7462679007229358,
          1.6320816444799355,
          -0.43032478770705573,
          -0.05294829160475523,
          -0.017843501269657835,
          1.1757193701236641,
          0.09624706731940869,
          0.29809961174622046,
          -1.1850777799116567,
          -0.5268629611285753,
          1.272257543545182,
          0.8158952691889123,
          -0.6409535297176419,
          -0.009067303685883488,
          -0.13193406985872613,
          0.35953299483264267,
          -0.0002911061021091399,
          -0.07050068677230392,
          0.03481368423298825,
          1.1142859870372437,
          0.20156143832470086,
          0.3858615875839657,
          0.5613855392594544,
          0.6140427247621005,
          -0.07050068677230392,
          0.2717710189948974,
          -0.009067303685883488,
          -0.03539589643720831,
          0.7983428740213636,
          0.11379946248695738,
          -0.5882963442149958,
          1.9041437695769403,
          0.3068758093299966,
          0.7369094909349432,
          0.15768045040582912,
          -0.8954632596471015,
          -0.7462679007229358,
          -0.10560547710740309,
          0.24544242624357437,
          0.6140427247621005,
          -0.43032478770705573,
          -0.17581505777759787,
          0.18400904315715394,
          0.01726128906543778,
          -0.5619677514636727,
          -0.6409535297176419,
          -0.4039961949557327,
          0.6930285030160714,
          -0.9042394572308758,
          -0.7462679007229358,
          -0.8691346668957767,
          -0.15826266261004918,
          -0.10560547710740309,
          0.701804700599844,
          -0.5268629611285753,
          -1.0709872113225902,
          -0.18459125536137222,
          -0.4127723925395088,
          -0.8779108644795528,
          -0.7725964934742588,
          -0.6672821224689667,
          -0.386443799788184,
          -0.34256281186931226,
          -0.43032478770705573,
          -0.2196960456964714,
          0.07869467215185999,
          0.2542186238273487,
          1.0440764063670471,
          -0.8164774813931306,
          -0.47420577562592925,
          -0.32501041670176356,
          1.245928950793859,
          -0.0880530819398544,
          -0.649729727301418,
          1.3687957169667015,
          0.41219018033528876,
          -0.017843501269657835,
          0.3244282044975453,
          -0.5707439490474471,
          -0.7989250862255837,
          -0.49175817079347617,
          -0.2196960456964714,
          -0.37766760220440965,
          0.4385187730866118,
          0.8685524546915584,
          0.1225756600707335,
          -0.4829819732097036,
          0.31565200691377093,
          -0.2196960456964714,
          0.8948810474428814,
          -0.044172094020982655,
          0.5087283537568084,
          -0.07050068677230392,
          -0.386443799788184,
          -0.4654295780421549,
          -0.3074580215342131,
          0.938762035361755,
          0.4209663779190631,
          0.4472949706703879,
          0.22789003107602568,
          -0.8779108644795528,
          -0.16703886019382352,
          -0.3337866142855379,
          -0.19336745294514657,
          0.6579237126809723,
          -1.0534348161550398,
          -0.37766760220440965,
          1.1318383822047924,
          -0.43032478770705573,
          -0.21091984811269526,
          -0.8077012838093562,
          -0.18459125536137222,
          0.8685524546915584,
          -0.9217918523984245,
          -0.544415356296124,
          1.0528526039508215,
          -0.044172094020982655,
          -0.5356391587123497,
          -0.9393442475659732,
          -0.4654295780421549,
          -0.3337866142855379,
          0.26299482141112485,
          1.2371527532100846,
          0.6491475150971979,
          -0.044172094020982655,
          -0.5093105659610266,
          -0.13193406985872613,
          -0.21091984811269526,
          -0.518086763544801,
          -0.5005343683772523,
          0.07869467215185999,
          -0.9481204451497476,
          -0.03539589643720831,
          1.0967335918696932,
          0.35953299483264267,
          -0.7638202958904845,
          -0.16703886019382352,
          0.23666622865980003,
          -0.34256281186931226,
          -0.8252536789769049,
          -0.39521999737195834,
          -0.7638202958904845,
          -0.16703886019382352,
          -0.9393442475659732,
          -0.7901488886418093,
          -0.22847224328024573,
          -0.6585059248851923,
          -0.386443799788184,
          -0.17581505777759787,
          1.2985861362965068,
          -0.7287155055553871,
          -0.061724489188529574,
          -0.07050068677230392,
          -0.2986818239504405,
          0.18400904315715394,
          -1.2289587678305303,
          -0.49175817079347617,
          0.15768045040582912,
          1.7022912251501285,
          -0.16703886019382352,
          -0.7111631103878384,
          -0.3074580215342131,
          -0.8779108644795528,
          -0.5795201466312214,
          0.6140427247621005,
          0.37708539000019137,
          0.08747086973563434,
          0.13135185765450785,
          0.5087283537568084,
          0.7105808981836184,
          0.6666999102647466,
          -0.05294829160475523,
          -0.7287155055553871,
          -1.114868199241462,
          -1.1060920016576876,
          0.14890425282205477,
          -0.017843501269657835,
          -0.2986818239504405,
          0.03481368423298825,
          0.5175045513405809,
          -0.8077012838093562,
          -0.19336745294514657,
          -0.14948646502627483,
          0.5613855392594544,
          0.05236607940053695,
          0.16645664798960524,
          -1.2289587678305303,
          0.18400904315715394,
          -0.8515822717282298,
          -0.6058487393825462,
          0.13135185765450785,
          0.6403713175134236,
          -0.3513390094530866,
          -0.42154859012328316,
          0.4034139827515144,
          -0.03539589643720831,
          1.5267672734746398,
          1.7637246082365508,
          -0.49175817079347617,
          -0.6146249369663188,
          -0.5882963442149958,
          -0.44787718287460443,
          0.23666622865980003,
          0.5701617368432288,
          0.7456856885187175,
          0.7807904788538149,
          0.4560711682541605,
          1.0791811967021445,
          0.35953299483264267,
          0.026037486649213903,
          -0.2986818239504405,
          -0.009067303685883488,
          0.28054721657867177,
          0.026037486649213903,
          1.4477814952206725,
          -0.3688914046206353,
          0.03481368423298825,
          0.061142276984311295,
          0.5087283537568084,
          -0.2196960456964714,
          0.7895666764375893,
          -0.14071026744250048,
          0.2717710189948974,
          0.42974257550283745,
          -0.14948646502627483,
          0.3507567972488683,
          0.8773286522753345,
          0.46484736583793484,
          -0.16703886019382352,
          0.1752328455733796,
          0.37708539000019137,
          0.8773286522753345,
          1.1142859870372437,
          -0.6585059248851923,
          0.10502326490318303,
          1.272257543545182,
          -0.6585059248851923,
          0.3068758093299966,
          0.8422238619402354,
          -0.44787718287460443,
          1.3600195193829272,
          -0.10560547710740309,
          0.24544242624357437,
          -0.5005343683772523,
          -0.2372484408640183,
          -0.6936107152202897,
          0.4472949706703879,
          0.6052665271783262,
          -0.2986818239504405,
          -0.17581505777759787,
          -0.2635770336153431,
          0.008485091481665208,
          0.01726128906543778,
          0.21911383349225133,
          -0.3162342191179892,
          0.499952156173034,
          -0.7462679007229358,
          -1.088539606490139,
          -0.9481204451497476,
          -0.2372484408640183,
          0.29809961174622046,
          -0.7901488886418093,
          -0.7550440983067102,
          0.01726128906543778,
          -0.6058487393825462,
          0.10502326490318303,
          -0.9393442475659732,
          -0.34256281186931226,
          0.48239976100548354,
          -0.07050068677230392,
          0.9212096401942063,
          0.33320440208131785,
          -0.6409535297176419,
          -0.4829819732097036,
          -0.3688914046206353,
          0.4736235634217092,
          0.5701617368432288,
          -0.9481204451497476,
          -0.0880530819398544,
          -0.6585059248851923,
          -0.2723532311991175,
          -0.026619698853432183,
          0.6666999102647466,
          -0.518086763544801,
          -0.28990562636666617,
          0.807119071605138,
          -0.017843501269657835,
          0.6403713175134236,
          0.9212096401942063,
          -0.18459125536137222,
          -0.32501041670176356,
          -0.10560547710740309,
          -0.9130156548146502,
          -0.22847224328024573,
          -0.12315787227495179,
          -0.43032478770705573,
          0.14012805523828042,
          -1.1763015823278824,
          -0.6234011345500932,
          0.07869467215185999,
          0.7105808981836184,
          -0.649729727301418,
          0.5789379344270014,
          -0.32501041670176356,
          0.061142276984311295,
          0.6403713175134236,
          1.017747813615724,
          -0.4654295780421549,
          -1.2552873605818533,
          -0.4829819732097036,
          0.3419805996650922,
          0.026037486649213903,
          0.33320440208131785,
          0.29809961174622046,
          -0.07050068677230392,
          0.8773286522753345,
          -0.12315787227495179,
          -0.39521999737195834,
          -1.1499729895765594,
          0.675476107848521,
          -0.9832252354848467,
          0.09624706731940869,
          0.07869467215185999,
          -0.2811294287828918,
          0.14012805523828042,
          0.368309192416417,
          -0.026619698853432183,
          1.0616288015345976,
          1.017747813615724,
          -0.7901488886418093,
          -0.5531915538798984,
          -0.5356391587123497,
          -0.5970725417987719,
          0.42974257550283745,
          0.6140427247621005,
          -0.14071026744250048,
          -0.32501041670176356,
          -0.8164774813931306,
          0.26299482141112485,
          -0.11438167469117566,
          -0.518086763544801,
          0.03481368423298825,
          -0.8779108644795528,
          -0.5970725417987719,
          -0.6585059248851923,
          1.1844955677074385,
          -0.6848345176365136,
          -0.2986818239504405,
          0.22789003107602568,
          0.16645664798960524,
          -0.649729727301418,
          0.938762035361755,
          0.7369094909349432,
          0.4034139827515144,
          0.5526093416756801,
          0.4034139827515144,
          -0.2372484408640183,
          -0.5619677514636727,
          0.22789003107602568,
          0.9036572450266558,
          0.4034139827515144,
          -0.4127723925395088,
          -0.7023869128040641,
          -0.8515822717282298,
          0.4472949706703879,
          0.05236607940053695,
          -0.5619677514636727,
          0.13135185765450785,
          0.21911383349225133,
          -0.6848345176365136,
          1.439005297636898,
          0.5877141320107775,
          0.4472949706703879,
          0.26299482141112485,
          0.3244282044975453,
          -0.6321773321338675,
          -0.07927688435608005,
          -0.7199393079716128,
          -0.6409535297176419,
          0.2542186238273487,
          0.008485091481665208,
          1.0791811967021445,
          -0.6585059248851923,
          -0.18459125536137222,
          -0.6760583200527392,
          1.482886285555768,
          -0.24602463844779265,
          0.37708539000019137,
          -0.9217918523984245,
          -0.5619677514636727,
          -0.44787718287460443,
          -0.24602463844779265,
          0.061142276984311295,
          -0.8252536789769049,
          0.21911383349225133,
          -0.2196960456964714,
          1.0967335918696932,
          -0.14071026744250048,
          -0.44787718287460443,
          0.05236607940053695,
          0.29809961174622046,
          1.1581669749561154,
          -0.4654295780421549,
          1.070404999118372,
          -0.6672821224689667,
          -0.07050068677230392,
          -0.7638202958904845,
          -0.9130156548146502,
          -0.2723532311991175,
          0.3946377851677383,
          0.2542186238273487,
          -0.9042394572308758,
          0.5438331440919058,
          -0.3688914046206353,
          0.05236607940053695,
          -0.22847224328024573,
          1.1844955677074385,
          -0.10560547710740309,
          0.859776257107784,
          0.9036572450266558,
          -0.20214365052892092
         ],
         "xaxis": "x",
         "yaxis": "y"
        }
       ],
       "layout": {
        "annotations": [
         {
          "showarrow": false,
          "text": "Observed Difference",
          "x": 0.7193570957673927,
          "xanchor": "left",
          "xref": "x",
          "y": 1,
          "yanchor": "top",
          "yref": "y domain"
         }
        ],
        "barmode": "relative",
        "legend": {
         "title": {
          "text": "variable"
         },
         "tracegroupgap": 0
        },
        "shapes": [
         {
          "line": {
           "color": "red"
          },
          "type": "line",
          "x0": 0.7193570957673927,
          "x1": 0.7193570957673927,
          "xref": "x",
          "y0": 0,
          "y1": 1,
          "yref": "y domain"
         }
        ],
        "template": {
         "data": {
          "bar": [
           {
            "error_x": {
             "color": "#2a3f5f"
            },
            "error_y": {
             "color": "#2a3f5f"
            },
            "marker": {
             "line": {
              "color": "#E5ECF6",
              "width": 0.5
             },
             "pattern": {
              "fillmode": "overlay",
              "size": 10,
              "solidity": 0.2
             }
            },
            "type": "bar"
           }
          ],
          "barpolar": [
           {
            "marker": {
             "line": {
              "color": "#E5ECF6",
              "width": 0.5
             },
             "pattern": {
              "fillmode": "overlay",
              "size": 10,
              "solidity": 0.2
             }
            },
            "type": "barpolar"
           }
          ],
          "carpet": [
           {
            "aaxis": {
             "endlinecolor": "#2a3f5f",
             "gridcolor": "white",
             "linecolor": "white",
             "minorgridcolor": "white",
             "startlinecolor": "#2a3f5f"
            },
            "baxis": {
             "endlinecolor": "#2a3f5f",
             "gridcolor": "white",
             "linecolor": "white",
             "minorgridcolor": "white",
             "startlinecolor": "#2a3f5f"
            },
            "type": "carpet"
           }
          ],
          "choropleth": [
           {
            "colorbar": {
             "outlinewidth": 0,
             "ticks": ""
            },
            "type": "choropleth"
           }
          ],
          "contour": [
           {
            "colorbar": {
             "outlinewidth": 0,
             "ticks": ""
            },
            "colorscale": [
             [
              0,
              "#0d0887"
             ],
             [
              0.1111111111111111,
              "#46039f"
             ],
             [
              0.2222222222222222,
              "#7201a8"
             ],
             [
              0.3333333333333333,
              "#9c179e"
             ],
             [
              0.4444444444444444,
              "#bd3786"
             ],
             [
              0.5555555555555556,
              "#d8576b"
             ],
             [
              0.6666666666666666,
              "#ed7953"
             ],
             [
              0.7777777777777778,
              "#fb9f3a"
             ],
             [
              0.8888888888888888,
              "#fdca26"
             ],
             [
              1,
              "#f0f921"
             ]
            ],
            "type": "contour"
           }
          ],
          "contourcarpet": [
           {
            "colorbar": {
             "outlinewidth": 0,
             "ticks": ""
            },
            "type": "contourcarpet"
           }
          ],
          "heatmap": [
           {
            "colorbar": {
             "outlinewidth": 0,
             "ticks": ""
            },
            "colorscale": [
             [
              0,
              "#0d0887"
             ],
             [
              0.1111111111111111,
              "#46039f"
             ],
             [
              0.2222222222222222,
              "#7201a8"
             ],
             [
              0.3333333333333333,
              "#9c179e"
             ],
             [
              0.4444444444444444,
              "#bd3786"
             ],
             [
              0.5555555555555556,
              "#d8576b"
             ],
             [
              0.6666666666666666,
              "#ed7953"
             ],
             [
              0.7777777777777778,
              "#fb9f3a"
             ],
             [
              0.8888888888888888,
              "#fdca26"
             ],
             [
              1,
              "#f0f921"
             ]
            ],
            "type": "heatmap"
           }
          ],
          "heatmapgl": [
           {
            "colorbar": {
             "outlinewidth": 0,
             "ticks": ""
            },
            "colorscale": [
             [
              0,
              "#0d0887"
             ],
             [
              0.1111111111111111,
              "#46039f"
             ],
             [
              0.2222222222222222,
              "#7201a8"
             ],
             [
              0.3333333333333333,
              "#9c179e"
             ],
             [
              0.4444444444444444,
              "#bd3786"
             ],
             [
              0.5555555555555556,
              "#d8576b"
             ],
             [
              0.6666666666666666,
              "#ed7953"
             ],
             [
              0.7777777777777778,
              "#fb9f3a"
             ],
             [
              0.8888888888888888,
              "#fdca26"
             ],
             [
              1,
              "#f0f921"
             ]
            ],
            "type": "heatmapgl"
           }
          ],
          "histogram": [
           {
            "marker": {
             "pattern": {
              "fillmode": "overlay",
              "size": 10,
              "solidity": 0.2
             }
            },
            "type": "histogram"
           }
          ],
          "histogram2d": [
           {
            "colorbar": {
             "outlinewidth": 0,
             "ticks": ""
            },
            "colorscale": [
             [
              0,
              "#0d0887"
             ],
             [
              0.1111111111111111,
              "#46039f"
             ],
             [
              0.2222222222222222,
              "#7201a8"
             ],
             [
              0.3333333333333333,
              "#9c179e"
             ],
             [
              0.4444444444444444,
              "#bd3786"
             ],
             [
              0.5555555555555556,
              "#d8576b"
             ],
             [
              0.6666666666666666,
              "#ed7953"
             ],
             [
              0.7777777777777778,
              "#fb9f3a"
             ],
             [
              0.8888888888888888,
              "#fdca26"
             ],
             [
              1,
              "#f0f921"
             ]
            ],
            "type": "histogram2d"
           }
          ],
          "histogram2dcontour": [
           {
            "colorbar": {
             "outlinewidth": 0,
             "ticks": ""
            },
            "colorscale": [
             [
              0,
              "#0d0887"
             ],
             [
              0.1111111111111111,
              "#46039f"
             ],
             [
              0.2222222222222222,
              "#7201a8"
             ],
             [
              0.3333333333333333,
              "#9c179e"
             ],
             [
              0.4444444444444444,
              "#bd3786"
             ],
             [
              0.5555555555555556,
              "#d8576b"
             ],
             [
              0.6666666666666666,
              "#ed7953"
             ],
             [
              0.7777777777777778,
              "#fb9f3a"
             ],
             [
              0.8888888888888888,
              "#fdca26"
             ],
             [
              1,
              "#f0f921"
             ]
            ],
            "type": "histogram2dcontour"
           }
          ],
          "mesh3d": [
           {
            "colorbar": {
             "outlinewidth": 0,
             "ticks": ""
            },
            "type": "mesh3d"
           }
          ],
          "parcoords": [
           {
            "line": {
             "colorbar": {
              "outlinewidth": 0,
              "ticks": ""
             }
            },
            "type": "parcoords"
           }
          ],
          "pie": [
           {
            "automargin": true,
            "type": "pie"
           }
          ],
          "scatter": [
           {
            "fillpattern": {
             "fillmode": "overlay",
             "size": 10,
             "solidity": 0.2
            },
            "type": "scatter"
           }
          ],
          "scatter3d": [
           {
            "line": {
             "colorbar": {
              "outlinewidth": 0,
              "ticks": ""
             }
            },
            "marker": {
             "colorbar": {
              "outlinewidth": 0,
              "ticks": ""
             }
            },
            "type": "scatter3d"
           }
          ],
          "scattercarpet": [
           {
            "marker": {
             "colorbar": {
              "outlinewidth": 0,
              "ticks": ""
             }
            },
            "type": "scattercarpet"
           }
          ],
          "scattergeo": [
           {
            "marker": {
             "colorbar": {
              "outlinewidth": 0,
              "ticks": ""
             }
            },
            "type": "scattergeo"
           }
          ],
          "scattergl": [
           {
            "marker": {
             "colorbar": {
              "outlinewidth": 0,
              "ticks": ""
             }
            },
            "type": "scattergl"
           }
          ],
          "scattermapbox": [
           {
            "marker": {
             "colorbar": {
              "outlinewidth": 0,
              "ticks": ""
             }
            },
            "type": "scattermapbox"
           }
          ],
          "scatterpolar": [
           {
            "marker": {
             "colorbar": {
              "outlinewidth": 0,
              "ticks": ""
             }
            },
            "type": "scatterpolar"
           }
          ],
          "scatterpolargl": [
           {
            "marker": {
             "colorbar": {
              "outlinewidth": 0,
              "ticks": ""
             }
            },
            "type": "scatterpolargl"
           }
          ],
          "scatterternary": [
           {
            "marker": {
             "colorbar": {
              "outlinewidth": 0,
              "ticks": ""
             }
            },
            "type": "scatterternary"
           }
          ],
          "surface": [
           {
            "colorbar": {
             "outlinewidth": 0,
             "ticks": ""
            },
            "colorscale": [
             [
              0,
              "#0d0887"
             ],
             [
              0.1111111111111111,
              "#46039f"
             ],
             [
              0.2222222222222222,
              "#7201a8"
             ],
             [
              0.3333333333333333,
              "#9c179e"
             ],
             [
              0.4444444444444444,
              "#bd3786"
             ],
             [
              0.5555555555555556,
              "#d8576b"
             ],
             [
              0.6666666666666666,
              "#ed7953"
             ],
             [
              0.7777777777777778,
              "#fb9f3a"
             ],
             [
              0.8888888888888888,
              "#fdca26"
             ],
             [
              1,
              "#f0f921"
             ]
            ],
            "type": "surface"
           }
          ],
          "table": [
           {
            "cells": {
             "fill": {
              "color": "#EBF0F8"
             },
             "line": {
              "color": "white"
             }
            },
            "header": {
             "fill": {
              "color": "#C8D4E3"
             },
             "line": {
              "color": "white"
             }
            },
            "type": "table"
           }
          ]
         },
         "layout": {
          "annotationdefaults": {
           "arrowcolor": "#2a3f5f",
           "arrowhead": 0,
           "arrowwidth": 1
          },
          "autotypenumbers": "strict",
          "coloraxis": {
           "colorbar": {
            "outlinewidth": 0,
            "ticks": ""
           }
          },
          "colorscale": {
           "diverging": [
            [
             0,
             "#8e0152"
            ],
            [
             0.1,
             "#c51b7d"
            ],
            [
             0.2,
             "#de77ae"
            ],
            [
             0.3,
             "#f1b6da"
            ],
            [
             0.4,
             "#fde0ef"
            ],
            [
             0.5,
             "#f7f7f7"
            ],
            [
             0.6,
             "#e6f5d0"
            ],
            [
             0.7,
             "#b8e186"
            ],
            [
             0.8,
             "#7fbc41"
            ],
            [
             0.9,
             "#4d9221"
            ],
            [
             1,
             "#276419"
            ]
           ],
           "sequential": [
            [
             0,
             "#0d0887"
            ],
            [
             0.1111111111111111,
             "#46039f"
            ],
            [
             0.2222222222222222,
             "#7201a8"
            ],
            [
             0.3333333333333333,
             "#9c179e"
            ],
            [
             0.4444444444444444,
             "#bd3786"
            ],
            [
             0.5555555555555556,
             "#d8576b"
            ],
            [
             0.6666666666666666,
             "#ed7953"
            ],
            [
             0.7777777777777778,
             "#fb9f3a"
            ],
            [
             0.8888888888888888,
             "#fdca26"
            ],
            [
             1,
             "#f0f921"
            ]
           ],
           "sequentialminus": [
            [
             0,
             "#0d0887"
            ],
            [
             0.1111111111111111,
             "#46039f"
            ],
            [
             0.2222222222222222,
             "#7201a8"
            ],
            [
             0.3333333333333333,
             "#9c179e"
            ],
            [
             0.4444444444444444,
             "#bd3786"
            ],
            [
             0.5555555555555556,
             "#d8576b"
            ],
            [
             0.6666666666666666,
             "#ed7953"
            ],
            [
             0.7777777777777778,
             "#fb9f3a"
            ],
            [
             0.8888888888888888,
             "#fdca26"
            ],
            [
             1,
             "#f0f921"
            ]
           ]
          },
          "colorway": [
           "#636efa",
           "#EF553B",
           "#00cc96",
           "#ab63fa",
           "#FFA15A",
           "#19d3f3",
           "#FF6692",
           "#B6E880",
           "#FF97FF",
           "#FECB52"
          ],
          "font": {
           "color": "#2a3f5f"
          },
          "geo": {
           "bgcolor": "white",
           "lakecolor": "white",
           "landcolor": "#E5ECF6",
           "showlakes": true,
           "showland": true,
           "subunitcolor": "white"
          },
          "hoverlabel": {
           "align": "left"
          },
          "hovermode": "closest",
          "mapbox": {
           "style": "light"
          },
          "paper_bgcolor": "white",
          "plot_bgcolor": "#E5ECF6",
          "polar": {
           "angularaxis": {
            "gridcolor": "white",
            "linecolor": "white",
            "ticks": ""
           },
           "bgcolor": "#E5ECF6",
           "radialaxis": {
            "gridcolor": "white",
            "linecolor": "white",
            "ticks": ""
           }
          },
          "scene": {
           "xaxis": {
            "backgroundcolor": "#E5ECF6",
            "gridcolor": "white",
            "gridwidth": 2,
            "linecolor": "white",
            "showbackground": true,
            "ticks": "",
            "zerolinecolor": "white"
           },
           "yaxis": {
            "backgroundcolor": "#E5ECF6",
            "gridcolor": "white",
            "gridwidth": 2,
            "linecolor": "white",
            "showbackground": true,
            "ticks": "",
            "zerolinecolor": "white"
           },
           "zaxis": {
            "backgroundcolor": "#E5ECF6",
            "gridcolor": "white",
            "gridwidth": 2,
            "linecolor": "white",
            "showbackground": true,
            "ticks": "",
            "zerolinecolor": "white"
           }
          },
          "shapedefaults": {
           "line": {
            "color": "#2a3f5f"
           }
          },
          "ternary": {
           "aaxis": {
            "gridcolor": "white",
            "linecolor": "white",
            "ticks": ""
           },
           "baxis": {
            "gridcolor": "white",
            "linecolor": "white",
            "ticks": ""
           },
           "bgcolor": "#E5ECF6",
           "caxis": {
            "gridcolor": "white",
            "linecolor": "white",
            "ticks": ""
           }
          },
          "title": {
           "x": 0.05
          },
          "xaxis": {
           "automargin": true,
           "gridcolor": "white",
           "linecolor": "white",
           "ticks": "",
           "title": {
            "standoff": 15
           },
           "zerolinecolor": "white",
           "zerolinewidth": 2
          },
          "yaxis": {
           "automargin": true,
           "gridcolor": "white",
           "linecolor": "white",
           "ticks": "",
           "title": {
            "standoff": 15
           },
           "zerolinecolor": "white",
           "zerolinewidth": 2
          }
         }
        },
        "title": {
         "text": "Permutation Test for Missing Description on n_steps"
        },
        "xaxis": {
         "anchor": "y",
         "domain": [
          0,
          1
         ],
         "title": {
          "text": "Difference in n_steps Means"
         }
        },
        "yaxis": {
         "anchor": "x",
         "domain": [
          0,
          1
         ],
         "title": {
          "text": "probability"
         }
        }
       }
      }
     },
     "metadata": {},
     "output_type": "display_data"
    },
    {
     "name": "stdout",
     "output_type": "stream",
     "text": [
      "Observed Difference in Rating: -0.17518866252859944, p-value: 0.01\n",
      "Observed Difference in n_steps: 0.7193570957673927, p-value: 0.246\n"
     ]
    }
   ],
   "source": [
    "merged_df[\"missing_description\"] = merged_df[\"description\"].isna().astype(int)\n",
    "\n",
    "def permutation_test(df, feature, n_permutations=1000):\n",
    "    observed_diff = df.groupby(\"missing_description\")[feature].mean().diff().iloc[-1]\n",
    "    \n",
    "    perm_diffs = []\n",
    "    for _ in range(n_permutations):\n",
    "        shuffled_missing = np.random.permutation(df[\"missing_description\"])\n",
    "        perm_diff = df.assign(shuffled_missing=shuffled_missing).groupby(\"shuffled_missing\")[feature].mean().diff().iloc[-1]\n",
    "        perm_diffs.append(perm_diff)\n",
    "    \n",
    "\n",
    "    p_value = np.mean(np.abs(perm_diffs) >= np.abs(observed_diff))\n",
    "    \n",
    "    fig = px.histogram(perm_diffs, nbins=30, histnorm=\"probability\",\n",
    "                       title=f\"Permutation Test for Missing Description on {feature}\",\n",
    "                       labels={\"value\": f\"Difference in {feature} Means\"})\n",
    "    fig.add_vline(x=observed_diff, line_color=\"red\", annotation_text=\"Observed Difference\")\n",
    "    fig.show()\n",
    "    \n",
    "    return observed_diff, p_value, fig\n",
    "\n",
    "\n",
    "obs_diff_rating, p_value_rating, fig_rating = permutation_test(merged_df, \"rating\")\n",
    "obs_diff_n_steps, p_value_n_steps, fig_n_steps = permutation_test(merged_df, \"n_steps\")\n",
    "\n",
    "print(f\"Observed Difference in Rating: {obs_diff_rating}, p-value: {p_value_rating}\")\n",
    "print(f\"Observed Difference in n_steps: {obs_diff_n_steps}, p-value: {p_value_n_steps}\")"
   ]
  },
  {
   "cell_type": "code",
   "execution_count": 37,
   "metadata": {},
   "outputs": [],
   "source": [
    "fig_rating.write_html(\"assets/perm_rating.html\", include_plotlyjs='cdn')\n",
    "fig_n_steps.write_html(\"assets/perm_steps.html\", include_plotlyjs='cdn')"
   ]
  },
  {
   "cell_type": "markdown",
   "metadata": {},
   "source": [
    "##### Since p-value `n_steps` is higher than `0.05`, our test suggests that missing descriptions could be **MCAR** (Missing Completely at Random) on these columns.\n",
    "##### Since p-values for columns like `rating` is lower than `0.05`, our test suggests that missing descriptions could be **MAR** (Missing at Random) on these columns."
   ]
  },
  {
   "cell_type": "markdown",
   "metadata": {},
   "source": [
    "## Step 4: Hypothesis Testing"
   ]
  },
  {
   "cell_type": "markdown",
   "metadata": {},
   "source": [
    "##### **Null**: The average rating of recipes with 9 or fewer ingredients is the same as recipes with more than 9 ingredients. Any observed difference is due to random chance.\\\n",
    "##### **Alternative**: The average rating of recipes with 9 or fewer ingredients is different from recipes with more than 9 ingredients.\n"
   ]
  },
  {
   "cell_type": "code",
   "execution_count": null,
   "metadata": {},
   "outputs": [
    {
     "data": {
      "text/html": [
       "<div>\n",
       "<style scoped>\n",
       "    .dataframe tbody tr th:only-of-type {\n",
       "        vertical-align: middle;\n",
       "    }\n",
       "\n",
       "    .dataframe tbody tr th {\n",
       "        vertical-align: top;\n",
       "    }\n",
       "\n",
       "    .dataframe thead th {\n",
       "        text-align: right;\n",
       "    }\n",
       "</style>\n",
       "<table border=\"1\" class=\"dataframe\">\n",
       "  <thead>\n",
       "    <tr style=\"text-align: right;\">\n",
       "      <th></th>\n",
       "      <th>name</th>\n",
       "      <th>id</th>\n",
       "      <th>minutes</th>\n",
       "      <th>contributor_id</th>\n",
       "      <th>submitted</th>\n",
       "      <th>tags</th>\n",
       "      <th>n_steps</th>\n",
       "      <th>steps</th>\n",
       "      <th>description</th>\n",
       "      <th>ingredients</th>\n",
       "      <th>...</th>\n",
       "      <th>saturated_fat</th>\n",
       "      <th>carbohydrates</th>\n",
       "      <th>user_id</th>\n",
       "      <th>recipe_id</th>\n",
       "      <th>date</th>\n",
       "      <th>rating</th>\n",
       "      <th>review</th>\n",
       "      <th>average_rating</th>\n",
       "      <th>ingredient_complexity</th>\n",
       "      <th>is_missing_rating</th>\n",
       "    </tr>\n",
       "  </thead>\n",
       "  <tbody>\n",
       "    <tr>\n",
       "      <th>0</th>\n",
       "      <td>1 brownies in the world    best ever</td>\n",
       "      <td>333281</td>\n",
       "      <td>40</td>\n",
       "      <td>985201</td>\n",
       "      <td>2008-10-27</td>\n",
       "      <td>['60-minutes-or-less', 'time-to-make', 'course...</td>\n",
       "      <td>10</td>\n",
       "      <td>['heat the oven to 350f and arrange the rack i...</td>\n",
       "      <td>these are the most; chocolatey, moist, rich, d...</td>\n",
       "      <td>['bittersweet chocolate', 'unsalted butter', '...</td>\n",
       "      <td>...</td>\n",
       "      <td>19.0</td>\n",
       "      <td>6.0</td>\n",
       "      <td>3.865850e+05</td>\n",
       "      <td>333281.0</td>\n",
       "      <td>2008-11-19</td>\n",
       "      <td>4.0</td>\n",
       "      <td>These were pretty good, but took forever to ba...</td>\n",
       "      <td>4.0</td>\n",
       "      <td>Simple</td>\n",
       "      <td>0</td>\n",
       "    </tr>\n",
       "    <tr>\n",
       "      <th>1</th>\n",
       "      <td>1 in canada chocolate chip cookies</td>\n",
       "      <td>453467</td>\n",
       "      <td>45</td>\n",
       "      <td>1848091</td>\n",
       "      <td>2011-04-11</td>\n",
       "      <td>['60-minutes-or-less', 'time-to-make', 'cuisin...</td>\n",
       "      <td>12</td>\n",
       "      <td>['pre-heat oven the 350 degrees f', 'in a mixi...</td>\n",
       "      <td>this is the recipe that we use at my school ca...</td>\n",
       "      <td>['white sugar', 'brown sugar', 'salt', 'margar...</td>\n",
       "      <td>...</td>\n",
       "      <td>51.0</td>\n",
       "      <td>26.0</td>\n",
       "      <td>4.246800e+05</td>\n",
       "      <td>453467.0</td>\n",
       "      <td>2012-01-26</td>\n",
       "      <td>5.0</td>\n",
       "      <td>Originally I was gonna cut the recipe in half ...</td>\n",
       "      <td>5.0</td>\n",
       "      <td>Complex</td>\n",
       "      <td>0</td>\n",
       "    </tr>\n",
       "    <tr>\n",
       "      <th>2</th>\n",
       "      <td>412 broccoli casserole</td>\n",
       "      <td>306168</td>\n",
       "      <td>40</td>\n",
       "      <td>50969</td>\n",
       "      <td>2008-05-30</td>\n",
       "      <td>['60-minutes-or-less', 'time-to-make', 'course...</td>\n",
       "      <td>6</td>\n",
       "      <td>['preheat oven to 350 degrees', 'spray a 2 qua...</td>\n",
       "      <td>since there are already 411 recipes for brocco...</td>\n",
       "      <td>['frozen broccoli cuts', 'cream of chicken sou...</td>\n",
       "      <td>...</td>\n",
       "      <td>36.0</td>\n",
       "      <td>3.0</td>\n",
       "      <td>2.978200e+04</td>\n",
       "      <td>306168.0</td>\n",
       "      <td>2008-12-31</td>\n",
       "      <td>5.0</td>\n",
       "      <td>This was one of the best broccoli casseroles t...</td>\n",
       "      <td>5.0</td>\n",
       "      <td>Simple</td>\n",
       "      <td>0</td>\n",
       "    </tr>\n",
       "    <tr>\n",
       "      <th>3</th>\n",
       "      <td>412 broccoli casserole</td>\n",
       "      <td>306168</td>\n",
       "      <td>40</td>\n",
       "      <td>50969</td>\n",
       "      <td>2008-05-30</td>\n",
       "      <td>['60-minutes-or-less', 'time-to-make', 'course...</td>\n",
       "      <td>6</td>\n",
       "      <td>['preheat oven to 350 degrees', 'spray a 2 qua...</td>\n",
       "      <td>since there are already 411 recipes for brocco...</td>\n",
       "      <td>['frozen broccoli cuts', 'cream of chicken sou...</td>\n",
       "      <td>...</td>\n",
       "      <td>36.0</td>\n",
       "      <td>3.0</td>\n",
       "      <td>1.196280e+06</td>\n",
       "      <td>306168.0</td>\n",
       "      <td>2009-04-13</td>\n",
       "      <td>5.0</td>\n",
       "      <td>I made this for my son's first birthday party ...</td>\n",
       "      <td>5.0</td>\n",
       "      <td>Simple</td>\n",
       "      <td>0</td>\n",
       "    </tr>\n",
       "    <tr>\n",
       "      <th>4</th>\n",
       "      <td>412 broccoli casserole</td>\n",
       "      <td>306168</td>\n",
       "      <td>40</td>\n",
       "      <td>50969</td>\n",
       "      <td>2008-05-30</td>\n",
       "      <td>['60-minutes-or-less', 'time-to-make', 'course...</td>\n",
       "      <td>6</td>\n",
       "      <td>['preheat oven to 350 degrees', 'spray a 2 qua...</td>\n",
       "      <td>since there are already 411 recipes for brocco...</td>\n",
       "      <td>['frozen broccoli cuts', 'cream of chicken sou...</td>\n",
       "      <td>...</td>\n",
       "      <td>36.0</td>\n",
       "      <td>3.0</td>\n",
       "      <td>7.688280e+05</td>\n",
       "      <td>306168.0</td>\n",
       "      <td>2013-08-02</td>\n",
       "      <td>5.0</td>\n",
       "      <td>Loved this.  Be sure to completely thaw the br...</td>\n",
       "      <td>5.0</td>\n",
       "      <td>Simple</td>\n",
       "      <td>0</td>\n",
       "    </tr>\n",
       "    <tr>\n",
       "      <th>...</th>\n",
       "      <td>...</td>\n",
       "      <td>...</td>\n",
       "      <td>...</td>\n",
       "      <td>...</td>\n",
       "      <td>...</td>\n",
       "      <td>...</td>\n",
       "      <td>...</td>\n",
       "      <td>...</td>\n",
       "      <td>...</td>\n",
       "      <td>...</td>\n",
       "      <td>...</td>\n",
       "      <td>...</td>\n",
       "      <td>...</td>\n",
       "      <td>...</td>\n",
       "      <td>...</td>\n",
       "      <td>...</td>\n",
       "      <td>...</td>\n",
       "      <td>...</td>\n",
       "      <td>...</td>\n",
       "      <td>...</td>\n",
       "      <td>...</td>\n",
       "    </tr>\n",
       "    <tr>\n",
       "      <th>234424</th>\n",
       "      <td>zydeco ya ya deviled eggs</td>\n",
       "      <td>308080</td>\n",
       "      <td>40</td>\n",
       "      <td>37779</td>\n",
       "      <td>2008-06-07</td>\n",
       "      <td>['60-minutes-or-less', 'time-to-make', 'course...</td>\n",
       "      <td>7</td>\n",
       "      <td>['in a bowl , combine the mashed yolks and may...</td>\n",
       "      <td>deviled eggs, cajun-style</td>\n",
       "      <td>['hard-cooked eggs', 'mayonnaise', 'dijon must...</td>\n",
       "      <td>...</td>\n",
       "      <td>5.0</td>\n",
       "      <td>0.0</td>\n",
       "      <td>8.445540e+05</td>\n",
       "      <td>308080.0</td>\n",
       "      <td>2009-10-14</td>\n",
       "      <td>5.0</td>\n",
       "      <td>These were very good. I meant to add some jala...</td>\n",
       "      <td>5.0</td>\n",
       "      <td>Simple</td>\n",
       "      <td>0</td>\n",
       "    </tr>\n",
       "    <tr>\n",
       "      <th>234425</th>\n",
       "      <td>cookies by design   cookies on a stick</td>\n",
       "      <td>298512</td>\n",
       "      <td>29</td>\n",
       "      <td>506822</td>\n",
       "      <td>2008-04-15</td>\n",
       "      <td>['30-minutes-or-less', 'time-to-make', 'course...</td>\n",
       "      <td>9</td>\n",
       "      <td>['place melted butter in a large mixing bowl a...</td>\n",
       "      <td>i've heard of the 'cookies by design' company,...</td>\n",
       "      <td>['butter', 'eagle brand condensed milk', 'ligh...</td>\n",
       "      <td>...</td>\n",
       "      <td>21.0</td>\n",
       "      <td>9.0</td>\n",
       "      <td>8.042340e+05</td>\n",
       "      <td>298512.0</td>\n",
       "      <td>2008-05-02</td>\n",
       "      <td>1.0</td>\n",
       "      <td>I would rate this a zero if I could. I followe...</td>\n",
       "      <td>1.0</td>\n",
       "      <td>Complex</td>\n",
       "      <td>0</td>\n",
       "    </tr>\n",
       "    <tr>\n",
       "      <th>234426</th>\n",
       "      <td>cookies by design   sugar shortbread cookies</td>\n",
       "      <td>298509</td>\n",
       "      <td>20</td>\n",
       "      <td>506822</td>\n",
       "      <td>2008-04-15</td>\n",
       "      <td>['30-minutes-or-less', 'time-to-make', 'course...</td>\n",
       "      <td>5</td>\n",
       "      <td>['whip sugar and shortening in a large bowl , ...</td>\n",
       "      <td>i've heard of the 'cookies by design' company,...</td>\n",
       "      <td>['granulated sugar', 'shortening', 'eggs', 'fl...</td>\n",
       "      <td>...</td>\n",
       "      <td>11.0</td>\n",
       "      <td>6.0</td>\n",
       "      <td>8.666510e+05</td>\n",
       "      <td>298509.0</td>\n",
       "      <td>2008-06-19</td>\n",
       "      <td>1.0</td>\n",
       "      <td>This recipe tastes nothing like the Cookies by...</td>\n",
       "      <td>3.0</td>\n",
       "      <td>Simple</td>\n",
       "      <td>0</td>\n",
       "    </tr>\n",
       "    <tr>\n",
       "      <th>234427</th>\n",
       "      <td>cookies by design   sugar shortbread cookies</td>\n",
       "      <td>298509</td>\n",
       "      <td>20</td>\n",
       "      <td>506822</td>\n",
       "      <td>2008-04-15</td>\n",
       "      <td>['30-minutes-or-less', 'time-to-make', 'course...</td>\n",
       "      <td>5</td>\n",
       "      <td>['whip sugar and shortening in a large bowl , ...</td>\n",
       "      <td>i've heard of the 'cookies by design' company,...</td>\n",
       "      <td>['granulated sugar', 'shortening', 'eggs', 'fl...</td>\n",
       "      <td>...</td>\n",
       "      <td>11.0</td>\n",
       "      <td>6.0</td>\n",
       "      <td>1.546277e+06</td>\n",
       "      <td>298509.0</td>\n",
       "      <td>2010-02-08</td>\n",
       "      <td>5.0</td>\n",
       "      <td>yummy cookies, i love this recipe me and my sm...</td>\n",
       "      <td>3.0</td>\n",
       "      <td>Simple</td>\n",
       "      <td>0</td>\n",
       "    </tr>\n",
       "    <tr>\n",
       "      <th>234428</th>\n",
       "      <td>cookies by design   sugar shortbread cookies</td>\n",
       "      <td>298509</td>\n",
       "      <td>20</td>\n",
       "      <td>506822</td>\n",
       "      <td>2008-04-15</td>\n",
       "      <td>['30-minutes-or-less', 'time-to-make', 'course...</td>\n",
       "      <td>5</td>\n",
       "      <td>['whip sugar and shortening in a large bowl , ...</td>\n",
       "      <td>i've heard of the 'cookies by design' company,...</td>\n",
       "      <td>['granulated sugar', 'shortening', 'eggs', 'fl...</td>\n",
       "      <td>...</td>\n",
       "      <td>11.0</td>\n",
       "      <td>6.0</td>\n",
       "      <td>1.803288e+09</td>\n",
       "      <td>298509.0</td>\n",
       "      <td>2014-11-01</td>\n",
       "      <td>NaN</td>\n",
       "      <td>I work at a Cookies By Design and can say this...</td>\n",
       "      <td>3.0</td>\n",
       "      <td>Simple</td>\n",
       "      <td>1</td>\n",
       "    </tr>\n",
       "  </tbody>\n",
       "</table>\n",
       "<p>234429 rows × 26 columns</p>\n",
       "</div>"
      ],
      "text/plain": [
       "                                                name      id  minutes  \\\n",
       "0               1 brownies in the world    best ever  333281       40   \n",
       "1                 1 in canada chocolate chip cookies  453467       45   \n",
       "2                             412 broccoli casserole  306168       40   \n",
       "3                             412 broccoli casserole  306168       40   \n",
       "4                             412 broccoli casserole  306168       40   \n",
       "...                                              ...     ...      ...   \n",
       "234424                     zydeco ya ya deviled eggs  308080       40   \n",
       "234425        cookies by design   cookies on a stick  298512       29   \n",
       "234426  cookies by design   sugar shortbread cookies  298509       20   \n",
       "234427  cookies by design   sugar shortbread cookies  298509       20   \n",
       "234428  cookies by design   sugar shortbread cookies  298509       20   \n",
       "\n",
       "        contributor_id  submitted  \\\n",
       "0               985201 2008-10-27   \n",
       "1              1848091 2011-04-11   \n",
       "2                50969 2008-05-30   \n",
       "3                50969 2008-05-30   \n",
       "4                50969 2008-05-30   \n",
       "...                ...        ...   \n",
       "234424           37779 2008-06-07   \n",
       "234425          506822 2008-04-15   \n",
       "234426          506822 2008-04-15   \n",
       "234427          506822 2008-04-15   \n",
       "234428          506822 2008-04-15   \n",
       "\n",
       "                                                     tags  n_steps  \\\n",
       "0       ['60-minutes-or-less', 'time-to-make', 'course...       10   \n",
       "1       ['60-minutes-or-less', 'time-to-make', 'cuisin...       12   \n",
       "2       ['60-minutes-or-less', 'time-to-make', 'course...        6   \n",
       "3       ['60-minutes-or-less', 'time-to-make', 'course...        6   \n",
       "4       ['60-minutes-or-less', 'time-to-make', 'course...        6   \n",
       "...                                                   ...      ...   \n",
       "234424  ['60-minutes-or-less', 'time-to-make', 'course...        7   \n",
       "234425  ['30-minutes-or-less', 'time-to-make', 'course...        9   \n",
       "234426  ['30-minutes-or-less', 'time-to-make', 'course...        5   \n",
       "234427  ['30-minutes-or-less', 'time-to-make', 'course...        5   \n",
       "234428  ['30-minutes-or-less', 'time-to-make', 'course...        5   \n",
       "\n",
       "                                                    steps  \\\n",
       "0       ['heat the oven to 350f and arrange the rack i...   \n",
       "1       ['pre-heat oven the 350 degrees f', 'in a mixi...   \n",
       "2       ['preheat oven to 350 degrees', 'spray a 2 qua...   \n",
       "3       ['preheat oven to 350 degrees', 'spray a 2 qua...   \n",
       "4       ['preheat oven to 350 degrees', 'spray a 2 qua...   \n",
       "...                                                   ...   \n",
       "234424  ['in a bowl , combine the mashed yolks and may...   \n",
       "234425  ['place melted butter in a large mixing bowl a...   \n",
       "234426  ['whip sugar and shortening in a large bowl , ...   \n",
       "234427  ['whip sugar and shortening in a large bowl , ...   \n",
       "234428  ['whip sugar and shortening in a large bowl , ...   \n",
       "\n",
       "                                              description  \\\n",
       "0       these are the most; chocolatey, moist, rich, d...   \n",
       "1       this is the recipe that we use at my school ca...   \n",
       "2       since there are already 411 recipes for brocco...   \n",
       "3       since there are already 411 recipes for brocco...   \n",
       "4       since there are already 411 recipes for brocco...   \n",
       "...                                                   ...   \n",
       "234424                          deviled eggs, cajun-style   \n",
       "234425  i've heard of the 'cookies by design' company,...   \n",
       "234426  i've heard of the 'cookies by design' company,...   \n",
       "234427  i've heard of the 'cookies by design' company,...   \n",
       "234428  i've heard of the 'cookies by design' company,...   \n",
       "\n",
       "                                              ingredients  ...  saturated_fat  \\\n",
       "0       ['bittersweet chocolate', 'unsalted butter', '...  ...           19.0   \n",
       "1       ['white sugar', 'brown sugar', 'salt', 'margar...  ...           51.0   \n",
       "2       ['frozen broccoli cuts', 'cream of chicken sou...  ...           36.0   \n",
       "3       ['frozen broccoli cuts', 'cream of chicken sou...  ...           36.0   \n",
       "4       ['frozen broccoli cuts', 'cream of chicken sou...  ...           36.0   \n",
       "...                                                   ...  ...            ...   \n",
       "234424  ['hard-cooked eggs', 'mayonnaise', 'dijon must...  ...            5.0   \n",
       "234425  ['butter', 'eagle brand condensed milk', 'ligh...  ...           21.0   \n",
       "234426  ['granulated sugar', 'shortening', 'eggs', 'fl...  ...           11.0   \n",
       "234427  ['granulated sugar', 'shortening', 'eggs', 'fl...  ...           11.0   \n",
       "234428  ['granulated sugar', 'shortening', 'eggs', 'fl...  ...           11.0   \n",
       "\n",
       "        carbohydrates       user_id  recipe_id       date  rating  \\\n",
       "0                 6.0  3.865850e+05   333281.0 2008-11-19     4.0   \n",
       "1                26.0  4.246800e+05   453467.0 2012-01-26     5.0   \n",
       "2                 3.0  2.978200e+04   306168.0 2008-12-31     5.0   \n",
       "3                 3.0  1.196280e+06   306168.0 2009-04-13     5.0   \n",
       "4                 3.0  7.688280e+05   306168.0 2013-08-02     5.0   \n",
       "...               ...           ...        ...        ...     ...   \n",
       "234424            0.0  8.445540e+05   308080.0 2009-10-14     5.0   \n",
       "234425            9.0  8.042340e+05   298512.0 2008-05-02     1.0   \n",
       "234426            6.0  8.666510e+05   298509.0 2008-06-19     1.0   \n",
       "234427            6.0  1.546277e+06   298509.0 2010-02-08     5.0   \n",
       "234428            6.0  1.803288e+09   298509.0 2014-11-01     NaN   \n",
       "\n",
       "                                                   review  average_rating  \\\n",
       "0       These were pretty good, but took forever to ba...             4.0   \n",
       "1       Originally I was gonna cut the recipe in half ...             5.0   \n",
       "2       This was one of the best broccoli casseroles t...             5.0   \n",
       "3       I made this for my son's first birthday party ...             5.0   \n",
       "4       Loved this.  Be sure to completely thaw the br...             5.0   \n",
       "...                                                   ...             ...   \n",
       "234424  These were very good. I meant to add some jala...             5.0   \n",
       "234425  I would rate this a zero if I could. I followe...             1.0   \n",
       "234426  This recipe tastes nothing like the Cookies by...             3.0   \n",
       "234427  yummy cookies, i love this recipe me and my sm...             3.0   \n",
       "234428  I work at a Cookies By Design and can say this...             3.0   \n",
       "\n",
       "        ingredient_complexity  is_missing_rating  \n",
       "0                      Simple                  0  \n",
       "1                     Complex                  0  \n",
       "2                      Simple                  0  \n",
       "3                      Simple                  0  \n",
       "4                      Simple                  0  \n",
       "...                       ...                ...  \n",
       "234424                 Simple                  0  \n",
       "234425                Complex                  0  \n",
       "234426                 Simple                  0  \n",
       "234427                 Simple                  0  \n",
       "234428                 Simple                  1  \n",
       "\n",
       "[234429 rows x 26 columns]"
      ]
     },
     "execution_count": 35,
     "metadata": {},
     "output_type": "execute_result"
    }
   ],
   "source": [
    "merged_df.head()"
   ]
  },
  {
   "cell_type": "code",
   "execution_count": 50,
   "metadata": {},
   "outputs": [],
   "source": [
    "np.random.seed(42) "
   ]
  },
  {
   "cell_type": "code",
   "execution_count": 119,
   "metadata": {},
   "outputs": [
    {
     "name": "stdout",
     "output_type": "stream",
     "text": [
      "Observed Difference in Mean Ratings: 0.0036491500705029267\n",
      "Permutation Test p-value: 0.227\n"
     ]
    }
   ],
   "source": [
    "import numpy as np\n",
    "\n",
    "n_repetitions = 1000\n",
    "differences = []\n",
    "\n",
    "for i in range(n_repetitions):\n",
    "    with_shuffled = merged_df.assign(Shuffled_Rating=np.random.permutation(merged_df[\"rating\"]))\n",
    "    \n",
    "    group_means = (\n",
    "        with_shuffled\n",
    "        .groupby(\"ingredient_complexity\")[\"Shuffled_Rating\"]\n",
    "        .mean()\n",
    "    )\n",
    "\n",
    "    difference = group_means.loc[\"Simple\"] - group_means.loc[\"Complex\"]\n",
    "    differences.append(difference)\n",
    "\n",
    "mean_ratings = merged_df.groupby(\"ingredient_complexity\")[\"rating\"].mean()\n",
    "observed_difference = mean_ratings.loc[\"Simple\"] - mean_ratings.loc[\"Complex\"]\n",
    "\n",
    "p_value = np.mean(np.abs(differences) >= np.abs(observed_difference))\n",
    "\n",
    "print(\"Observed Difference in Mean Ratings:\", observed_difference)\n",
    "print(\"Permutation Test p-value:\", p_value)"
   ]
  },
  {
   "cell_type": "markdown",
   "metadata": {},
   "source": [
    "Since **p = 0.227**, which is greater than 0.05, we fail to reject the null hypothesis. This suggests that there is not strong statistical evidence that the number of ingredients affects the ratings."
   ]
  },
  {
   "cell_type": "markdown",
   "metadata": {},
   "source": [
    "## Step 5: Framing a Prediction Problem"
   ]
  },
  {
   "cell_type": "markdown",
   "metadata": {},
   "source": [
    "##### - We aim to predict the average rating of a recipe, treating this as a regression problem since ratings are continuous numerical values rather than distinct categories. Our goal is to build a model that can estimate a recipe’s rating based on its attributes, such as the number of ingredients, preparation time, nutritional content, user reviews.\n",
    "##### - To evaluate our model, we will use **Root Mean Squared Error (RMSE)** as our primary metric. Since ratings are numerical and skewed toward higher values (4-5), RMSE provides a better measure of how well our predictions align with actual ratings, penalizing large errors more effectively than mean absolute error. This ensures that the model not only predicts close to the actual values but also minimizes significant deviations."
   ]
  },
  {
   "cell_type": "markdown",
   "metadata": {},
   "source": [
    "## Step 6: Baseline Model"
   ]
  },
  {
   "cell_type": "code",
   "execution_count": 38,
   "metadata": {},
   "outputs": [
    {
     "data": {
      "text/html": [
       "<div>\n",
       "<style scoped>\n",
       "    .dataframe tbody tr th:only-of-type {\n",
       "        vertical-align: middle;\n",
       "    }\n",
       "\n",
       "    .dataframe tbody tr th {\n",
       "        vertical-align: top;\n",
       "    }\n",
       "\n",
       "    .dataframe thead th {\n",
       "        text-align: right;\n",
       "    }\n",
       "</style>\n",
       "<table border=\"1\" class=\"dataframe\">\n",
       "  <thead>\n",
       "    <tr style=\"text-align: right;\">\n",
       "      <th></th>\n",
       "      <th>name</th>\n",
       "      <th>id</th>\n",
       "      <th>minutes</th>\n",
       "      <th>contributor_id</th>\n",
       "      <th>submitted</th>\n",
       "      <th>tags</th>\n",
       "      <th>n_steps</th>\n",
       "      <th>steps</th>\n",
       "      <th>description</th>\n",
       "      <th>ingredients</th>\n",
       "      <th>...</th>\n",
       "      <th>saturated_fat</th>\n",
       "      <th>carbohydrates</th>\n",
       "      <th>user_id</th>\n",
       "      <th>recipe_id</th>\n",
       "      <th>date</th>\n",
       "      <th>rating</th>\n",
       "      <th>review</th>\n",
       "      <th>average_rating</th>\n",
       "      <th>ingredient_complexity</th>\n",
       "      <th>is_missing_rating</th>\n",
       "    </tr>\n",
       "  </thead>\n",
       "  <tbody>\n",
       "    <tr>\n",
       "      <th>11</th>\n",
       "      <td>50 chili   for the crockpot</td>\n",
       "      <td>501028</td>\n",
       "      <td>345</td>\n",
       "      <td>2628680</td>\n",
       "      <td>2013-05-28</td>\n",
       "      <td>['course', 'main-ingredient', 'cuisine', 'prep...</td>\n",
       "      <td>4</td>\n",
       "      <td>['combine all ingredients in a 7-quart crockpo...</td>\n",
       "      <td>first, thank you to *parsley* - chef # 199848 ...</td>\n",
       "      <td>['stewing beef', 'stewing pork', 'white onion'...</td>\n",
       "      <td>...</td>\n",
       "      <td>21.0</td>\n",
       "      <td>4.0</td>\n",
       "      <td>1.800120e+09</td>\n",
       "      <td>501028.0</td>\n",
       "      <td>2013-10-26</td>\n",
       "      <td>NaN</td>\n",
       "      <td>We tried it last weekend and it the entire fam...</td>\n",
       "      <td>5.00</td>\n",
       "      <td>Complex</td>\n",
       "      <td>1</td>\n",
       "    </tr>\n",
       "    <tr>\n",
       "      <th>16</th>\n",
       "      <td>lplermagronen</td>\n",
       "      <td>455351</td>\n",
       "      <td>55</td>\n",
       "      <td>1308592</td>\n",
       "      <td>2011-05-07</td>\n",
       "      <td>['60-minutes-or-less', 'time-to-make', 'prepar...</td>\n",
       "      <td>15</td>\n",
       "      <td>['heat oven to 375f set a large pot of salted ...</td>\n",
       "      <td>known as swiss mac n cheese, älplermagronen wa...</td>\n",
       "      <td>['potato', 'penne pasta', 'onions', 'butter', ...</td>\n",
       "      <td>...</td>\n",
       "      <td>63.0</td>\n",
       "      <td>33.0</td>\n",
       "      <td>1.255389e+07</td>\n",
       "      <td>455351.0</td>\n",
       "      <td>2014-10-17</td>\n",
       "      <td>NaN</td>\n",
       "      <td>I made this using emmentaler, a swiss cheese. ...</td>\n",
       "      <td>NaN</td>\n",
       "      <td>Simple</td>\n",
       "      <td>1</td>\n",
       "    </tr>\n",
       "    <tr>\n",
       "      <th>20</th>\n",
       "      <td>der wiener schnitzel style chili dog sauce</td>\n",
       "      <td>523359</td>\n",
       "      <td>55</td>\n",
       "      <td>2000414501</td>\n",
       "      <td>2015-08-27</td>\n",
       "      <td>['60-minutes-or-less', 'time-to-make', 'prepar...</td>\n",
       "      <td>16</td>\n",
       "      <td>['in a large size dutch oven or large size dee...</td>\n",
       "      <td>this was the best chili dog ever invented! i l...</td>\n",
       "      <td>['ground beef', 'ground pork', 'water', 'corns...</td>\n",
       "      <td>...</td>\n",
       "      <td>28.0</td>\n",
       "      <td>4.0</td>\n",
       "      <td>1.142430e+05</td>\n",
       "      <td>523359.0</td>\n",
       "      <td>2015-09-05</td>\n",
       "      <td>NaN</td>\n",
       "      <td>This recipe is almost exactly like firemandave...</td>\n",
       "      <td>NaN</td>\n",
       "      <td>Complex</td>\n",
       "      <td>1</td>\n",
       "    </tr>\n",
       "    <tr>\n",
       "      <th>94</th>\n",
       "      <td>she crab  cream of crab soup</td>\n",
       "      <td>275675</td>\n",
       "      <td>45</td>\n",
       "      <td>711025</td>\n",
       "      <td>2008-01-02</td>\n",
       "      <td>['60-minutes-or-less', 'time-to-make', 'course...</td>\n",
       "      <td>3</td>\n",
       "      <td>['combine all ingredients in double boiler', '...</td>\n",
       "      <td>i got this recipe from my grandmother, who was...</td>\n",
       "      <td>['cream of mushroom soup', 'cream of celery so...</td>\n",
       "      <td>...</td>\n",
       "      <td>69.0</td>\n",
       "      <td>12.0</td>\n",
       "      <td>7.181310e+05</td>\n",
       "      <td>275675.0</td>\n",
       "      <td>2008-01-13</td>\n",
       "      <td>NaN</td>\n",
       "      <td>Me and my wife made this recipe tonight. Somew...</td>\n",
       "      <td>4.75</td>\n",
       "      <td>Complex</td>\n",
       "      <td>1</td>\n",
       "    </tr>\n",
       "    <tr>\n",
       "      <th>95</th>\n",
       "      <td>she crab  cream of crab soup</td>\n",
       "      <td>275675</td>\n",
       "      <td>45</td>\n",
       "      <td>711025</td>\n",
       "      <td>2008-01-02</td>\n",
       "      <td>['60-minutes-or-less', 'time-to-make', 'course...</td>\n",
       "      <td>3</td>\n",
       "      <td>['combine all ingredients in double boiler', '...</td>\n",
       "      <td>i got this recipe from my grandmother, who was...</td>\n",
       "      <td>['cream of mushroom soup', 'cream of celery so...</td>\n",
       "      <td>...</td>\n",
       "      <td>69.0</td>\n",
       "      <td>12.0</td>\n",
       "      <td>2.067470e+05</td>\n",
       "      <td>275675.0</td>\n",
       "      <td>2008-01-15</td>\n",
       "      <td>NaN</td>\n",
       "      <td>NO ONE from Maryland will appreciate this if y...</td>\n",
       "      <td>4.75</td>\n",
       "      <td>Complex</td>\n",
       "      <td>1</td>\n",
       "    </tr>\n",
       "    <tr>\n",
       "      <th>...</th>\n",
       "      <td>...</td>\n",
       "      <td>...</td>\n",
       "      <td>...</td>\n",
       "      <td>...</td>\n",
       "      <td>...</td>\n",
       "      <td>...</td>\n",
       "      <td>...</td>\n",
       "      <td>...</td>\n",
       "      <td>...</td>\n",
       "      <td>...</td>\n",
       "      <td>...</td>\n",
       "      <td>...</td>\n",
       "      <td>...</td>\n",
       "      <td>...</td>\n",
       "      <td>...</td>\n",
       "      <td>...</td>\n",
       "      <td>...</td>\n",
       "      <td>...</td>\n",
       "      <td>...</td>\n",
       "      <td>...</td>\n",
       "      <td>...</td>\n",
       "    </tr>\n",
       "    <tr>\n",
       "      <th>234385</th>\n",
       "      <td>zuppa my weight watcher version of the olive g...</td>\n",
       "      <td>328409</td>\n",
       "      <td>70</td>\n",
       "      <td>690050</td>\n",
       "      <td>2008-10-01</td>\n",
       "      <td>['time-to-make', 'course', 'preparation', 'occ...</td>\n",
       "      <td>7</td>\n",
       "      <td>['in a big soup pot', 'cook ground turkey with...</td>\n",
       "      <td>this is the way that i have made a low fat  ve...</td>\n",
       "      <td>['ground turkey', 'black pepper', 'ground sage...</td>\n",
       "      <td>...</td>\n",
       "      <td>8.0</td>\n",
       "      <td>15.0</td>\n",
       "      <td>2.618489e+06</td>\n",
       "      <td>328409.0</td>\n",
       "      <td>2013-01-06</td>\n",
       "      <td>NaN</td>\n",
       "      <td>this recipe is terrible!&lt;br/&gt;For one the last ...</td>\n",
       "      <td>5.00</td>\n",
       "      <td>Complex</td>\n",
       "      <td>1</td>\n",
       "    </tr>\n",
       "    <tr>\n",
       "      <th>234389</th>\n",
       "      <td>zuppa toscana from olive garden</td>\n",
       "      <td>388574</td>\n",
       "      <td>60</td>\n",
       "      <td>634137</td>\n",
       "      <td>2009-09-03</td>\n",
       "      <td>['60-minutes-or-less', 'time-to-make', 'course...</td>\n",
       "      <td>11</td>\n",
       "      <td>['remove sausage from casings if applicable', ...</td>\n",
       "      <td>this is my favorite soup. this recipe is suppo...</td>\n",
       "      <td>['mild italian sausage', 'crushed red pepper f...</td>\n",
       "      <td>...</td>\n",
       "      <td>87.0</td>\n",
       "      <td>9.0</td>\n",
       "      <td>1.480020e+05</td>\n",
       "      <td>388574.0</td>\n",
       "      <td>2012-10-06</td>\n",
       "      <td>NaN</td>\n",
       "      <td>Family favorite! Kids request this on cold win...</td>\n",
       "      <td>4.50</td>\n",
       "      <td>Complex</td>\n",
       "      <td>1</td>\n",
       "    </tr>\n",
       "    <tr>\n",
       "      <th>234405</th>\n",
       "      <td>zwiebelwhe  swiss onion tart</td>\n",
       "      <td>410985</td>\n",
       "      <td>165</td>\n",
       "      <td>993604</td>\n",
       "      <td>2010-01-30</td>\n",
       "      <td>['weeknight', 'time-to-make', 'course', 'main-...</td>\n",
       "      <td>38</td>\n",
       "      <td>['crust:', 'pulse flour , baking powder , and ...</td>\n",
       "      <td>a delicious bacon-studded tart.</td>\n",
       "      <td>['flour', 'baking powder', 'kosher salt', 'uns...</td>\n",
       "      <td>...</td>\n",
       "      <td>90.0</td>\n",
       "      <td>9.0</td>\n",
       "      <td>1.437197e+06</td>\n",
       "      <td>410985.0</td>\n",
       "      <td>2010-01-31</td>\n",
       "      <td>NaN</td>\n",
       "      <td>????how many onions?</td>\n",
       "      <td>5.00</td>\n",
       "      <td>Complex</td>\n",
       "      <td>1</td>\n",
       "    </tr>\n",
       "    <tr>\n",
       "      <th>234407</th>\n",
       "      <td>zwiebelwhe  swiss onion tart</td>\n",
       "      <td>410985</td>\n",
       "      <td>165</td>\n",
       "      <td>993604</td>\n",
       "      <td>2010-01-30</td>\n",
       "      <td>['weeknight', 'time-to-make', 'course', 'main-...</td>\n",
       "      <td>38</td>\n",
       "      <td>['crust:', 'pulse flour , baking powder , and ...</td>\n",
       "      <td>a delicious bacon-studded tart.</td>\n",
       "      <td>['flour', 'baking powder', 'kosher salt', 'uns...</td>\n",
       "      <td>...</td>\n",
       "      <td>90.0</td>\n",
       "      <td>9.0</td>\n",
       "      <td>2.001558e+09</td>\n",
       "      <td>410985.0</td>\n",
       "      <td>2017-05-28</td>\n",
       "      <td>NaN</td>\n",
       "      <td>It's really Swiss onion tart?</td>\n",
       "      <td>5.00</td>\n",
       "      <td>Complex</td>\n",
       "      <td>1</td>\n",
       "    </tr>\n",
       "    <tr>\n",
       "      <th>234428</th>\n",
       "      <td>cookies by design   sugar shortbread cookies</td>\n",
       "      <td>298509</td>\n",
       "      <td>20</td>\n",
       "      <td>506822</td>\n",
       "      <td>2008-04-15</td>\n",
       "      <td>['30-minutes-or-less', 'time-to-make', 'course...</td>\n",
       "      <td>5</td>\n",
       "      <td>['whip sugar and shortening in a large bowl , ...</td>\n",
       "      <td>i've heard of the 'cookies by design' company,...</td>\n",
       "      <td>['granulated sugar', 'shortening', 'eggs', 'fl...</td>\n",
       "      <td>...</td>\n",
       "      <td>11.0</td>\n",
       "      <td>6.0</td>\n",
       "      <td>1.803288e+09</td>\n",
       "      <td>298509.0</td>\n",
       "      <td>2014-11-01</td>\n",
       "      <td>NaN</td>\n",
       "      <td>I work at a Cookies By Design and can say this...</td>\n",
       "      <td>3.00</td>\n",
       "      <td>Simple</td>\n",
       "      <td>1</td>\n",
       "    </tr>\n",
       "  </tbody>\n",
       "</table>\n",
       "<p>15036 rows × 26 columns</p>\n",
       "</div>"
      ],
      "text/plain": [
       "                                                     name      id  minutes  \\\n",
       "11                            50 chili   for the crockpot  501028      345   \n",
       "16                                          lplermagronen  455351       55   \n",
       "20             der wiener schnitzel style chili dog sauce  523359       55   \n",
       "94                           she crab  cream of crab soup  275675       45   \n",
       "95                           she crab  cream of crab soup  275675       45   \n",
       "...                                                   ...     ...      ...   \n",
       "234385  zuppa my weight watcher version of the olive g...  328409       70   \n",
       "234389                    zuppa toscana from olive garden  388574       60   \n",
       "234405                       zwiebelwhe  swiss onion tart  410985      165   \n",
       "234407                       zwiebelwhe  swiss onion tart  410985      165   \n",
       "234428       cookies by design   sugar shortbread cookies  298509       20   \n",
       "\n",
       "        contributor_id  submitted  \\\n",
       "11             2628680 2013-05-28   \n",
       "16             1308592 2011-05-07   \n",
       "20          2000414501 2015-08-27   \n",
       "94              711025 2008-01-02   \n",
       "95              711025 2008-01-02   \n",
       "...                ...        ...   \n",
       "234385          690050 2008-10-01   \n",
       "234389          634137 2009-09-03   \n",
       "234405          993604 2010-01-30   \n",
       "234407          993604 2010-01-30   \n",
       "234428          506822 2008-04-15   \n",
       "\n",
       "                                                     tags  n_steps  \\\n",
       "11      ['course', 'main-ingredient', 'cuisine', 'prep...        4   \n",
       "16      ['60-minutes-or-less', 'time-to-make', 'prepar...       15   \n",
       "20      ['60-minutes-or-less', 'time-to-make', 'prepar...       16   \n",
       "94      ['60-minutes-or-less', 'time-to-make', 'course...        3   \n",
       "95      ['60-minutes-or-less', 'time-to-make', 'course...        3   \n",
       "...                                                   ...      ...   \n",
       "234385  ['time-to-make', 'course', 'preparation', 'occ...        7   \n",
       "234389  ['60-minutes-or-less', 'time-to-make', 'course...       11   \n",
       "234405  ['weeknight', 'time-to-make', 'course', 'main-...       38   \n",
       "234407  ['weeknight', 'time-to-make', 'course', 'main-...       38   \n",
       "234428  ['30-minutes-or-less', 'time-to-make', 'course...        5   \n",
       "\n",
       "                                                    steps  \\\n",
       "11      ['combine all ingredients in a 7-quart crockpo...   \n",
       "16      ['heat oven to 375f set a large pot of salted ...   \n",
       "20      ['in a large size dutch oven or large size dee...   \n",
       "94      ['combine all ingredients in double boiler', '...   \n",
       "95      ['combine all ingredients in double boiler', '...   \n",
       "...                                                   ...   \n",
       "234385  ['in a big soup pot', 'cook ground turkey with...   \n",
       "234389  ['remove sausage from casings if applicable', ...   \n",
       "234405  ['crust:', 'pulse flour , baking powder , and ...   \n",
       "234407  ['crust:', 'pulse flour , baking powder , and ...   \n",
       "234428  ['whip sugar and shortening in a large bowl , ...   \n",
       "\n",
       "                                              description  \\\n",
       "11      first, thank you to *parsley* - chef # 199848 ...   \n",
       "16      known as swiss mac n cheese, älplermagronen wa...   \n",
       "20      this was the best chili dog ever invented! i l...   \n",
       "94      i got this recipe from my grandmother, who was...   \n",
       "95      i got this recipe from my grandmother, who was...   \n",
       "...                                                   ...   \n",
       "234385  this is the way that i have made a low fat  ve...   \n",
       "234389  this is my favorite soup. this recipe is suppo...   \n",
       "234405                    a delicious bacon-studded tart.   \n",
       "234407                    a delicious bacon-studded tart.   \n",
       "234428  i've heard of the 'cookies by design' company,...   \n",
       "\n",
       "                                              ingredients  ...  saturated_fat  \\\n",
       "11      ['stewing beef', 'stewing pork', 'white onion'...  ...           21.0   \n",
       "16      ['potato', 'penne pasta', 'onions', 'butter', ...  ...           63.0   \n",
       "20      ['ground beef', 'ground pork', 'water', 'corns...  ...           28.0   \n",
       "94      ['cream of mushroom soup', 'cream of celery so...  ...           69.0   \n",
       "95      ['cream of mushroom soup', 'cream of celery so...  ...           69.0   \n",
       "...                                                   ...  ...            ...   \n",
       "234385  ['ground turkey', 'black pepper', 'ground sage...  ...            8.0   \n",
       "234389  ['mild italian sausage', 'crushed red pepper f...  ...           87.0   \n",
       "234405  ['flour', 'baking powder', 'kosher salt', 'uns...  ...           90.0   \n",
       "234407  ['flour', 'baking powder', 'kosher salt', 'uns...  ...           90.0   \n",
       "234428  ['granulated sugar', 'shortening', 'eggs', 'fl...  ...           11.0   \n",
       "\n",
       "        carbohydrates       user_id  recipe_id       date  rating  \\\n",
       "11                4.0  1.800120e+09   501028.0 2013-10-26     NaN   \n",
       "16               33.0  1.255389e+07   455351.0 2014-10-17     NaN   \n",
       "20                4.0  1.142430e+05   523359.0 2015-09-05     NaN   \n",
       "94               12.0  7.181310e+05   275675.0 2008-01-13     NaN   \n",
       "95               12.0  2.067470e+05   275675.0 2008-01-15     NaN   \n",
       "...               ...           ...        ...        ...     ...   \n",
       "234385           15.0  2.618489e+06   328409.0 2013-01-06     NaN   \n",
       "234389            9.0  1.480020e+05   388574.0 2012-10-06     NaN   \n",
       "234405            9.0  1.437197e+06   410985.0 2010-01-31     NaN   \n",
       "234407            9.0  2.001558e+09   410985.0 2017-05-28     NaN   \n",
       "234428            6.0  1.803288e+09   298509.0 2014-11-01     NaN   \n",
       "\n",
       "                                                   review  average_rating  \\\n",
       "11      We tried it last weekend and it the entire fam...            5.00   \n",
       "16      I made this using emmentaler, a swiss cheese. ...             NaN   \n",
       "20      This recipe is almost exactly like firemandave...             NaN   \n",
       "94      Me and my wife made this recipe tonight. Somew...            4.75   \n",
       "95      NO ONE from Maryland will appreciate this if y...            4.75   \n",
       "...                                                   ...             ...   \n",
       "234385  this recipe is terrible!<br/>For one the last ...            5.00   \n",
       "234389  Family favorite! Kids request this on cold win...            4.50   \n",
       "234405                               ????how many onions?            5.00   \n",
       "234407                      It's really Swiss onion tart?            5.00   \n",
       "234428  I work at a Cookies By Design and can say this...            3.00   \n",
       "\n",
       "        ingredient_complexity  is_missing_rating  \n",
       "11                    Complex                  1  \n",
       "16                     Simple                  1  \n",
       "20                    Complex                  1  \n",
       "94                    Complex                  1  \n",
       "95                    Complex                  1  \n",
       "...                       ...                ...  \n",
       "234385                Complex                  1  \n",
       "234389                Complex                  1  \n",
       "234405                Complex                  1  \n",
       "234407                Complex                  1  \n",
       "234428                 Simple                  1  \n",
       "\n",
       "[15036 rows x 26 columns]"
      ]
     },
     "execution_count": 38,
     "metadata": {},
     "output_type": "execute_result"
    }
   ],
   "source": [
    "merged_df[merged_df['rating'].isnull()]"
   ]
  },
  {
   "cell_type": "code",
   "execution_count": 40,
   "metadata": {},
   "outputs": [
    {
     "name": "stdout",
     "output_type": "stream",
     "text": [
      "0\n"
     ]
    }
   ],
   "source": [
    "df = merged_df.copy()\n",
    "\n",
    "rating_means = df.groupby([\"ingredient_complexity\", \"n_ingredients\"])[\"rating\"].mean().to_dict()\n",
    "\n",
    "df[\"rating\"] = df.apply(lambda row: rating_means.get((row[\"ingredient_complexity\"], row[\"n_ingredients\"]), np.nan) \n",
    "                        if pd.isna(row[\"rating\"]) else row[\"rating\"], axis=1)\n",
    "\n",
    "print(df[\"rating\"].isna().sum())"
   ]
  },
  {
   "cell_type": "code",
   "execution_count": 41,
   "metadata": {},
   "outputs": [
    {
     "data": {
      "text/plain": [
       "Index(['name', 'id', 'minutes', 'contributor_id', 'submitted', 'tags',\n",
       "       'n_steps', 'steps', 'description', 'ingredients', 'n_ingredients',\n",
       "       'calories', 'total_fat', 'sugar', 'sodium', 'protein', 'saturated_fat',\n",
       "       'carbohydrates', 'user_id', 'recipe_id', 'date', 'rating', 'review',\n",
       "       'average_rating', 'ingredient_complexity', 'is_missing_rating'],\n",
       "      dtype='object')"
      ]
     },
     "execution_count": 41,
     "metadata": {},
     "output_type": "execute_result"
    }
   ],
   "source": [
    "merged_df.columns"
   ]
  },
  {
   "cell_type": "code",
   "execution_count": 42,
   "metadata": {},
   "outputs": [],
   "source": [
    "df[\"rating\"] = df[\"rating\"].astype(int)"
   ]
  },
  {
   "cell_type": "code",
   "execution_count": 44,
   "metadata": {},
   "outputs": [
    {
     "data": {
      "text/plain": [
       "np.float64(0.7138650256126987)"
      ]
     },
     "execution_count": 44,
     "metadata": {},
     "output_type": "execute_result"
    }
   ],
   "source": [
    "from sklearn.pipeline import Pipeline\n",
    "from sklearn.preprocessing import StandardScaler\n",
    "from sklearn.linear_model import LinearRegression\n",
    "from sklearn.model_selection import train_test_split\n",
    "from sklearn.metrics import mean_squared_error\n",
    "\n",
    "features = [\"minutes\", \"n_steps\", \"n_ingredients\"]\n",
    "target = \"rating\"\n",
    "\n",
    "linear_model_df = merged_df.dropna(subset=features + [target])\n",
    "\n",
    "X = linear_model_df[features]\n",
    "y = linear_model_df[target]\n",
    "X_train, X_test, y_train, y_test = train_test_split(X, y, test_size=0.2, random_state=42)\n",
    "\n",
    "baseline_pipeline = Pipeline([\n",
    "    (\"scaler\", StandardScaler()), \n",
    "    (\"model\", LinearRegression()) \n",
    "])\n",
    "\n",
    "baseline_pipeline.fit(X_train, y_train)\n",
    "\n",
    "y_pred = baseline_pipeline.predict(X_test)\n",
    "\n",
    "mse = mean_squared_error(y_test, y_pred)\n",
    "rmse = mse ** 0.5\n",
    "rmse"
   ]
  },
  {
   "cell_type": "markdown",
   "metadata": {},
   "source": [
    "##### Our baseline model achieved an RMSE of **0.713**, meaning that, on average, our predicted recipe ratings deviate by about **0.713 points** from the actual ratings."
   ]
  },
  {
   "cell_type": "markdown",
   "metadata": {},
   "source": [
    "## Step 7: Final Model"
   ]
  },
  {
   "cell_type": "code",
   "execution_count": null,
   "metadata": {},
   "outputs": [],
   "source": [
    "# Feature engineering new columns\n",
    "merged_df['time_per_step'] = merged_df['minutes'] / (merged_df['n_steps'] + 1)\n",
    "merged_df['ingredients_per_step'] = merged_df['n_ingredients'] / (merged_df['n_steps'] + 1)"
   ]
  },
  {
   "cell_type": "code",
   "execution_count": 46,
   "metadata": {},
   "outputs": [
    {
     "data": {
      "text/plain": [
       "Index(['name', 'id', 'minutes', 'contributor_id', 'submitted', 'tags',\n",
       "       'n_steps', 'steps', 'description', 'ingredients', 'n_ingredients',\n",
       "       'calories', 'total_fat', 'sugar', 'sodium', 'protein', 'saturated_fat',\n",
       "       'carbohydrates', 'user_id', 'recipe_id', 'date', 'rating', 'review',\n",
       "       'average_rating', 'ingredient_complexity', 'is_missing_rating',\n",
       "       'time_per_step', 'ingredients_per_step'],\n",
       "      dtype='object')"
      ]
     },
     "execution_count": 46,
     "metadata": {},
     "output_type": "execute_result"
    }
   ],
   "source": [
    "merged_df.columns"
   ]
  },
  {
   "cell_type": "markdown",
   "metadata": {},
   "source": [
    "##### `Attempt 1`"
   ]
  },
  {
   "cell_type": "code",
   "execution_count": null,
   "metadata": {},
   "outputs": [
    {
     "data": {
      "text/plain": [
       "np.float64(0.713825273763129)"
      ]
     },
     "execution_count": 47,
     "metadata": {},
     "output_type": "execute_result"
    }
   ],
   "source": [
    "# Trying linear regression with new features\n",
    "features = [\"minutes\", \"time_per_step\", \"ingredients_per_step\",\"calories\"]\n",
    "target = \"rating\"\n",
    "\n",
    "linear_model_df2 = merged_df.dropna(subset=features + [target])\n",
    "\n",
    "X = linear_model_df2[features]\n",
    "y = linear_model_df2[target]\n",
    "X_train, X_test, y_train, y_test = train_test_split(X, y, test_size=0.2, random_state=42)\n",
    "\n",
    "baseline_pipeline = Pipeline([\n",
    "    (\"scaler\", StandardScaler()), \n",
    "    (\"model\", LinearRegression()) \n",
    "])\n",
    "\n",
    "baseline_pipeline.fit(X_train, y_train)\n",
    "\n",
    "y_pred = baseline_pipeline.predict(X_test)\n",
    "\n",
    "mse = mean_squared_error(y_test, y_pred)\n",
    "rmse = mse ** 0.5\n",
    "rmse"
   ]
  },
  {
   "cell_type": "markdown",
   "metadata": {},
   "source": [
    "##### `Attempt 2`\n"
   ]
  },
  {
   "cell_type": "code",
   "execution_count": 75,
   "metadata": {},
   "outputs": [
    {
     "name": "stdout",
     "output_type": "stream",
     "text": [
      "Test MSE: 7.673063597249407\n",
      "Test R2: 0.8100569525001502\n"
     ]
    }
   ],
   "source": [
    "# Trying to predict a different target variable \"n_steps\" since we were not able to get a better RMSE score predicting ratins than the baseline model.\n",
    "\n",
    "from sklearn.metrics import mean_squared_error, r2_score\n",
    "\n",
    "cat_feature = \"ingredient_complexity\"  \n",
    "numeric_features = [\"minutes\", \"calories\", \"n_ingredients\", \"protein\", \"saturated_fat\", \"carbohydrates\"]\n",
    "merged_df = merged_df.dropna(subset=numeric_features + [cat_feature])\n",
    "\n",
    "target = \"n_steps\"\n",
    "\n",
    "all_features = [cat_feature] + numeric_features\n",
    "\n",
    "merged_df = merged_df.dropna(subset=all_features + [target])\n",
    "\n",
    "X = merged_df[all_features]\n",
    "y = merged_df[target].astype(float)\n",
    "\n",
    "X_train, X_test, y_train, y_test = train_test_split(\n",
    "    X, y, test_size=0.2, random_state=42\n",
    ")\n",
    "\n",
    "preprocessor = ColumnTransformer([\n",
    "    (\"cat\", OneHotEncoder(), [cat_feature]),\n",
    "    (\"num\", StandardScaler(), numeric_features)\n",
    "], sparse_threshold=0) \n",
    "\n",
    "pipe = Pipeline([\n",
    "    (\"preprocessor\", preprocessor),\n",
    "    (\"regressor\", RandomForestRegressor(random_state=42))\n",
    "])\n",
    "\n",
    "pipe.fit(X_train, y_train)\n",
    "\n",
    "y_pred = pipe.predict(X_test)\n",
    "\n",
    "mse = mean_squared_error(y_test, y_pred)\n",
    "r2 = r2_score(y_test, y_pred)\n",
    "print(\"Test MSE:\", mse)\n",
    "print(\"Test R2:\", r2)"
   ]
  },
  {
   "cell_type": "code",
   "execution_count": 76,
   "metadata": {},
   "outputs": [
    {
     "data": {
      "text/plain": [
       "np.float64(2.770029530032019)"
      ]
     },
     "execution_count": 76,
     "metadata": {},
     "output_type": "execute_result"
    }
   ],
   "source": [
    "mse**0.5"
   ]
  },
  {
   "cell_type": "markdown",
   "metadata": {},
   "source": [
    "##### This means our model’s predictions for the number of steps deviate by about 2.77 steps on average from the actual values."
   ]
  },
  {
   "cell_type": "markdown",
   "metadata": {},
   "source": [
    "##### `Attempt 3`\n"
   ]
  },
  {
   "cell_type": "code",
   "execution_count": null,
   "metadata": {},
   "outputs": [
    {
     "name": "stdout",
     "output_type": "stream",
     "text": [
      "Final Model RMSE: 0.6343251068403761\n",
      "Best Hyperparameters: {'model__max_depth': None, 'model__n_estimators': 40}\n"
     ]
    }
   ],
   "source": [
    "# Attempt at a final model but with only review as a new column from the baseline model\n",
    "df = merged_df.copy()\n",
    "df = df.dropna(subset=[\"minutes\", \"n_steps\", \"n_ingredients\", \"calories\", \"protein\", \"saturated_fat\", \"carbohydrates\", \"rating\", \"review\"])\n",
    "\n",
    "features_final = [\"n_steps\", \"ingredient_complexity\", \"review\"]\n",
    "target = \"rating\"\n",
    "\n",
    "X_train, X_test, y_train, y_test = train_test_split(df[features_final], df[target], test_size=0.2, random_state=42)\n",
    "\n",
    "numerical_features = [\"n_steps\"]\n",
    "categorical_features = [\"ingredient_complexity\"]\n",
    "text_features = \"review\"\n",
    "\n",
    "preprocessor = ColumnTransformer([\n",
    "    (\"num\", StandardScaler(), numerical_features),\n",
    "    (\"cat\", OneHotEncoder(drop=\"first\"), categorical_features),\n",
    "    (\"text\", Pipeline([\n",
    "        (\"tfidf\", TfidfVectorizer(stop_words=\"english\", max_features=200))\n",
    "    ]), text_features)\n",
    "])\n",
    "\n",
    "param_grid = {\n",
    "    \"model__n_estimators\": [20, 30,40],  \n",
    "    \"model__max_depth\": [10, 20, None]\n",
    "}\n",
    "\n",
    "pipeline = Pipeline([\n",
    "    (\"preprocessor\", preprocessor),\n",
    "    (\"model\", RandomForestRegressor(random_state=42))\n",
    "])\n",
    "\n",
    "grid_search = GridSearchCV(pipeline, param_grid, cv=3, scoring=\"r2\", n_jobs=-1)\n",
    "grid_search.fit(X_train, y_train)\n",
    "\n",
    "best_model = grid_search.best_estimator_\n",
    "\n",
    "y_pred = best_model.predict(X_test)\n",
    "\n",
    "\n",
    "mse_final = mean_squared_error(y_test, y_pred)\n",
    "rmse_final = mse_final ** 0.5\n",
    "print(\"Final Model RMSE:\", rmse_final)\n",
    "print(\"Best Hyperparameters:\", grid_search.best_params_)"
   ]
  },
  {
   "cell_type": "markdown",
   "metadata": {},
   "source": [
    "### `Final Model`"
   ]
  },
  {
   "cell_type": "code",
   "execution_count": 55,
   "metadata": {},
   "outputs": [
    {
     "name": "stdout",
     "output_type": "stream",
     "text": [
      "Final Model RMSE: 0.6513883452558045\n",
      "Best Hyperparameters: {'model__max_depth': None, 'model__n_estimators': 50}\n"
     ]
    }
   ],
   "source": [
    "\n",
    "rf_reg_df2 = merged_df.copy()\n",
    "rf_reg_df2 = rf_reg_df2.dropna(subset=[\"time_per_step\", \"ingredients_per_step\", \"minutes\", \"n_steps\", \"n_ingredients\", \"calories\", \"protein\", \"saturated_fat\", \"carbohydrates\", \"rating\", \"review\"])\n",
    "\n",
    "rf_reg_df2[\"nutrition_density\"] = (rf_reg_df2[\"calories\"] + rf_reg_df2[\"protein\"] + rf_reg_df2[\"saturated_fat\"] + rf_reg_df2[\"carbohydrates\"]) / (rf_reg_df2[\"calories\"] + 1)\n",
    "\n",
    "features_final = [\"n_steps\", \"minutes\", \"n_ingredients\", \"review\", \"ingredients_per_step\",\"time_per_step\",\"nutrition_density\"]\n",
    "target = \"rating\"\n",
    "\n",
    "\n",
    "X_train, X_test, y_train, y_test = train_test_split(rf_reg_df2[features_final], rf_reg_df2[target], test_size=0.2, random_state=42)\n",
    "\n",
    "numerical_features = [\"n_steps\", \"minutes\", \"n_ingredients\", \"ingredients_per_step\", \"time_per_step\", \"nutrition_density\"]\n",
    "text_features = \"review\"\n",
    "\n",
    "preprocessor = ColumnTransformer([\n",
    "    (\"num\", StandardScaler(), numerical_features),\n",
    "    (\"text\", Pipeline([\n",
    "        (\"tfidf\", TfidfVectorizer(stop_words=\"english\", max_features=100))\n",
    "    ]), text_features)\n",
    "])\n",
    "\n",
    "param_grid = {\n",
    "    \"model__n_estimators\": [40, 50],  \n",
    "    \"model__max_depth\": [5, None]\n",
    "}\n",
    "\n",
    "pipeline = Pipeline([\n",
    "    (\"preprocessor\", preprocessor),\n",
    "    (\"model\", RandomForestRegressor(random_state=42))\n",
    "])\n",
    "\n",
    "grid_search = GridSearchCV(pipeline, param_grid, cv=3, scoring=\"r2\", n_jobs=-1)\n",
    "grid_search.fit(X_train, y_train)\n",
    "\n",
    "best_model = grid_search.best_estimator_\n",
    "\n",
    "y_pred = best_model.predict(X_test)\n",
    "\n",
    "\n",
    "mse_final = mean_squared_error(y_test, y_pred)\n",
    "rmse_final = mse_final ** 0.5\n",
    "print(\"Final Model RMSE:\", rmse_final)\n",
    "print(\"Best Hyperparameters:\", grid_search.best_params_)"
   ]
  },
  {
   "cell_type": "markdown",
   "metadata": {},
   "source": [
    "#"
   ]
  },
  {
   "cell_type": "markdown",
   "metadata": {},
   "source": [
    "##### Our final model achieved an **RMSE of 0.651**, which represents an improvement over the baseline **RMSE of 0.71**.\n",
    "##### The best hyperparameters selected through **GridSearchCV** were:\n",
    "- ##### **Max Depth:** None\n",
    "- ##### **Number of Estimators:** 50\n"
   ]
  },
  {
   "cell_type": "markdown",
   "metadata": {},
   "source": [
    "## Step 8: Fairness Analysis"
   ]
  },
  {
   "cell_type": "markdown",
   "metadata": {},
   "source": [
    "##### **Null Hypothesis**: The model is fair. The RMSE for simple recipes and complex recipes are similar, and any differences are due to random chance.\n",
    "##### **Alternative Hypothesis**: The model is unfair. The RMSE is significantly different between simple and complex recipes, indicating the model performs better for one group than the other."
   ]
  },
  {
   "cell_type": "code",
   "execution_count": null,
   "metadata": {},
   "outputs": [],
   "source": [
    "results = X_test\n",
    "results.head()"
   ]
  },
  {
   "cell_type": "code",
   "execution_count": 82,
   "metadata": {},
   "outputs": [],
   "source": [
    "results[\"ingredient_complexity\"] = results[\"n_steps\"].apply(lambda x: \"Simple\" if x <= 9 else \"Complex\")"
   ]
  },
  {
   "cell_type": "code",
   "execution_count": 98,
   "metadata": {},
   "outputs": [
    {
     "name": "stdout",
     "output_type": "stream",
     "text": [
      "RMSE for Simple Recipes: 0.6416025085449809\n",
      "RMSE for Complex Recipes: 0.663743712106286\n",
      "Observed RMSE Difference: -0.02214120356130511\n"
     ]
    }
   ],
   "source": [
    "def compute_rmse(y_true, y_pred):\n",
    "    mse = mean_squared_error(y_true, y_pred)\n",
    "    return np.sqrt(mse)\n",
    "\n",
    "rmse_simple = compute_rmse(y_test[results[\"ingredient_complexity\"] == \"Simple\"], \n",
    "                           y_pred[results[\"ingredient_complexity\"] == \"Simple\"])\n",
    "\n",
    "rmse_complex = compute_rmse(y_test[results[\"ingredient_complexity\"] == \"Complex\"], \n",
    "                            y_pred[results[\"ingredient_complexity\"] == \"Complex\"])\n",
    "\n",
    "observed_difference = abs(rmse_simple - rmse_complex)\n",
    "\n",
    "print(\"RMSE for Simple Recipes:\", rmse_simple)\n",
    "print(\"RMSE for Complex Recipes:\", rmse_complex)\n",
    "print(\"Observed RMSE Difference:\", observed_difference)"
   ]
  },
  {
   "cell_type": "markdown",
   "metadata": {},
   "source": [
    "##### We got very close values for Simple (0.6416) and Complex (0.6637), an observed difference of 0.0221, but to determine the statistical significance of this difference, we run a permutation test."
   ]
  },
  {
   "cell_type": "code",
   "execution_count": null,
   "metadata": {},
   "outputs": [],
   "source": [
    "n_permutations = 1000\n",
    "rmse_differences = []\n",
    "\n",
    "for _ in range(n_permutations):\n",
    "    shuffled_complexity = np.random.permutation(results[\"ingredient_complexity\"])\n",
    "\n",
    "    rmse_simple_shuffled = compute_rmse(y_test[shuffled_complexity == \"Simple\"], y_pred[shuffled_complexity == \"Simple\"])\n",
    "    rmse_complex_shuffled = compute_rmse(y_test[shuffled_complexity == \"Complex\"], y_pred[shuffled_complexity == \"Complex\"])\n",
    "\n",
    "    rmse_differences.append(abs(rmse_simple_shuffled - rmse_complex_shuffled))\n",
    "\n",
    "p_value = np.mean(np.array(rmse_differences) >= observed_difference)\n",
    "\n",
    "print(\"Permutation Test p-value:\", p_value)"
   ]
  },
  {
   "cell_type": "code",
   "execution_count": 97,
   "metadata": {},
   "outputs": [
    {
     "data": {
      "application/vnd.plotly.v1+json": {
       "config": {
        "plotlyServerURL": "https://plot.ly"
       },
       "data": [
        {
         "alignmentgroup": "True",
         "bingroup": "x",
         "histnorm": "probability",
         "hovertemplate": "variable=0<br>value=%{x}<br>probability=%{y}<extra></extra>",
         "legendgroup": "0",
         "marker": {
          "color": "darkblue",
          "pattern": {
           "shape": ""
          }
         },
         "name": "0",
         "nbinsx": 29,
         "offsetgroup": "0",
         "orientation": "v",
         "showlegend": true,
         "type": "histogram",
         "x": [
          0.00815121980358613,
          0.00972072102956445,
          0.0035596553974831524,
          0.010228278408341063,
          0.0015231122213894555,
          0.015079110354005332,
          0.007517221757679771,
          0.006079020594128792,
          0.019078463464593964,
          0.007865286277880856,
          0.013587993485788208,
          0.005960531135922431,
          0.008176045237801688,
          0.004836075039555743,
          0.0031172671515313777,
          0.01330453277505761,
          0.004904329388351614,
          0.0007073927199404695,
          0.00973863296465316,
          0.0014398106324527982,
          0.00281146772161589,
          0.007879419684765132,
          0.00023524857580636827,
          0.011929358032737092,
          0.025288543407037456,
          0.003374700804171793,
          0.011975281956359551,
          0.0008008773933498858,
          0.010663084955468971,
          0.005273555042000555,
          0.006089802466311078,
          0.003905949414075627,
          0.00488913243884892,
          0.005135618949056897,
          0.017836908509201388,
          0.02014839541911273,
          0.010981335217629451,
          0.007922568084355874,
          0.008161309369096537,
          0.005237718175635564,
          0.005763921795139515,
          0.0030375610708135437,
          0.00005998348902136463,
          0.00440559415985764,
          0.010695849212818187,
          0.0010736312873832476,
          0.0063430522601931605,
          0.008022093206165315,
          0.0001287351871218645,
          0.005280053888329639,
          0.009397101913524719,
          0.0030232847136242302,
          0.0030882107217885535,
          0.01185252518750246,
          0.0009647598213783359,
          0.013105302684227937,
          0.0082709194224172,
          0.006193752531537422,
          0.003040386621665503,
          0.014056580232283067,
          0.0012303745539709032,
          0.02370031950225371,
          0.004108730951657313,
          0.004816823923290858,
          0.0037203499754304703,
          0.008008425693702637,
          0.0052883308175529775,
          0.0005946275170026771,
          0.016517026593297568,
          0.008662331069403839,
          0.00780247621949548,
          0.0063432968220502595,
          0.011487755222826523,
          0.02435608883729623,
          0.001535053043720036,
          0.00401772770550668,
          0.012582437702560623,
          0.007712644729907625,
          0.005064709720585037,
          0.0035380038003476333,
          0.009818556547379398,
          0.009868852615637191,
          0.009254457502201885,
          0.0032941494044376185,
          0.008808069216869052,
          0.0040389560848633765,
          0.019534688689332058,
          0.004094950690623489,
          0.0059873055407594356,
          0.017140339268268967,
          0.002702855906514867,
          0.0007269790396612352,
          0.0037442304240267177,
          0.008562472075991145,
          0.012947642322339581,
          0.003707899959523586,
          0.0066866682778154996,
          0.000914255572239786,
          0.006790914837237594,
          0.0004886828227496087,
          0.010069250162336396,
          0.0017935309532407517,
          0.007709501647361949,
          0.008324655369320366,
          0.022711045020887943,
          0.0015225625803158005,
          0.0024599950058965536,
          0.011269212927858097,
          0.0007596002049303774,
          0.009584012121898744,
          0.011476204737282836,
          0.0004534052058390303,
          0.0029180422398471517,
          0.011874418205544468,
          0.0009358598664710449,
          0.0002848866932427807,
          0.0007832713794816426,
          0.010305188502160334,
          0.0006075562089533637,
          0.002014624994969072,
          0.00017222228142332874,
          0.01017971526981376,
          0.008615746306747663,
          0.0065625883783758665,
          0.0017288725643629377,
          0.018123883711870903,
          0.007053065470921438,
          0.009000441510810031,
          0.005855204657539748,
          0.0020491951317432866,
          0.004760395810439855,
          0.0024319503767619155,
          0.005189782446380575,
          0.007140670968896368,
          0.00003878332940154827,
          0.0026378623410608926,
          0.004181446565174496,
          0.014717256503807286,
          0.004892465466676654,
          0.013646236786934107,
          0.02470113624025272,
          0.027399674813702535,
          0.006194106078413419,
          0.009220954788659919,
          0.0036338122651816684,
          0.008435067476511793,
          0.009064849052821011,
          0.009332671686456573,
          0.0028223864644602026,
          0.002752446547729215,
          0.011387421388550423,
          0.011675934683473388,
          0.012568639356199673,
          0.013448867566502987,
          0.02209816473186621,
          0.007479126254014812,
          0.008760151513952708,
          0.004049851126776249,
          0.0017382740485707426,
          0.021896582685603128,
          0.005005175674781204,
          0.005244477686665028,
          0.016871793039019756,
          0.003890511875879077,
          0.00870278721844786,
          0.010618658898761457,
          0.013801067483830365,
          0.011156023773284396,
          0.006633362639650531,
          0.005989581955524126,
          0.018024283570939104,
          0.009232308829816405,
          0.00626942055273183,
          0.006141383154436575,
          0.009973252125692889,
          0.006485588882915172,
          0.005361097561682127,
          0.01844538986902966,
          0.02104546047561151,
          0.0021699323981289043,
          0.007976282435798177,
          0.011042809671287013,
          0.01670488065308151,
          0.008236395332202995,
          0.007961689974264163,
          0.01702143408473633,
          0.012605733724105783,
          0.0025706042915042415,
          0.010229250034070492,
          0.0004033203652529238,
          0.012805254546517597,
          0.0106010591687139,
          0.008757376591737476,
          0.006901404709009573,
          0.0014154328901216928,
          0.007773401582886974,
          0.0010973038611885588,
          0.009009393629414109,
          0.018330716742847142,
          0.008858624466062781,
          0.0006774622184840817,
          0.012015460954974633,
          0.003668551327219105,
          0.010397770974242992,
          0.011400122534146462,
          0.00398005798044454,
          0.004652255135380923,
          0.0018499963082060367,
          0.00506763624700679,
          0.005261748092938445,
          0.00431693955936685,
          0.006433164859754759,
          0.005732011581298879,
          0.012555640766568565,
          0.01645150395386752,
          0.005562077263443932,
          0.009885130316922841,
          0.0019843404027020117,
          0.0009826497984732896,
          0.009485134254970218,
          0.011441637555422157,
          0.016207342385091916,
          0.002283530607187334,
          0.016776205801793176,
          0.010445454434223955,
          0.01783313791292318,
          0.009473036099583831,
          0.00862116859341222,
          0.021850524337231225,
          0.0033571200133120094,
          0.005589068879581216,
          0.0072807388701451314,
          0.014954405845995167,
          0.0007599765105523737,
          0.003298942675021288,
          0.011052961504072312,
          0.0023334211022908447,
          0.002998973426520668,
          0.00726551713385315,
          0.02183696718554262,
          0.009507963719769474,
          0.010435309326207731,
          0.005722986853559209,
          0.005420657454002442,
          0.02065358566223474,
          0.009261631675757775,
          0.014732032635753844,
          0.006487971173743556,
          0.0016879991376289594,
          0.01270483190649263,
          0.01939596096358953,
          0.0012149276714393809,
          0.002538859832710849,
          0.019077650229663123,
          0.00017150544549737745,
          0.000669156469619292,
          0.006191973471201595,
          0.00899064599474475,
          0.00131862881457534,
          0.00813039260165438,
          0.007355163409954124,
          0.010779735047938721,
          0.0028770701636288143,
          0.00335212157499698,
          0.007558961491287652,
          0.012203328530736246,
          0.007259657081978177,
          0.012132646819889015,
          0.003349628793054449,
          0.0060608448742330845,
          0.004480475060599232,
          0.015090367477679445,
          0.012145927828722591,
          0.0046306285685360216,
          0.0010679902976206135,
          0.0051087542057836055,
          0.0030661891271221986,
          0.012489196746209852,
          0.003642413365531505,
          0.011710482901075125,
          0.009056640710033426,
          0.011612176161198695,
          0.012020362987291255,
          0.005117434304405477,
          0.02211640774719148,
          0.0029358872124104485,
          0.0007290901682103224,
          0.002921874087970955,
          0.005722577316176536,
          0.00636210448982788,
          0.0007698836879819204,
          0.01631604211919413,
          0.009674076748642846,
          0.0029991589004060293,
          0.015927082146935057,
          0.004803388834523026,
          0.002344958504971517,
          0.013357092747552257,
          0.003208365192939322,
          0.007462711245774134,
          0.00745165287307048,
          0.003417960477357762,
          0.01852383575790706,
          0.005787062768449758,
          0.009205095683205378,
          0.00842176145901874,
          0.006771613147797839,
          0.0026551011738157326,
          0.015843806499766577,
          0.006323222728311317,
          0.005987552217343484,
          0.009121024974660386,
          0.004872535112928178,
          0.007907513198960103,
          0.003251344345257534,
          0.018058175762256323,
          0.012239921913221874,
          0.003151806090539,
          0.013977814911581121,
          0.0004497009312884881,
          0.003247436681070859,
          0.01233480559476019,
          0.001976046892729344,
          0.005749872229866337,
          0.01498497226550155,
          0.012435749569174814,
          0.00118758531872587,
          0.0031760050638844906,
          0.0029521963318339672,
          0.0192232792400181,
          0.0018155904644863163,
          0.0025654299835962124,
          0.003151490921421418,
          0.014202353302820492,
          0.006167413641208763,
          0.0010370283920273504,
          0.0065553066614877364,
          0.01911342055356957,
          0.0033286511642126593,
          0.00908312833032432,
          0.016654423290766163,
          0.001263387748122513,
          0.003090547360334872,
          0.0013759094002118166,
          0.0039067754340865735,
          0.0012110366796437289,
          0.009595856693758398,
          0.005692795018216734,
          0.015205940332693735,
          0.003718878511783097,
          0.0006387706077450872,
          0.0017298214628298503,
          0.004340795241250195,
          0.006625468542859503,
          0.004000213975739242,
          0.009231921715567304,
          0.008351973421054204,
          0.002652953251005563,
          0.009300330631391684,
          0.005816475004599808,
          0.013269912158415775,
          0.013933109030379809,
          0.002588476076048396,
          0.012275874660740982,
          0.0008379489363388171,
          0.005279202485878209,
          0.017066273771860874,
          0.0034854123339318477,
          0.0007097695779560986,
          0.012985833585687168,
          0.003201292084846652,
          0.0015177088701837649,
          0.0017686997560056872,
          0.0033090312873701455,
          0.010518239415262531,
          0.0006778109736753635,
          0.016853065926951682,
          0.0019422245267844973,
          0.006777439723484546,
          0.008756121190326316,
          0.010673477581561785,
          0.007124083217832644,
          0.0035418577430507137,
          0.00830978484665823,
          0.02998048405639786,
          0.020084890193396543,
          0.013504932073025944,
          0.004185479537710313,
          0.007770524736629536,
          0.003966515090420342,
          0.010872801982891533,
          0.006038269869639512,
          0.008042408442276439,
          0.009555218819155664,
          0.015396207942107165,
          0.010323622300619784,
          0.014565322978537076,
          0.006680164887404416,
          0.005334884856061595,
          0.0032162645886950614,
          0.007063946078798011,
          0.0008485399251887404,
          0.012089009264442896,
          0.009977548379960788,
          0.0060347560445711546,
          0.007734938612828368,
          0.00816389094388592,
          0.007372222170450304,
          0.003045610709250024,
          0.017231346237701284,
          0.009811763738717616,
          0.0020239313913897883,
          0.005830646118503924,
          0.0052446095158399375,
          0.003523757782717185,
          0.011348668190495736,
          0.0006234216415550442,
          0.002462288394823764,
          0.020438335437674482,
          0.0088557914018772,
          0.016862916825910457,
          0.0031862163667217835,
          0.0070534981814748265,
          0.004196806099343586,
          0.026045103226856714,
          0.014329825764190729,
          0.005524680545222926,
          0.014968036347339453,
          0.017457832261540962,
          0.008313298841883476,
          0.0017332172055869455,
          0.0075514394820555,
          0.010180534757721182,
          0.009314244448857423,
          0.0038676658991586566,
          0.008100316817812425,
          0.001192494564905,
          0.006276342470077911,
          0.009912577129133848,
          0.00808481918552273,
          0.016138228329426685,
          0.006665936215323298,
          0.00991424826028775,
          0.0024058084602497365,
          0.004557588201580698,
          0.017555540252646273,
          0.011278545276851348,
          0.001873241490629729,
          0.021121223080582174,
          0.004932387731560461,
          0.002781067987756125,
          0.024746578590664314,
          0.020158864750264738,
          0.0015783246509938342,
          0.019354615852927415,
          0.007570051575313097,
          0.013184948579435307,
          0.0042916378240315245,
          0.007243008296598519,
          0.011050038637792747,
          0.007435529516172101,
          0.004001064697930157,
          0.0036331594454900307,
          0.0005638208292820801,
          0.006441198802890735,
          0.001962439390073123,
          0.011519943397438559,
          0.0023195669411852915,
          0.002903544897575161,
          0.007387875351942519,
          0.017964715408315457,
          0.010463990907849663,
          0.006371125381624543,
          0.006748495233280805,
          0.00544645021135115,
          0.0031117026405641512,
          0.005492887743969943,
          0.006786474727142,
          0.00029418605371367423,
          0.017705563499665455,
          0.006325406752906493,
          0.0033253412968052842,
          0.013734796015069772,
          0.012484036967050027,
          0.0065493914838771206,
          0.014039481797618492,
          0.0005709146298070733,
          0.002927533272494176,
          0.010909511572717578,
          0.019017658926247405,
          0.011494348743678495,
          0.00662862624748406,
          0.006861349932949512,
          0.011250837834823835,
          0.007221987822266351,
          0.006733797967340527,
          0.005807424411423234,
          0.004860794427817283,
          0.0006049113680965945,
          0.00462504342965564,
          0.005438418807823475,
          0.008897726612322798,
          0.014493689879164107,
          0.00459365501654585,
          0.013847829598905403,
          0.011362410630051611,
          0.0034954413146872643,
          0.004687162239536913,
          0.011438737979267533,
          0.007651069936904231,
          0.002266403921870719,
          0.008429730107717304,
          0.019128908846130832,
          0.0008288439169806816,
          0.0067697451876980175,
          0.008987031639968501,
          0.012714713671122313,
          0.018319820605348425,
          0.0014137190901737373,
          0.016365567895964994,
          0.0038396622502775424,
          0.00024827293917584203,
          0.005262844864968752,
          0.0013344109739590326,
          0.005945408006455488,
          0.003683284323858338,
          0.0068445832655738,
          0.004996751997386029,
          0.026773845190790735,
          0.008708700094790411,
          0.0027974823611058852,
          0.019068737280188652,
          0.009399746080029914,
          0.013366174759442018,
          0.01034661964756356,
          0.011834775539082631,
          0.0039728172370719905,
          0.013121485187847393,
          0.014177906290061437,
          0.0043916406774076044,
          0.005482605264627849,
          0.006269572973499837,
          0.009636860298406713,
          0.01117256952226131,
          0.00842419898549207,
          0.018271221648827107,
          0.00014249786412945387,
          0.0038224117816108016,
          0.0076853793524847,
          0.009285216723050715,
          0.013656003914174097,
          0.024329626996031584,
          0.010015523789734027,
          0.011610348695243244,
          0.00567096895555852,
          0.00799344375396882,
          0.016482664307191586,
          0.004332507359308568,
          0.009119609671431217,
          0.005329526570488463,
          0.008716660973152712,
          0.006958490732601463,
          0.020210714969998045,
          0.0058974898054274805,
          0.008689792762839432,
          0.006736129335088492,
          0.007488757293690473,
          0.004322527090737216,
          0.0005066489580102251,
          0.007698366304083826,
          0.012910739373955482,
          0.01224883153758427,
          0.006432800037825648,
          0.01971349982939663,
          0.01301792522955858,
          0.0036331639776412405,
          0.010824295613059864,
          0.008905002094941272,
          0.010527443671791814,
          0.0063744463317556566,
          0.005467771278160338,
          0.006012484591112699,
          0.013661832931232798,
          0.010883476106518186,
          0.011909668077078606,
          0.01252185184180421,
          0.003436257554180644,
          0.011401096003508804,
          0.003965527474429353,
          0.0019197890696643904,
          0.009615420248637485,
          0.00935795558325303,
          0.01390972683512004,
          0.008419901133324692,
          0.012852601291955867,
          0.0075327047501732025,
          0.001710814804661176,
          0.013471486372065744,
          0.01545818242094077,
          0.010324516986353283,
          0.008631231747632584,
          0.0005648697347642173,
          0.0001515847860197317,
          0.007387773092637051,
          0.013914463717868975,
          0.0033678766502041046,
          0.011201705897461278,
          0.001223947587359997,
          0.0036723801605954565,
          0.00952139264779428,
          0.0012965606027849352,
          0.010727942608234509,
          0.0020917337665415925,
          0.002381568496565789,
          0.0009504871650350966,
          0.0014114092662432798,
          0.0017563996821701178,
          0.019663058073547957,
          0.006308355679454536,
          0.004684780599638172,
          0.0034405340943751694,
          0.0020180155882367767,
          0.0009839417801479344,
          0.01796217694022384,
          0.008063367516522701,
          0.0021326143045664603,
          0.0014924637646164252,
          0.003406270587000493,
          0.0003650601697241518,
          0.010593746876523369,
          0.009377616864884808,
          0.016942620903350525,
          0.00027215539920544263,
          0.0026659188366519038,
          0.01225234947017595,
          0.0062616423553158995,
          0.0008466717614055153,
          0.0045583962164091885,
          0.0046079845735667035,
          0.005768448472679322,
          0.00661387196239549,
          0.005788542826150933,
          0.003738486202149338,
          0.008072286709439158,
          0.00644611507705839,
          0.006597989509087521,
          0.012176588279931622,
          0.01320898727332398,
          0.004419685167508569,
          0.0029852772428161645,
          0.002806268343229612,
          0.003659018468557429,
          0.00971588602521345,
          0.006103255905790972,
          0.006920400196329224,
          0.010208540310697067,
          0.0013499044288910467,
          0.0008480854887642497,
          0.016078066512385747,
          0.005736585303806829,
          0.0046401692215106705,
          0.014062314406535048,
          0.0009845196853551785,
          0.01016787568363553,
          0.009379856453059277,
          0.0017824366879005682,
          0.0019174743368073344,
          0.015400079905759756,
          0.0004006211547180616,
          0.003543183163117969,
          0.005229892239827394,
          0.002357858676463098,
          0.0007009958839816477,
          0.013690398596450382,
          0.01983241178848294,
          0.0018023635950996653,
          0.0008698851985866618,
          0.003711339574851591,
          0.00005466284330413185,
          0.008489979358944688,
          0.014339823636198124,
          0.007953201726884962,
          0.002257510602612922,
          0.011678298039150437,
          0.005009504644969187,
          0.011710163129642459,
          0.003070433789507554,
          0.0000010874794215132155,
          0.00413233833418003,
          0.01236223156206806,
          0.003777689670541262,
          0.008264096985773794,
          0.013809120080228166,
          0.0066685464957422225,
          0.013196446963716801,
          0.01309751158525796,
          0.006637243283506344,
          0.016962879067710324,
          0.0041247518493733315,
          0.011536457279002321,
          0.0037777614200890097,
          0.008248935850436734,
          0.001639317809589147,
          0.005652578190740498,
          0.0067186275799753226,
          0.0062616013760598,
          0.008436718379979946,
          0.01727976505241202,
          0.0031707999797212505,
          0.012699324605818574,
          0.01671515638540233,
          0.012283689508657325,
          0.006121136526765825,
          0.015087097304268604,
          0.003918917465781324,
          0.014617581420727332,
          0.007356029138011255,
          0.006715440571608444,
          0.012191266335304873,
          0.0037648694236307456,
          0.0017898648941082618,
          0.00912659596448162,
          0.024441009154829385,
          0.011855082774401282,
          0.005090569770604403,
          0.0026541640056582105,
          0.0008521302642217066,
          0.015244453385825363,
          0.00941392506575045,
          0.014676896074603651,
          0.004963765610602189,
          0.007425060222413293,
          0.004433873010881717,
          0.0044381521601456475,
          0.006492363859688988,
          0.0012720428247514626,
          0.002702441083539342,
          0.006038134324696687,
          0.0037526615096072913,
          0.00252384341156342,
          0.00375027610538603,
          0.004860927211136401,
          0.01042029913321485,
          0.008341716983134795,
          0.01360924975365918,
          0.006353982982113537,
          0.003779329072101656,
          0.006461359592396687,
          0.04083853917566249,
          0.006330056163331155,
          0.005452323813148863,
          0.0024634654639330567,
          0.004867869718647055,
          0.013642672989553128,
          0.005166268481197167,
          0.007574393832520454,
          0.005480996767494695,
          0.00031352967282427535,
          0.0032884901093939156,
          0.0007684428502606755,
          0.0017959725881553368,
          0.01142918947336069,
          0.026757184191435246,
          0.0021041682600675404,
          0.020809224495262124,
          0.010370039470347425,
          0.00009254521685031492,
          0.0011879275056322358,
          0.012077777948124369,
          0.011056406601661739,
          0.020221366419617026,
          0.01016514339827379,
          0.013763544169604902,
          0.006615900432754285,
          0.015713474886220102,
          0.022858231149613828,
          0.007644513550070675,
          0.005623554575321599,
          0.013111901104612356,
          0.011485586363086053,
          0.009093421316283434,
          0.01736324416216617,
          0.0009808176579808592,
          0.008688459430643891,
          0.011404051097736567,
          0.006548315401143201,
          0.006122771964742424,
          0.00048023413986930663,
          0.0029060895307582157,
          0.0008098012434312185,
          0.0004906079921034312,
          0.020948066069891302,
          0.003171349611796992,
          0.007141696858523505,
          0.009543562802921346,
          0.006902731846395005,
          0.025200462318883066,
          0.007080195797547817,
          0.008415095286140262,
          0.022491593526103193,
          0.015201149721562612,
          0.0007880263937338761,
          0.019771741585255853,
          0.009935622998028637,
          0.01527357729842549,
          0.004500782394964764,
          0.01661055159187319,
          0.0010018657383041862,
          0.005261136068861805,
          0.011404864915357749,
          0.018739768148882563,
          0.018142555131667404,
          0.010460237781933501,
          0.01399855635422298,
          0.002084596487875623,
          0.026281918393704085,
          0.003600007998862398,
          0.0152791730802051,
          0.002102204829609433,
          0.013110462444959059,
          0.01413488877032043,
          0.0031698898066031544,
          0.0022752747542664764,
          0.011030779298385363,
          0.006426164323398931,
          0.0020990615967766413,
          0.02392977199509072,
          0.00906912414949923,
          0.01771869208399679,
          0.002919022735116572,
          0.00520713075586976,
          0.012692296946773762,
          0.007211748715874378,
          0.012611922054118652,
          0.0025077824659920367,
          0.006938324906323956,
          0.005779480542411064,
          0.016152958806919693,
          0.010776540572993265,
          0.0014078341293377594,
          0.014257115900372264,
          0.0014329644045889545,
          0.01524233369218242,
          0.017990120864350256,
          0.007369720551894998,
          0.0011944343868435237,
          0.005834432926611011,
          0.016657223005245192,
          0.01023354261789755,
          0.008155255433916486,
          0.0007341245901726356,
          0.014186833319510317,
          0.009622571287734139,
          0.007268826826129948,
          0.005134660541021074,
          0.001031611056125925,
          0.010718332312878553,
          0.013654539737981475,
          0.006760030522888871,
          0.004668157556797503,
          0.01663941406708569,
          0.0042842873958345296,
          0.009409904544225522,
          0.006200907663212796,
          0.009201592222192634,
          0.007564183213843112,
          0.006108650753352318,
          0.02054927236060533,
          0.0027633778686634303,
          0.014792626071801429,
          0.0018861301209708303,
          0.001432254576775649,
          0.010247951813546763,
          0.007638120913410984,
          0.015876177372417977,
          0.004567036144153436,
          0.00655543331330255,
          0.013546711337950157,
          0.004690335229664555,
          0.0014331508833772544,
          0.009633379757898686,
          0.003213376224257991,
          0.010739703015758217,
          0.004239510269715807,
          0.0031321011300244894,
          0.002547311971630495,
          0.015234567029493551,
          0.0032744239558170074,
          0.010430286248778398,
          0.0010335783796519005,
          0.009165513481474652,
          0.012095053704531233,
          0.0016752283057435147,
          0.005403544502254998,
          0.009282714892032362,
          0.02470745959836962,
          0.0030294540807312975,
          0.0032102106932414554,
          0.0018626696997550152,
          0.0072510928475816305,
          0.0029306263243141784,
          0.0021127166782091145,
          0.014625064799226317,
          0.012759800953534906,
          0.0005363363798257526,
          0.011249837221051773,
          0.0004374817890029359,
          0.007769655182324531,
          0.012827558381033888,
          0.0175022384828335,
          0.011685106094872166,
          0.010567921859016227,
          0.005940439891850557,
          0.006204549660336345,
          0.0021613515990164256,
          0.002206929668362445,
          0.005214050466855968,
          0.006675754251455279,
          0.012963568329343866,
          0.002674227583317368,
          0.006772697566980512,
          0.01615884151873137,
          0.00009500447596044737,
          0.0010296748496211316,
          0.0002775419801303025,
          0.00701768610751774,
          0.0038478925013589738,
          0.008968634077854643,
          0.008690912119243333,
          0.0027220843822406415,
          0.006845054363595393,
          0.015321645680874907,
          0.0007637621395180094,
          0.015612842293219353,
          0.0038267838116816666,
          0.0003980434900223706,
          0.011597984568694542,
          0.0010340623427927964,
          0.028130546575420134,
          0.023052169433085856,
          0.0029325230652348377,
          0.005829127780053733,
          0.02258746968462666,
          0.0023803748958260984,
          0.005356887503215946,
          0.004889797012427088,
          0.004064492473983994,
          0.0038532230253972566,
          0.004643136992587782,
          0.009538374049815168,
          0.018185949423557002,
          0.008778087565124215,
          0.004936951502146125,
          0.007529578072611454,
          0.011601411322616939,
          0.015038179710425315,
          0.0011428347513319226,
          0.005046419664330948,
          0.018512071397197793,
          0.002497744391194545,
          0.002946627236067312,
          0.007005080565561039,
          0.007653622740840249,
          0.013060266864984293,
          0.0025985085033012334,
          0.0008924562372555345,
          0.019895473995063195,
          0.004931836999895967,
          0.01789031908945382,
          0.014989033787711437,
          0.007011922358309608,
          0.005648631390302916,
          0.006520105239640528,
          0.0006576184448224831,
          0.003004777014201765,
          0.009484293160138102,
          0.008292192023001688,
          0.010085906388974109,
          0.007500035813954531,
          0.010770557855999119,
          0.012556724518665408,
          0.01354765868030161,
          0.01421167328040951,
          0.009430379279141254,
          0.001631035687170157,
          0.0036966052369292735,
          0.02082723018975774,
          0.00048379589485980645,
          0.0032358096451320373,
          0.0014445820489057404,
          0.003631311214697508,
          0.007959732492184735,
          0.010744295603291376,
          0.004211197267048439,
          0.0024378273853263854,
          0.00657898106241539,
          0.001810121940365228,
          0.001482297982477676,
          0.009547952745362909,
          0.009245838138847384
         ],
         "xaxis": "x",
         "yaxis": "y"
        }
       ],
       "layout": {
        "barmode": "relative",
        "legend": {
         "title": {
          "text": "variable"
         },
         "tracegroupgap": 0
        },
        "shapes": [
         {
          "line": {
           "color": "red"
          },
          "type": "line",
          "x0": 0.02214120356130511,
          "x1": 0.02214120356130511,
          "xref": "x",
          "y0": 0,
          "y1": 1,
          "yref": "y domain"
         }
        ],
        "template": {
         "data": {
          "bar": [
           {
            "error_x": {
             "color": "#2a3f5f"
            },
            "error_y": {
             "color": "#2a3f5f"
            },
            "marker": {
             "line": {
              "color": "#E5ECF6",
              "width": 0.5
             },
             "pattern": {
              "fillmode": "overlay",
              "size": 10,
              "solidity": 0.2
             }
            },
            "type": "bar"
           }
          ],
          "barpolar": [
           {
            "marker": {
             "line": {
              "color": "#E5ECF6",
              "width": 0.5
             },
             "pattern": {
              "fillmode": "overlay",
              "size": 10,
              "solidity": 0.2
             }
            },
            "type": "barpolar"
           }
          ],
          "carpet": [
           {
            "aaxis": {
             "endlinecolor": "#2a3f5f",
             "gridcolor": "white",
             "linecolor": "white",
             "minorgridcolor": "white",
             "startlinecolor": "#2a3f5f"
            },
            "baxis": {
             "endlinecolor": "#2a3f5f",
             "gridcolor": "white",
             "linecolor": "white",
             "minorgridcolor": "white",
             "startlinecolor": "#2a3f5f"
            },
            "type": "carpet"
           }
          ],
          "choropleth": [
           {
            "colorbar": {
             "outlinewidth": 0,
             "ticks": ""
            },
            "type": "choropleth"
           }
          ],
          "contour": [
           {
            "colorbar": {
             "outlinewidth": 0,
             "ticks": ""
            },
            "colorscale": [
             [
              0,
              "#0d0887"
             ],
             [
              0.1111111111111111,
              "#46039f"
             ],
             [
              0.2222222222222222,
              "#7201a8"
             ],
             [
              0.3333333333333333,
              "#9c179e"
             ],
             [
              0.4444444444444444,
              "#bd3786"
             ],
             [
              0.5555555555555556,
              "#d8576b"
             ],
             [
              0.6666666666666666,
              "#ed7953"
             ],
             [
              0.7777777777777778,
              "#fb9f3a"
             ],
             [
              0.8888888888888888,
              "#fdca26"
             ],
             [
              1,
              "#f0f921"
             ]
            ],
            "type": "contour"
           }
          ],
          "contourcarpet": [
           {
            "colorbar": {
             "outlinewidth": 0,
             "ticks": ""
            },
            "type": "contourcarpet"
           }
          ],
          "heatmap": [
           {
            "colorbar": {
             "outlinewidth": 0,
             "ticks": ""
            },
            "colorscale": [
             [
              0,
              "#0d0887"
             ],
             [
              0.1111111111111111,
              "#46039f"
             ],
             [
              0.2222222222222222,
              "#7201a8"
             ],
             [
              0.3333333333333333,
              "#9c179e"
             ],
             [
              0.4444444444444444,
              "#bd3786"
             ],
             [
              0.5555555555555556,
              "#d8576b"
             ],
             [
              0.6666666666666666,
              "#ed7953"
             ],
             [
              0.7777777777777778,
              "#fb9f3a"
             ],
             [
              0.8888888888888888,
              "#fdca26"
             ],
             [
              1,
              "#f0f921"
             ]
            ],
            "type": "heatmap"
           }
          ],
          "heatmapgl": [
           {
            "colorbar": {
             "outlinewidth": 0,
             "ticks": ""
            },
            "colorscale": [
             [
              0,
              "#0d0887"
             ],
             [
              0.1111111111111111,
              "#46039f"
             ],
             [
              0.2222222222222222,
              "#7201a8"
             ],
             [
              0.3333333333333333,
              "#9c179e"
             ],
             [
              0.4444444444444444,
              "#bd3786"
             ],
             [
              0.5555555555555556,
              "#d8576b"
             ],
             [
              0.6666666666666666,
              "#ed7953"
             ],
             [
              0.7777777777777778,
              "#fb9f3a"
             ],
             [
              0.8888888888888888,
              "#fdca26"
             ],
             [
              1,
              "#f0f921"
             ]
            ],
            "type": "heatmapgl"
           }
          ],
          "histogram": [
           {
            "marker": {
             "pattern": {
              "fillmode": "overlay",
              "size": 10,
              "solidity": 0.2
             }
            },
            "type": "histogram"
           }
          ],
          "histogram2d": [
           {
            "colorbar": {
             "outlinewidth": 0,
             "ticks": ""
            },
            "colorscale": [
             [
              0,
              "#0d0887"
             ],
             [
              0.1111111111111111,
              "#46039f"
             ],
             [
              0.2222222222222222,
              "#7201a8"
             ],
             [
              0.3333333333333333,
              "#9c179e"
             ],
             [
              0.4444444444444444,
              "#bd3786"
             ],
             [
              0.5555555555555556,
              "#d8576b"
             ],
             [
              0.6666666666666666,
              "#ed7953"
             ],
             [
              0.7777777777777778,
              "#fb9f3a"
             ],
             [
              0.8888888888888888,
              "#fdca26"
             ],
             [
              1,
              "#f0f921"
             ]
            ],
            "type": "histogram2d"
           }
          ],
          "histogram2dcontour": [
           {
            "colorbar": {
             "outlinewidth": 0,
             "ticks": ""
            },
            "colorscale": [
             [
              0,
              "#0d0887"
             ],
             [
              0.1111111111111111,
              "#46039f"
             ],
             [
              0.2222222222222222,
              "#7201a8"
             ],
             [
              0.3333333333333333,
              "#9c179e"
             ],
             [
              0.4444444444444444,
              "#bd3786"
             ],
             [
              0.5555555555555556,
              "#d8576b"
             ],
             [
              0.6666666666666666,
              "#ed7953"
             ],
             [
              0.7777777777777778,
              "#fb9f3a"
             ],
             [
              0.8888888888888888,
              "#fdca26"
             ],
             [
              1,
              "#f0f921"
             ]
            ],
            "type": "histogram2dcontour"
           }
          ],
          "mesh3d": [
           {
            "colorbar": {
             "outlinewidth": 0,
             "ticks": ""
            },
            "type": "mesh3d"
           }
          ],
          "parcoords": [
           {
            "line": {
             "colorbar": {
              "outlinewidth": 0,
              "ticks": ""
             }
            },
            "type": "parcoords"
           }
          ],
          "pie": [
           {
            "automargin": true,
            "type": "pie"
           }
          ],
          "scatter": [
           {
            "fillpattern": {
             "fillmode": "overlay",
             "size": 10,
             "solidity": 0.2
            },
            "type": "scatter"
           }
          ],
          "scatter3d": [
           {
            "line": {
             "colorbar": {
              "outlinewidth": 0,
              "ticks": ""
             }
            },
            "marker": {
             "colorbar": {
              "outlinewidth": 0,
              "ticks": ""
             }
            },
            "type": "scatter3d"
           }
          ],
          "scattercarpet": [
           {
            "marker": {
             "colorbar": {
              "outlinewidth": 0,
              "ticks": ""
             }
            },
            "type": "scattercarpet"
           }
          ],
          "scattergeo": [
           {
            "marker": {
             "colorbar": {
              "outlinewidth": 0,
              "ticks": ""
             }
            },
            "type": "scattergeo"
           }
          ],
          "scattergl": [
           {
            "marker": {
             "colorbar": {
              "outlinewidth": 0,
              "ticks": ""
             }
            },
            "type": "scattergl"
           }
          ],
          "scattermapbox": [
           {
            "marker": {
             "colorbar": {
              "outlinewidth": 0,
              "ticks": ""
             }
            },
            "type": "scattermapbox"
           }
          ],
          "scatterpolar": [
           {
            "marker": {
             "colorbar": {
              "outlinewidth": 0,
              "ticks": ""
             }
            },
            "type": "scatterpolar"
           }
          ],
          "scatterpolargl": [
           {
            "marker": {
             "colorbar": {
              "outlinewidth": 0,
              "ticks": ""
             }
            },
            "type": "scatterpolargl"
           }
          ],
          "scatterternary": [
           {
            "marker": {
             "colorbar": {
              "outlinewidth": 0,
              "ticks": ""
             }
            },
            "type": "scatterternary"
           }
          ],
          "surface": [
           {
            "colorbar": {
             "outlinewidth": 0,
             "ticks": ""
            },
            "colorscale": [
             [
              0,
              "#0d0887"
             ],
             [
              0.1111111111111111,
              "#46039f"
             ],
             [
              0.2222222222222222,
              "#7201a8"
             ],
             [
              0.3333333333333333,
              "#9c179e"
             ],
             [
              0.4444444444444444,
              "#bd3786"
             ],
             [
              0.5555555555555556,
              "#d8576b"
             ],
             [
              0.6666666666666666,
              "#ed7953"
             ],
             [
              0.7777777777777778,
              "#fb9f3a"
             ],
             [
              0.8888888888888888,
              "#fdca26"
             ],
             [
              1,
              "#f0f921"
             ]
            ],
            "type": "surface"
           }
          ],
          "table": [
           {
            "cells": {
             "fill": {
              "color": "#EBF0F8"
             },
             "line": {
              "color": "white"
             }
            },
            "header": {
             "fill": {
              "color": "#C8D4E3"
             },
             "line": {
              "color": "white"
             }
            },
            "type": "table"
           }
          ]
         },
         "layout": {
          "annotationdefaults": {
           "arrowcolor": "#2a3f5f",
           "arrowhead": 0,
           "arrowwidth": 1
          },
          "autotypenumbers": "strict",
          "coloraxis": {
           "colorbar": {
            "outlinewidth": 0,
            "ticks": ""
           }
          },
          "colorscale": {
           "diverging": [
            [
             0,
             "#8e0152"
            ],
            [
             0.1,
             "#c51b7d"
            ],
            [
             0.2,
             "#de77ae"
            ],
            [
             0.3,
             "#f1b6da"
            ],
            [
             0.4,
             "#fde0ef"
            ],
            [
             0.5,
             "#f7f7f7"
            ],
            [
             0.6,
             "#e6f5d0"
            ],
            [
             0.7,
             "#b8e186"
            ],
            [
             0.8,
             "#7fbc41"
            ],
            [
             0.9,
             "#4d9221"
            ],
            [
             1,
             "#276419"
            ]
           ],
           "sequential": [
            [
             0,
             "#0d0887"
            ],
            [
             0.1111111111111111,
             "#46039f"
            ],
            [
             0.2222222222222222,
             "#7201a8"
            ],
            [
             0.3333333333333333,
             "#9c179e"
            ],
            [
             0.4444444444444444,
             "#bd3786"
            ],
            [
             0.5555555555555556,
             "#d8576b"
            ],
            [
             0.6666666666666666,
             "#ed7953"
            ],
            [
             0.7777777777777778,
             "#fb9f3a"
            ],
            [
             0.8888888888888888,
             "#fdca26"
            ],
            [
             1,
             "#f0f921"
            ]
           ],
           "sequentialminus": [
            [
             0,
             "#0d0887"
            ],
            [
             0.1111111111111111,
             "#46039f"
            ],
            [
             0.2222222222222222,
             "#7201a8"
            ],
            [
             0.3333333333333333,
             "#9c179e"
            ],
            [
             0.4444444444444444,
             "#bd3786"
            ],
            [
             0.5555555555555556,
             "#d8576b"
            ],
            [
             0.6666666666666666,
             "#ed7953"
            ],
            [
             0.7777777777777778,
             "#fb9f3a"
            ],
            [
             0.8888888888888888,
             "#fdca26"
            ],
            [
             1,
             "#f0f921"
            ]
           ]
          },
          "colorway": [
           "#636efa",
           "#EF553B",
           "#00cc96",
           "#ab63fa",
           "#FFA15A",
           "#19d3f3",
           "#FF6692",
           "#B6E880",
           "#FF97FF",
           "#FECB52"
          ],
          "font": {
           "color": "#2a3f5f"
          },
          "geo": {
           "bgcolor": "white",
           "lakecolor": "white",
           "landcolor": "#E5ECF6",
           "showlakes": true,
           "showland": true,
           "subunitcolor": "white"
          },
          "hoverlabel": {
           "align": "left"
          },
          "hovermode": "closest",
          "mapbox": {
           "style": "light"
          },
          "paper_bgcolor": "white",
          "plot_bgcolor": "#E5ECF6",
          "polar": {
           "angularaxis": {
            "gridcolor": "white",
            "linecolor": "white",
            "ticks": ""
           },
           "bgcolor": "#E5ECF6",
           "radialaxis": {
            "gridcolor": "white",
            "linecolor": "white",
            "ticks": ""
           }
          },
          "scene": {
           "xaxis": {
            "backgroundcolor": "#E5ECF6",
            "gridcolor": "white",
            "gridwidth": 2,
            "linecolor": "white",
            "showbackground": true,
            "ticks": "",
            "zerolinecolor": "white"
           },
           "yaxis": {
            "backgroundcolor": "#E5ECF6",
            "gridcolor": "white",
            "gridwidth": 2,
            "linecolor": "white",
            "showbackground": true,
            "ticks": "",
            "zerolinecolor": "white"
           },
           "zaxis": {
            "backgroundcolor": "#E5ECF6",
            "gridcolor": "white",
            "gridwidth": 2,
            "linecolor": "white",
            "showbackground": true,
            "ticks": "",
            "zerolinecolor": "white"
           }
          },
          "shapedefaults": {
           "line": {
            "color": "#2a3f5f"
           }
          },
          "ternary": {
           "aaxis": {
            "gridcolor": "white",
            "linecolor": "white",
            "ticks": ""
           },
           "baxis": {
            "gridcolor": "white",
            "linecolor": "white",
            "ticks": ""
           },
           "bgcolor": "#E5ECF6",
           "caxis": {
            "gridcolor": "white",
            "linecolor": "white",
            "ticks": ""
           }
          },
          "title": {
           "x": 0.05
          },
          "xaxis": {
           "automargin": true,
           "gridcolor": "white",
           "linecolor": "white",
           "ticks": "",
           "title": {
            "standoff": 15
           },
           "zerolinecolor": "white",
           "zerolinewidth": 2
          },
          "yaxis": {
           "automargin": true,
           "gridcolor": "white",
           "linecolor": "white",
           "ticks": "",
           "title": {
            "standoff": 15
           },
           "zerolinecolor": "white",
           "zerolinewidth": 2
          }
         }
        },
        "title": {
         "text": "Difference in RMSE (Simple - Complex)"
        },
        "xaxis": {
         "anchor": "y",
         "domain": [
          0,
          1
         ],
         "range": [
          -0.01,
          0.05
         ],
         "title": {
          "text": "value"
         }
        },
        "yaxis": {
         "anchor": "x",
         "domain": [
          0,
          1
         ],
         "title": {
          "text": "probability"
         }
        }
       }
      }
     },
     "metadata": {},
     "output_type": "display_data"
    }
   ],
   "source": [
    "rmse_diff_series = pd.Series(rmse_differences)\n",
    "\n",
    "fig = px.histogram(rmse_diff_series,  nbins=29,  histnorm='probability', title=\"Difference in RMSE (Simple - Complex)\", color_discrete_sequence=['darkblue'])\n",
    "\n",
    "fig.add_vline(x=observed_difference, line_color='red')\n",
    "fig.update_layout(xaxis_range=[-0.01, 0.05])\n",
    "\n",
    "fig.show()"
   ]
  },
  {
   "cell_type": "markdown",
   "metadata": {},
   "source": [
    "##### Since our `p-value (0.023)` is below the common threshold of 0.05, we reject the null hypothesis. This suggests that our model is **not fair**, it appears to predict ratings slightly better for one group over the other. \\\n",
    "##### And our `RMSE (Simple - Complex) = -0.0221`, this means that the RMSE for Complex recipes is higher, indicating that the model performs worse on Complex recipes and better on Simple recipes."
   ]
  }
 ],
 "metadata": {
  "kernelspec": {
   "display_name": "dsc80",
   "language": "python",
   "name": "python3"
  },
  "language_info": {
   "codemirror_mode": {
    "name": "ipython",
    "version": 3
   },
   "file_extension": ".py",
   "mimetype": "text/x-python",
   "name": "python",
   "nbconvert_exporter": "python",
   "pygments_lexer": "ipython3",
   "version": "3.12.8"
  }
 },
 "nbformat": 4,
 "nbformat_minor": 2
}
